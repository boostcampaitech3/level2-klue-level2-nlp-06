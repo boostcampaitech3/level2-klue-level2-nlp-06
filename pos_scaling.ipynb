{
 "cells": [
  {
   "cell_type": "markdown",
   "id": "9e7364a6-86a8-4d7e-9c76-ee7d7aae22f0",
   "metadata": {},
   "source": [
    "# 품사 스케일링에 따른 성능 차이\n",
    "Relation Extraction은 문장 내의 2가지 명사(로 추정되는) entity의 관계를 파악한다. 여기서 문장의 길이는 100에서 400 이상까지 분포하며, 문장의 길이가 학습에 영향을 미칠 수도 있다고 가정한다. 따라서 문장의 길이를 줄이는 목적에서 출발한다. 이 때, 문장 구성 성분 중에서 관계 구분에 대한 영향이 다소 작아 보이는 **형용사 혹은 부사**를 제외한 데이터의 학습 성능을 비교한다.\n",
    "\n",
    "이를 위해 확인해야하는 사안이 있다.\n",
    "1. subject_entity와 object_entity에 형용사 및 부사가 포함되지 않았는지\n",
    "2. sentence에 대해 pos tagging이 잘 수행되는지\n",
    "\n",
    "품사 스케일링은 다음과 같이 진행한다.\n",
    "1. 개별 sentence에 대해 pos-tagging을 수행한다.\n",
    "2. 이 중 형용사, 부사를 문장에서 제거한다\n",
    "3. 스케일링된 train set으로 baseline을 학습하고 성능을 확인한다.\n",
    "\n",
    "**<u>삽질을 너무 오래 해서 성능 차이가 유의하면 더 나은 형태소 분석기를 찾아보겠습니다(예: Mecab, Khaiii ...)</u>**"
   ]
  },
  {
   "cell_type": "markdown",
   "id": "530ed9a2-d2ef-4faf-b767-40496c30b17d",
   "metadata": {},
   "source": [
    "## 1-1. subject & object entity의 품사 확인하기"
   ]
  },
  {
   "cell_type": "code",
   "execution_count": 2,
   "id": "2aa28e73",
   "metadata": {},
   "outputs": [
    {
     "data": {
      "text/plain": [
       "['STIXNonUnicode',\n",
       " 'cmb10',\n",
       " 'STIXGeneral',\n",
       " 'DejaVu Sans',\n",
       " 'STIXGeneral',\n",
       " 'STIXSizeFourSym',\n",
       " 'DejaVu Sans',\n",
       " 'DejaVu Serif',\n",
       " 'STIXGeneral',\n",
       " 'DejaVu Sans',\n",
       " 'cmsy10',\n",
       " 'DejaVu Serif Display',\n",
       " 'DejaVu Serif',\n",
       " 'STIXGeneral',\n",
       " 'cmtt10',\n",
       " 'STIXSizeOneSym',\n",
       " 'STIXNonUnicode',\n",
       " 'DejaVu Sans Display',\n",
       " 'DejaVu Sans Mono',\n",
       " 'STIXSizeFourSym',\n",
       " 'STIXSizeTwoSym',\n",
       " 'STIXSizeFiveSym',\n",
       " 'cmr10',\n",
       " 'DejaVu Sans Mono',\n",
       " 'STIXSizeThreeSym',\n",
       " 'STIXNonUnicode',\n",
       " 'STIXSizeTwoSym',\n",
       " 'STIXSizeOneSym']"
      ]
     },
     "execution_count": 2,
     "metadata": {},
     "output_type": "execute_result"
    }
   ],
   "source": [
    "import matplotlib.font_manager as fm\n",
    "\n",
    "# 설치된 폰트 출력\n",
    "font_list = [font.name for font in fm.fontManager.ttflist]\n",
    "font_list[10:]"
   ]
  },
  {
   "cell_type": "code",
   "execution_count": 2,
   "id": "e52478af-cd68-4250-a92e-c46284e04ced",
   "metadata": {},
   "outputs": [],
   "source": [
    "import pandas as pd\n",
    "import matplotlib.pyplot as plt\n",
    "import numpy as np\n",
    "import seaborn as sns\n",
    "from ast import literal_eval\n",
    "from collections import defaultdict\n",
    "import warnings\n",
    "\n",
    "warnings.filterwarnings('ignore')\n",
    "pd.set_option('display.float_format', lambda x: '%.4f' % x) #4자리까지만\n",
    "\n",
    "# plt.rcParams['font.family'] = 'NanumGothic' #폰트 나눔고딕 설정"
   ]
  },
  {
   "cell_type": "code",
   "execution_count": 97,
   "id": "04adc664-3311-48df-bef7-2cd9b155c349",
   "metadata": {},
   "outputs": [
    {
     "name": "stdout",
     "output_type": "stream",
     "text": [
      "Index(['id', 'sentence', 'subject_entity', 'object_entity', 'label', 'source'], dtype='object')\n"
     ]
    },
    {
     "data": {
      "text/html": [
       "<div>\n",
       "<style scoped>\n",
       "    .dataframe tbody tr th:only-of-type {\n",
       "        vertical-align: middle;\n",
       "    }\n",
       "\n",
       "    .dataframe tbody tr th {\n",
       "        vertical-align: top;\n",
       "    }\n",
       "\n",
       "    .dataframe thead th {\n",
       "        text-align: right;\n",
       "    }\n",
       "</style>\n",
       "<table border=\"1\" class=\"dataframe\">\n",
       "  <thead>\n",
       "    <tr style=\"text-align: right;\">\n",
       "      <th></th>\n",
       "      <th>id</th>\n",
       "      <th>sentence</th>\n",
       "      <th>subject_entity</th>\n",
       "      <th>object_entity</th>\n",
       "      <th>label</th>\n",
       "      <th>source</th>\n",
       "    </tr>\n",
       "  </thead>\n",
       "  <tbody>\n",
       "    <tr>\n",
       "      <th>0</th>\n",
       "      <td>0</td>\n",
       "      <td>〈Something〉는 조지 해리슨이 쓰고 비틀즈가 1969년 앨범 《Abbey R...</td>\n",
       "      <td>{'word': '비틀즈', 'start_idx': 24, 'end_idx': 26...</td>\n",
       "      <td>{'word': '조지 해리슨', 'start_idx': 13, 'end_idx':...</td>\n",
       "      <td>no_relation</td>\n",
       "      <td>wikipedia</td>\n",
       "    </tr>\n",
       "    <tr>\n",
       "      <th>1</th>\n",
       "      <td>1</td>\n",
       "      <td>호남이 기반인 바른미래당·대안신당·민주평화당이 우여곡절 끝에 합당해 민생당(가칭)으...</td>\n",
       "      <td>{'word': '민주평화당', 'start_idx': 19, 'end_idx': ...</td>\n",
       "      <td>{'word': '대안신당', 'start_idx': 14, 'end_idx': 1...</td>\n",
       "      <td>no_relation</td>\n",
       "      <td>wikitree</td>\n",
       "    </tr>\n",
       "    <tr>\n",
       "      <th>2</th>\n",
       "      <td>2</td>\n",
       "      <td>K리그2에서 성적 1위를 달리고 있는 광주FC는 지난 26일 한국프로축구연맹으로부터...</td>\n",
       "      <td>{'word': '광주FC', 'start_idx': 21, 'end_idx': 2...</td>\n",
       "      <td>{'word': '한국프로축구연맹', 'start_idx': 34, 'end_idx...</td>\n",
       "      <td>org:member_of</td>\n",
       "      <td>wikitree</td>\n",
       "    </tr>\n",
       "    <tr>\n",
       "      <th>3</th>\n",
       "      <td>3</td>\n",
       "      <td>균일가 생활용품점 (주)아성다이소(대표 박정부)는 코로나19 바이러스로 어려움을 겪...</td>\n",
       "      <td>{'word': '아성다이소', 'start_idx': 13, 'end_idx': ...</td>\n",
       "      <td>{'word': '박정부', 'start_idx': 22, 'end_idx': 24...</td>\n",
       "      <td>org:top_members/employees</td>\n",
       "      <td>wikitree</td>\n",
       "    </tr>\n",
       "    <tr>\n",
       "      <th>4</th>\n",
       "      <td>4</td>\n",
       "      <td>1967년 프로 야구 드래프트 1순위로 요미우리 자이언츠에게 입단하면서 등번호는 8...</td>\n",
       "      <td>{'word': '요미우리 자이언츠', 'start_idx': 22, 'end_id...</td>\n",
       "      <td>{'word': '1967', 'start_idx': 0, 'end_idx': 3,...</td>\n",
       "      <td>no_relation</td>\n",
       "      <td>wikipedia</td>\n",
       "    </tr>\n",
       "  </tbody>\n",
       "</table>\n",
       "</div>"
      ],
      "text/plain": [
       "   id                                           sentence  \\\n",
       "0   0  〈Something〉는 조지 해리슨이 쓰고 비틀즈가 1969년 앨범 《Abbey R...   \n",
       "1   1  호남이 기반인 바른미래당·대안신당·민주평화당이 우여곡절 끝에 합당해 민생당(가칭)으...   \n",
       "2   2  K리그2에서 성적 1위를 달리고 있는 광주FC는 지난 26일 한국프로축구연맹으로부터...   \n",
       "3   3  균일가 생활용품점 (주)아성다이소(대표 박정부)는 코로나19 바이러스로 어려움을 겪...   \n",
       "4   4  1967년 프로 야구 드래프트 1순위로 요미우리 자이언츠에게 입단하면서 등번호는 8...   \n",
       "\n",
       "                                      subject_entity  \\\n",
       "0  {'word': '비틀즈', 'start_idx': 24, 'end_idx': 26...   \n",
       "1  {'word': '민주평화당', 'start_idx': 19, 'end_idx': ...   \n",
       "2  {'word': '광주FC', 'start_idx': 21, 'end_idx': 2...   \n",
       "3  {'word': '아성다이소', 'start_idx': 13, 'end_idx': ...   \n",
       "4  {'word': '요미우리 자이언츠', 'start_idx': 22, 'end_id...   \n",
       "\n",
       "                                       object_entity  \\\n",
       "0  {'word': '조지 해리슨', 'start_idx': 13, 'end_idx':...   \n",
       "1  {'word': '대안신당', 'start_idx': 14, 'end_idx': 1...   \n",
       "2  {'word': '한국프로축구연맹', 'start_idx': 34, 'end_idx...   \n",
       "3  {'word': '박정부', 'start_idx': 22, 'end_idx': 24...   \n",
       "4  {'word': '1967', 'start_idx': 0, 'end_idx': 3,...   \n",
       "\n",
       "                       label     source  \n",
       "0                no_relation  wikipedia  \n",
       "1                no_relation   wikitree  \n",
       "2              org:member_of   wikitree  \n",
       "3  org:top_members/employees   wikitree  \n",
       "4                no_relation  wikipedia  "
      ]
     },
     "execution_count": 97,
     "metadata": {},
     "output_type": "execute_result"
    }
   ],
   "source": [
    "df = pd.read_csv('./dataset/train/train.csv')\n",
    "test = pd.read_csv('./dataset/test/test_data.csv')\n",
    "print(test.columns)\n",
    "df.head()"
   ]
  },
  {
   "cell_type": "code",
   "execution_count": 5,
   "id": "f8ead7b8-a75a-4fe2-986e-efa1ffc3ebb6",
   "metadata": {},
   "outputs": [
    {
     "data": {
      "text/plain": [
       "\"{'word': '비틀즈', 'start_idx': 24, 'end_idx': 26, 'type': 'ORG'}\""
      ]
     },
     "execution_count": 5,
     "metadata": {},
     "output_type": "execute_result"
    }
   ],
   "source": [
    "df.loc[0,'subject_entity'] "
   ]
  },
  {
   "cell_type": "markdown",
   "id": "00890d7e-266b-46cd-8cb7-ad0226944cce",
   "metadata": {},
   "source": [
    "## 1-2. 품사 태깅 확인"
   ]
  },
  {
   "cell_type": "code",
   "execution_count": 98,
   "id": "418377ee-845e-4081-8767-f9a8ff67e84d",
   "metadata": {},
   "outputs": [],
   "source": [
    "import konlpy\n",
    "from konlpy.tag import Kkma, Komoran, Okt, Hannanum#, Mecab\n",
    "\n",
    "# mec = Mecab()\n",
    "okt = Okt()\n",
    "kkm = Kkma()\n",
    "kom = Komoran()\n",
    "han = Hannanum()"
   ]
  },
  {
   "cell_type": "code",
   "execution_count": 99,
   "id": "6aef4051",
   "metadata": {},
   "outputs": [
    {
     "name": "stdout",
     "output_type": "stream",
     "text": [
      "32470 12052\n",
      "32470 10226\n"
     ]
    }
   ],
   "source": [
    "from ast import literal_eval\n",
    "\n",
    "subject_entity = [literal_eval(entity)['word'] for entity in df['subject_entity']]\n",
    "object_entity = [literal_eval(entity)['word'] for entity in df['object_entity']]\n",
    "\n",
    "print(len(subject_entity),len(set(subject_entity)))\n",
    "print(len(object_entity),len(set(object_entity)))\n",
    "\n",
    "# print(literal_eval(df.loc[1600,'object_entity']))"
   ]
  },
  {
   "cell_type": "markdown",
   "id": "23c2e9b6",
   "metadata": {},
   "source": [
    "- subject와 object는 각각 32,470개\n",
    "    - subject 고유값은 12,052개\n",
    "    - object 고유값은 10,226개"
   ]
  },
  {
   "cell_type": "code",
   "execution_count": 100,
   "id": "c818a0f4",
   "metadata": {},
   "outputs": [
    {
     "name": "stdout",
     "output_type": "stream",
     "text": [
      "12052 10226\n"
     ]
    }
   ],
   "source": [
    "subject_entity = list(set(subject_entity))\n",
    "object_entity = list(set(object_entity))\n",
    "\n",
    "print(len(subject_entity),len(object_entity))"
   ]
  },
  {
   "cell_type": "code",
   "execution_count": 101,
   "id": "dced02a3",
   "metadata": {},
   "outputs": [
    {
     "name": "stdout",
     "output_type": "stream",
     "text": [
      "최영호\n",
      "Okt의 최영호 품사 태깅 결과 | [('최영호', 'Noun')]\n",
      "Komoran의 최영호 품사 태깅 결과 | [('최영호', 'NNP')]\n",
      "KKma의 최영호 품사 태깅 결과 | [('최', 'NNP'), ('영호', 'NNG')]\n",
      "Hannanum의 최영호 품사 태깅 결과 | [('최영호', 'N')]\n"
     ]
    }
   ],
   "source": [
    "sample = subject_entity[0]\n",
    "print(sample)\n",
    "\n",
    "print(f'Okt의 {sample} 품사 태깅 결과 | {okt.pos(sample)}')\n",
    "print(f'Komoran의 {sample} 품사 태깅 결과 | {kom.pos(sample)}')\n",
    "print(f'KKma의 {sample} 품사 태깅 결과 | {kkm.pos(sample)}')\n",
    "print(f'Hannanum의 {sample} 품사 태깅 결과 | {han.pos(sample)}')"
   ]
  },
  {
   "cell_type": "markdown",
   "id": "7cb3b7da",
   "metadata": {},
   "source": [
    "- 꼬꼬마(KKma)와 한나눔(Hannanum)은 신사임당을 명사로 태깅하지 않았다."
   ]
  },
  {
   "cell_type": "code",
   "execution_count": 102,
   "id": "d4273451",
   "metadata": {},
   "outputs": [],
   "source": [
    "# okt로 해보자\n",
    "subject_pos = []\n",
    "subject_wd = [] \n",
    "subject_origin = [] #원형 단어\n",
    "subject_idx = [] #원형 단어의 파생 중 몇 번째인지\n",
    "\n",
    "for ent in subject_entity:\n",
    "    poslist = okt.pos(ent,norm=True)\n",
    "    for idx,(wd,po) in enumerate(poslist):\n",
    "        # print(tg)\n",
    "        # wd, po = tg\n",
    "        subject_origin.append(ent)\n",
    "        subject_idx.append(idx)\n",
    "        subject_pos.append(po)\n",
    "        subject_wd.append(wd)"
   ]
  },
  {
   "cell_type": "code",
   "execution_count": 103,
   "id": "74bccbb7",
   "metadata": {},
   "outputs": [],
   "source": [
    "# okt로 해보자\n",
    "object_pos = []\n",
    "object_wd = []\n",
    "object_origin = []\n",
    "object_idx = []\n",
    "\n",
    "for ent in object_entity:\n",
    "    poslist = okt.pos(ent,norm=True)\n",
    "    for idx,(wd,po) in enumerate(poslist):\n",
    "        # print(tg)\n",
    "        # wd, po = tg\n",
    "        object_origin.append(ent)\n",
    "        object_idx.append(idx)\n",
    "        object_pos.append(po)\n",
    "        object_wd.append(wd)"
   ]
  },
  {
   "cell_type": "code",
   "execution_count": 104,
   "id": "cbaa92fe",
   "metadata": {},
   "outputs": [
    {
     "data": {
      "text/html": [
       "<div>\n",
       "<style scoped>\n",
       "    .dataframe tbody tr th:only-of-type {\n",
       "        vertical-align: middle;\n",
       "    }\n",
       "\n",
       "    .dataframe tbody tr th {\n",
       "        vertical-align: top;\n",
       "    }\n",
       "\n",
       "    .dataframe thead th {\n",
       "        text-align: right;\n",
       "    }\n",
       "</style>\n",
       "<table border=\"1\" class=\"dataframe\">\n",
       "  <thead>\n",
       "    <tr style=\"text-align: right;\">\n",
       "      <th></th>\n",
       "      <th>origin</th>\n",
       "      <th>idx</th>\n",
       "      <th>word</th>\n",
       "      <th>pos</th>\n",
       "      <th>tag</th>\n",
       "    </tr>\n",
       "  </thead>\n",
       "  <tbody>\n",
       "    <tr>\n",
       "      <th>0</th>\n",
       "      <td>최영호</td>\n",
       "      <td>0</td>\n",
       "      <td>최영호</td>\n",
       "      <td>Noun</td>\n",
       "      <td>명사</td>\n",
       "    </tr>\n",
       "    <tr>\n",
       "      <th>1</th>\n",
       "      <td>발렌시아가</td>\n",
       "      <td>0</td>\n",
       "      <td>발렌시아</td>\n",
       "      <td>Noun</td>\n",
       "      <td>명사</td>\n",
       "    </tr>\n",
       "    <tr>\n",
       "      <th>2</th>\n",
       "      <td>발렌시아가</td>\n",
       "      <td>1</td>\n",
       "      <td>가</td>\n",
       "      <td>Josa</td>\n",
       "      <td>조사</td>\n",
       "    </tr>\n",
       "    <tr>\n",
       "      <th>3</th>\n",
       "      <td>내셔널 리그</td>\n",
       "      <td>0</td>\n",
       "      <td>내셔널</td>\n",
       "      <td>Noun</td>\n",
       "      <td>명사</td>\n",
       "    </tr>\n",
       "    <tr>\n",
       "      <th>4</th>\n",
       "      <td>내셔널 리그</td>\n",
       "      <td>1</td>\n",
       "      <td>리그</td>\n",
       "      <td>Noun</td>\n",
       "      <td>명사</td>\n",
       "    </tr>\n",
       "  </tbody>\n",
       "</table>\n",
       "</div>"
      ],
      "text/plain": [
       "   origin  idx  word   pos tag\n",
       "0     최영호    0   최영호  Noun  명사\n",
       "1   발렌시아가    0  발렌시아  Noun  명사\n",
       "2   발렌시아가    1     가  Josa  조사\n",
       "3  내셔널 리그    0   내셔널  Noun  명사\n",
       "4  내셔널 리그    1    리그  Noun  명사"
      ]
     },
     "execution_count": 104,
     "metadata": {},
     "output_type": "execute_result"
    }
   ],
   "source": [
    "subject = pd.DataFrame({'origin':subject_origin,'idx':subject_idx,'word':subject_wd,'pos':subject_pos})\n",
    "object = pd.DataFrame({'origin':object_origin,'idx':object_idx,'word':object_wd,'pos':object_pos})\n",
    "\n",
    "tagsets = Okt().tagset\n",
    "subject[\"tag\"] = subject[\"pos\"].map(tagsets)\n",
    "object[\"tag\"] = object[\"pos\"].map(tagsets)\n",
    "\n",
    "subject.head()"
   ]
  },
  {
   "cell_type": "code",
   "execution_count": 13,
   "id": "d2be65ee",
   "metadata": {},
   "outputs": [
    {
     "data": {
      "image/png": "[encoded data removed]",
      "text/plain": [
       "<Figure size 1440x720 with 2 Axes>"
      ]
     },
     "metadata": {
      "needs_background": "light"
     },
     "output_type": "display_data"
    }
   ],
   "source": [
    "# from collections import Counter\n",
    "\n",
    "# subject_pos_okt = Counter(subject_pos_okt)\n",
    "# object_pos_okt = Counter(object_pos_okt)\n",
    "\n",
    "import seaborn as sns\n",
    "\n",
    "# plt.figure(figsize=(20,10))\n",
    "fig, ax = plt.subplots(2,1)\n",
    "fig.set_size_inches(20,10)\n",
    "\n",
    "# plt.subplot(2,1,1)\n",
    "sns.countplot(y='pos',data=subject,order=subject['pos'].value_counts().index,ax=ax[0])\n",
    "# plt.bar(subject_pos_okt.keys(), subject_pos_okt.values(), width=0.7, edgecolor='black', linewidth=2, color='royalblue')\n",
    "ax[0].set_title('subject pos')\n",
    "\n",
    "# plt.subplot(2,1,2)\n",
    "sns.countplot(y='pos',data=object,order=object['pos'].value_counts().index,ax=ax[1])\n",
    "# plt.bar(object_pos_okt.keys(), object_pos_okt.values(), width=0.7, edgecolor='black', linewidth=2, color='royalblue')\n",
    "ax[1].set_title('object pos')\n",
    "\n",
    "plt.show()"
   ]
  },
  {
   "cell_type": "code",
   "execution_count": 14,
   "id": "52e6e4c4",
   "metadata": {},
   "outputs": [
    {
     "data": {
      "text/plain": [
       "명사                21314\n",
       "알파벳                 948\n",
       "조사                  802\n",
       "동사                  590\n",
       "숫자                  544\n",
       "접미사                 253\n",
       "구두점                 165\n",
       "관형사                 143\n",
       "부사                  136\n",
       "형용사                 109\n",
       "감탄사                  90\n",
       "어미                    8\n",
       "외국어, 한자 및 기타기호        6\n",
       "Name: tag, dtype: int64"
      ]
     },
     "execution_count": 14,
     "metadata": {},
     "output_type": "execute_result"
    }
   ],
   "source": [
    "subject['tag'].value_counts()"
   ]
  },
  {
   "cell_type": "markdown",
   "id": "00302619",
   "metadata": {},
   "source": [
    "- 명사가 대부분이지만 형용사/부사인 경우도 존재한다. entity인 경우에는 제거하면 안되기 때문에 처리 시 entity 여부를 확인할 필요가 있다."
   ]
  },
  {
   "cell_type": "markdown",
   "id": "7bafd701",
   "metadata": {},
   "source": [
    "## 1-3. 형용사/부사 태깅 확인하기"
   ]
  },
  {
   "cell_type": "code",
   "execution_count": 15,
   "id": "2bfb7201",
   "metadata": {},
   "outputs": [
    {
     "data": {
      "text/html": [
       "<div>\n",
       "<style scoped>\n",
       "    .dataframe tbody tr th:only-of-type {\n",
       "        vertical-align: middle;\n",
       "    }\n",
       "\n",
       "    .dataframe tbody tr th {\n",
       "        vertical-align: top;\n",
       "    }\n",
       "\n",
       "    .dataframe thead th {\n",
       "        text-align: right;\n",
       "    }\n",
       "</style>\n",
       "<table border=\"1\" class=\"dataframe\">\n",
       "  <thead>\n",
       "    <tr style=\"text-align: right;\">\n",
       "      <th></th>\n",
       "      <th>origin</th>\n",
       "      <th>idx</th>\n",
       "      <th>word</th>\n",
       "      <th>pos</th>\n",
       "      <th>tag</th>\n",
       "    </tr>\n",
       "  </thead>\n",
       "  <tbody>\n",
       "    <tr>\n",
       "      <th>264</th>\n",
       "      <td>아슈라프 하키미</td>\n",
       "      <td>2</td>\n",
       "      <td>미</td>\n",
       "      <td>Adjective</td>\n",
       "      <td>형용사</td>\n",
       "    </tr>\n",
       "    <tr>\n",
       "      <th>300</th>\n",
       "      <td>미 해병1사단</td>\n",
       "      <td>0</td>\n",
       "      <td>미</td>\n",
       "      <td>Adjective</td>\n",
       "      <td>형용사</td>\n",
       "    </tr>\n",
       "    <tr>\n",
       "      <th>571</th>\n",
       "      <td>미야와키 사쿠라</td>\n",
       "      <td>0</td>\n",
       "      <td>미야와</td>\n",
       "      <td>Adjective</td>\n",
       "      <td>형용사</td>\n",
       "    </tr>\n",
       "    <tr>\n",
       "      <th>981</th>\n",
       "      <td>제이크 디크먼</td>\n",
       "      <td>3</td>\n",
       "      <td>먼</td>\n",
       "      <td>Adjective</td>\n",
       "      <td>형용사</td>\n",
       "    </tr>\n",
       "    <tr>\n",
       "      <th>1214</th>\n",
       "      <td>미쓰이 히사시</td>\n",
       "      <td>0</td>\n",
       "      <td>미</td>\n",
       "      <td>Adjective</td>\n",
       "      <td>형용사</td>\n",
       "    </tr>\n",
       "    <tr>\n",
       "      <th>...</th>\n",
       "      <td>...</td>\n",
       "      <td>...</td>\n",
       "      <td>...</td>\n",
       "      <td>...</td>\n",
       "      <td>...</td>\n",
       "    </tr>\n",
       "    <tr>\n",
       "      <th>25256</th>\n",
       "      <td>제164전구비행장작전단</td>\n",
       "      <td>5</td>\n",
       "      <td>작전단</td>\n",
       "      <td>Adjective</td>\n",
       "      <td>형용사</td>\n",
       "    </tr>\n",
       "    <tr>\n",
       "      <th>25348</th>\n",
       "      <td>케텔 마르테</td>\n",
       "      <td>1</td>\n",
       "      <td>마르테</td>\n",
       "      <td>Adjective</td>\n",
       "      <td>형용사</td>\n",
       "    </tr>\n",
       "    <tr>\n",
       "      <th>25515</th>\n",
       "      <td>호르헤 부르차가</td>\n",
       "      <td>2</td>\n",
       "      <td>차가</td>\n",
       "      <td>Adjective</td>\n",
       "      <td>형용사</td>\n",
       "    </tr>\n",
       "    <tr>\n",
       "      <th>25706</th>\n",
       "      <td>안여린</td>\n",
       "      <td>1</td>\n",
       "      <td>여린</td>\n",
       "      <td>Adjective</td>\n",
       "      <td>형용사</td>\n",
       "    </tr>\n",
       "    <tr>\n",
       "      <th>25720</th>\n",
       "      <td>카더가든</td>\n",
       "      <td>1</td>\n",
       "      <td>더가든</td>\n",
       "      <td>Adjective</td>\n",
       "      <td>형용사</td>\n",
       "    </tr>\n",
       "  </tbody>\n",
       "</table>\n",
       "<p>109 rows × 5 columns</p>\n",
       "</div>"
      ],
      "text/plain": [
       "             origin  idx word        pos  tag\n",
       "264        아슈라프 하키미    2    미  Adjective  형용사\n",
       "300         미 해병1사단    0    미  Adjective  형용사\n",
       "571        미야와키 사쿠라    0  미야와  Adjective  형용사\n",
       "981         제이크 디크먼    3    먼  Adjective  형용사\n",
       "1214        미쓰이 히사시    0    미  Adjective  형용사\n",
       "...             ...  ...  ...        ...  ...\n",
       "25256  제164전구비행장작전단    5  작전단  Adjective  형용사\n",
       "25348        케텔 마르테    1  마르테  Adjective  형용사\n",
       "25515      호르헤 부르차가    2   차가  Adjective  형용사\n",
       "25706           안여린    1   여린  Adjective  형용사\n",
       "25720          카더가든    1  더가든  Adjective  형용사\n",
       "\n",
       "[109 rows x 5 columns]"
      ]
     },
     "execution_count": 15,
     "metadata": {},
     "output_type": "execute_result"
    }
   ],
   "source": [
    "subject[subject['tag']=='형용사']"
   ]
  },
  {
   "cell_type": "markdown",
   "id": "b06e0997",
   "metadata": {},
   "source": [
    "- 대부분 **고유명사**같이 VOCAB에 포함되지 않은 명사를 잘못 태깅한 케이스가 많았다. entity의 경우, 제거 대상으로 포함하지 않으므로 문제가 없지만 문장 내에 중요한 정보를 포함하는 고유명사가 형용사/부사로 잘못 태깅되고-->이에 따라 잘못된 문장이 생성될 수도 있다.\n",
    "- 지금은 단어 단위로 태깅했는데, **문장 단위로 태깅할 때도 동일한 문제가 발생할까?** 확인할 필요가 있다"
   ]
  },
  {
   "cell_type": "code",
   "execution_count": 16,
   "id": "4c0081ff",
   "metadata": {},
   "outputs": [
    {
     "data": {
      "text/html": [
       "<div>\n",
       "<style scoped>\n",
       "    .dataframe tbody tr th:only-of-type {\n",
       "        vertical-align: middle;\n",
       "    }\n",
       "\n",
       "    .dataframe tbody tr th {\n",
       "        vertical-align: top;\n",
       "    }\n",
       "\n",
       "    .dataframe thead th {\n",
       "        text-align: right;\n",
       "    }\n",
       "</style>\n",
       "<table border=\"1\" class=\"dataframe\">\n",
       "  <thead>\n",
       "    <tr style=\"text-align: right;\">\n",
       "      <th></th>\n",
       "      <th>origin</th>\n",
       "      <th>idx</th>\n",
       "      <th>word</th>\n",
       "      <th>pos</th>\n",
       "      <th>tag</th>\n",
       "    </tr>\n",
       "  </thead>\n",
       "  <tbody>\n",
       "    <tr>\n",
       "      <th>451</th>\n",
       "      <td>에리히 리베크</td>\n",
       "      <td>1</td>\n",
       "      <td>히</td>\n",
       "      <td>Adverb</td>\n",
       "      <td>부사</td>\n",
       "    </tr>\n",
       "    <tr>\n",
       "      <th>634</th>\n",
       "      <td>우에하라 고지</td>\n",
       "      <td>0</td>\n",
       "      <td>우</td>\n",
       "      <td>Adverb</td>\n",
       "      <td>부사</td>\n",
       "    </tr>\n",
       "    <tr>\n",
       "      <th>827</th>\n",
       "      <td>요앙 왈랭</td>\n",
       "      <td>1</td>\n",
       "      <td>앙</td>\n",
       "      <td>Adverb</td>\n",
       "      <td>부사</td>\n",
       "    </tr>\n",
       "    <tr>\n",
       "      <th>842</th>\n",
       "      <td>히브리 대학</td>\n",
       "      <td>0</td>\n",
       "      <td>히</td>\n",
       "      <td>Adverb</td>\n",
       "      <td>부사</td>\n",
       "    </tr>\n",
       "    <tr>\n",
       "      <th>946</th>\n",
       "      <td>US-방글라 항공</td>\n",
       "      <td>2</td>\n",
       "      <td>방글</td>\n",
       "      <td>Adverb</td>\n",
       "      <td>부사</td>\n",
       "    </tr>\n",
       "    <tr>\n",
       "      <th>...</th>\n",
       "      <td>...</td>\n",
       "      <td>...</td>\n",
       "      <td>...</td>\n",
       "      <td>...</td>\n",
       "      <td>...</td>\n",
       "    </tr>\n",
       "    <tr>\n",
       "      <th>24870</th>\n",
       "      <td>야마시타 토모히사</td>\n",
       "      <td>2</td>\n",
       "      <td>히</td>\n",
       "      <td>Adverb</td>\n",
       "      <td>부사</td>\n",
       "    </tr>\n",
       "    <tr>\n",
       "      <th>24893</th>\n",
       "      <td>엔도 야스히토</td>\n",
       "      <td>2</td>\n",
       "      <td>히</td>\n",
       "      <td>Adverb</td>\n",
       "      <td>부사</td>\n",
       "    </tr>\n",
       "    <tr>\n",
       "      <th>25281</th>\n",
       "      <td>후이 파트리시우</td>\n",
       "      <td>4</td>\n",
       "      <td>우</td>\n",
       "      <td>Adverb</td>\n",
       "      <td>부사</td>\n",
       "    </tr>\n",
       "    <tr>\n",
       "      <th>25303</th>\n",
       "      <td>세르히오 로메로</td>\n",
       "      <td>1</td>\n",
       "      <td>히</td>\n",
       "      <td>Adverb</td>\n",
       "      <td>부사</td>\n",
       "    </tr>\n",
       "    <tr>\n",
       "      <th>25375</th>\n",
       "      <td>스티브 하우</td>\n",
       "      <td>1</td>\n",
       "      <td>하우</td>\n",
       "      <td>Adverb</td>\n",
       "      <td>부사</td>\n",
       "    </tr>\n",
       "  </tbody>\n",
       "</table>\n",
       "<p>136 rows × 5 columns</p>\n",
       "</div>"
      ],
      "text/plain": [
       "          origin  idx word     pos tag\n",
       "451      에리히 리베크    1    히  Adverb  부사\n",
       "634      우에하라 고지    0    우  Adverb  부사\n",
       "827        요앙 왈랭    1    앙  Adverb  부사\n",
       "842       히브리 대학    0    히  Adverb  부사\n",
       "946    US-방글라 항공    2   방글  Adverb  부사\n",
       "...          ...  ...  ...     ...  ..\n",
       "24870  야마시타 토모히사    2    히  Adverb  부사\n",
       "24893    엔도 야스히토    2    히  Adverb  부사\n",
       "25281   후이 파트리시우    4    우  Adverb  부사\n",
       "25303   세르히오 로메로    1    히  Adverb  부사\n",
       "25375     스티브 하우    1   하우  Adverb  부사\n",
       "\n",
       "[136 rows x 5 columns]"
      ]
     },
     "execution_count": 16,
     "metadata": {},
     "output_type": "execute_result"
    }
   ],
   "source": [
    "subject[subject['tag']=='부사']"
   ]
  },
  {
   "cell_type": "code",
   "execution_count": 105,
   "id": "ad7371e4",
   "metadata": {},
   "outputs": [
    {
     "data": {
      "text/html": [
       "<div>\n",
       "<style scoped>\n",
       "    .dataframe tbody tr th:only-of-type {\n",
       "        vertical-align: middle;\n",
       "    }\n",
       "\n",
       "    .dataframe tbody tr th {\n",
       "        vertical-align: top;\n",
       "    }\n",
       "\n",
       "    .dataframe thead th {\n",
       "        text-align: right;\n",
       "    }\n",
       "</style>\n",
       "<table border=\"1\" class=\"dataframe\">\n",
       "  <thead>\n",
       "    <tr style=\"text-align: right;\">\n",
       "      <th></th>\n",
       "      <th>origin</th>\n",
       "      <th>idx</th>\n",
       "      <th>word</th>\n",
       "      <th>pos</th>\n",
       "      <th>tag</th>\n",
       "    </tr>\n",
       "  </thead>\n",
       "  <tbody>\n",
       "    <tr>\n",
       "      <th>76</th>\n",
       "      <td>다이앤 레인</td>\n",
       "      <td>1</td>\n",
       "      <td>이</td>\n",
       "      <td>Determiner</td>\n",
       "      <td>관형사</td>\n",
       "    </tr>\n",
       "    <tr>\n",
       "      <th>114</th>\n",
       "      <td>이대열</td>\n",
       "      <td>0</td>\n",
       "      <td>이</td>\n",
       "      <td>Determiner</td>\n",
       "      <td>관형사</td>\n",
       "    </tr>\n",
       "    <tr>\n",
       "      <th>974</th>\n",
       "      <td>마르그레테 2세</td>\n",
       "      <td>1</td>\n",
       "      <td>그</td>\n",
       "      <td>Determiner</td>\n",
       "      <td>관형사</td>\n",
       "    </tr>\n",
       "    <tr>\n",
       "      <th>1011</th>\n",
       "      <td>한성여객</td>\n",
       "      <td>0</td>\n",
       "      <td>한</td>\n",
       "      <td>Determiner</td>\n",
       "      <td>관형사</td>\n",
       "    </tr>\n",
       "    <tr>\n",
       "      <th>1041</th>\n",
       "      <td>한양대학교</td>\n",
       "      <td>0</td>\n",
       "      <td>한</td>\n",
       "      <td>Determiner</td>\n",
       "      <td>관형사</td>\n",
       "    </tr>\n",
       "    <tr>\n",
       "      <th>...</th>\n",
       "      <td>...</td>\n",
       "      <td>...</td>\n",
       "      <td>...</td>\n",
       "      <td>...</td>\n",
       "      <td>...</td>\n",
       "    </tr>\n",
       "    <tr>\n",
       "      <th>25033</th>\n",
       "      <td>그레고르 멘델</td>\n",
       "      <td>0</td>\n",
       "      <td>그</td>\n",
       "      <td>Determiner</td>\n",
       "      <td>관형사</td>\n",
       "    </tr>\n",
       "    <tr>\n",
       "      <th>25329</th>\n",
       "      <td>마르그레테 1세</td>\n",
       "      <td>1</td>\n",
       "      <td>그</td>\n",
       "      <td>Determiner</td>\n",
       "      <td>관형사</td>\n",
       "    </tr>\n",
       "    <tr>\n",
       "      <th>25545</th>\n",
       "      <td>이기정</td>\n",
       "      <td>0</td>\n",
       "      <td>이</td>\n",
       "      <td>Determiner</td>\n",
       "      <td>관형사</td>\n",
       "    </tr>\n",
       "    <tr>\n",
       "      <th>25775</th>\n",
       "      <td>주월한국군사원조단</td>\n",
       "      <td>2</td>\n",
       "      <td>한</td>\n",
       "      <td>Determiner</td>\n",
       "      <td>관형사</td>\n",
       "    </tr>\n",
       "    <tr>\n",
       "      <th>25781</th>\n",
       "      <td>곤도 이사미</td>\n",
       "      <td>1</td>\n",
       "      <td>이</td>\n",
       "      <td>Determiner</td>\n",
       "      <td>관형사</td>\n",
       "    </tr>\n",
       "  </tbody>\n",
       "</table>\n",
       "<p>143 rows × 5 columns</p>\n",
       "</div>"
      ],
      "text/plain": [
       "          origin  idx word         pos  tag\n",
       "76        다이앤 레인    1    이  Determiner  관형사\n",
       "114          이대열    0    이  Determiner  관형사\n",
       "974     마르그레테 2세    1    그  Determiner  관형사\n",
       "1011        한성여객    0    한  Determiner  관형사\n",
       "1041       한양대학교    0    한  Determiner  관형사\n",
       "...          ...  ...  ...         ...  ...\n",
       "25033    그레고르 멘델    0    그  Determiner  관형사\n",
       "25329   마르그레테 1세    1    그  Determiner  관형사\n",
       "25545        이기정    0    이  Determiner  관형사\n",
       "25775  주월한국군사원조단    2    한  Determiner  관형사\n",
       "25781     곤도 이사미    1    이  Determiner  관형사\n",
       "\n",
       "[143 rows x 5 columns]"
      ]
     },
     "execution_count": 105,
     "metadata": {},
     "output_type": "execute_result"
    }
   ],
   "source": [
    "subject[subject['tag']=='관형사']"
   ]
  },
  {
   "cell_type": "markdown",
   "id": "162a85f3",
   "metadata": {},
   "source": [
    "- 부사도 마찬가지로 외국어/외래어/기타 한국어 고유명사를 인식하지 못하고 부사로 처리한 케이스가 많아 보인다."
   ]
  },
  {
   "cell_type": "markdown",
   "id": "933b1074",
   "metadata": {},
   "source": [
    "### 1-3-1. 문장 단위 태깅\n",
    "1. 고유 명사가 형용사/부사로 잘못 태깅되는 경우가 있다.\n",
    "2. 문장 전체를 태깅해도 동일한 문제가 발생하는지 확인한다"
   ]
  },
  {
   "cell_type": "code",
   "execution_count": 51,
   "id": "7bd689fd",
   "metadata": {},
   "outputs": [
    {
     "data": {
      "text/html": [
       "<div>\n",
       "<style scoped>\n",
       "    .dataframe tbody tr th:only-of-type {\n",
       "        vertical-align: middle;\n",
       "    }\n",
       "\n",
       "    .dataframe tbody tr th {\n",
       "        vertical-align: top;\n",
       "    }\n",
       "\n",
       "    .dataframe thead th {\n",
       "        text-align: right;\n",
       "    }\n",
       "</style>\n",
       "<table border=\"1\" class=\"dataframe\">\n",
       "  <thead>\n",
       "    <tr style=\"text-align: right;\">\n",
       "      <th></th>\n",
       "      <th>id</th>\n",
       "      <th>sentence</th>\n",
       "      <th>subject_entity</th>\n",
       "      <th>object_entity</th>\n",
       "      <th>label</th>\n",
       "      <th>source</th>\n",
       "      <th>subject_word</th>\n",
       "      <th>subject_stt_idx</th>\n",
       "      <th>subject_end_idx</th>\n",
       "      <th>subject_type</th>\n",
       "      <th>object_word</th>\n",
       "      <th>object_stt_idx</th>\n",
       "      <th>object_end_idx</th>\n",
       "      <th>object_type</th>\n",
       "    </tr>\n",
       "  </thead>\n",
       "  <tbody>\n",
       "    <tr>\n",
       "      <th>0</th>\n",
       "      <td>0</td>\n",
       "      <td>〈Something〉는 조지 해리슨이 쓰고 비틀즈가 1969년 앨범 《Abbey R...</td>\n",
       "      <td>{'word': '비틀즈', 'start_idx': 24, 'end_idx': 26...</td>\n",
       "      <td>{'word': '조지 해리슨', 'start_idx': 13, 'end_idx':...</td>\n",
       "      <td>no_relation</td>\n",
       "      <td>wikipedia</td>\n",
       "      <td>비틀즈</td>\n",
       "      <td>24</td>\n",
       "      <td>26</td>\n",
       "      <td>ORG</td>\n",
       "      <td>조지 해리슨</td>\n",
       "      <td>13</td>\n",
       "      <td>18</td>\n",
       "      <td>PER</td>\n",
       "    </tr>\n",
       "    <tr>\n",
       "      <th>1</th>\n",
       "      <td>1</td>\n",
       "      <td>호남이 기반인 바른미래당·대안신당·민주평화당이 우여곡절 끝에 합당해 민생당(가칭)으...</td>\n",
       "      <td>{'word': '민주평화당', 'start_idx': 19, 'end_idx': ...</td>\n",
       "      <td>{'word': '대안신당', 'start_idx': 14, 'end_idx': 1...</td>\n",
       "      <td>no_relation</td>\n",
       "      <td>wikitree</td>\n",
       "      <td>민주평화당</td>\n",
       "      <td>19</td>\n",
       "      <td>23</td>\n",
       "      <td>ORG</td>\n",
       "      <td>대안신당</td>\n",
       "      <td>14</td>\n",
       "      <td>17</td>\n",
       "      <td>ORG</td>\n",
       "    </tr>\n",
       "    <tr>\n",
       "      <th>2</th>\n",
       "      <td>2</td>\n",
       "      <td>K리그2에서 성적 1위를 달리고 있는 광주FC는 지난 26일 한국프로축구연맹으로부터...</td>\n",
       "      <td>{'word': '광주FC', 'start_idx': 21, 'end_idx': 2...</td>\n",
       "      <td>{'word': '한국프로축구연맹', 'start_idx': 34, 'end_idx...</td>\n",
       "      <td>org:member_of</td>\n",
       "      <td>wikitree</td>\n",
       "      <td>광주FC</td>\n",
       "      <td>21</td>\n",
       "      <td>24</td>\n",
       "      <td>ORG</td>\n",
       "      <td>한국프로축구연맹</td>\n",
       "      <td>34</td>\n",
       "      <td>41</td>\n",
       "      <td>ORG</td>\n",
       "    </tr>\n",
       "    <tr>\n",
       "      <th>3</th>\n",
       "      <td>3</td>\n",
       "      <td>균일가 생활용품점 (주)아성다이소(대표 박정부)는 코로나19 바이러스로 어려움을 겪...</td>\n",
       "      <td>{'word': '아성다이소', 'start_idx': 13, 'end_idx': ...</td>\n",
       "      <td>{'word': '박정부', 'start_idx': 22, 'end_idx': 24...</td>\n",
       "      <td>org:top_members/employees</td>\n",
       "      <td>wikitree</td>\n",
       "      <td>아성다이소</td>\n",
       "      <td>13</td>\n",
       "      <td>17</td>\n",
       "      <td>ORG</td>\n",
       "      <td>박정부</td>\n",
       "      <td>22</td>\n",
       "      <td>24</td>\n",
       "      <td>PER</td>\n",
       "    </tr>\n",
       "    <tr>\n",
       "      <th>4</th>\n",
       "      <td>4</td>\n",
       "      <td>1967년 프로 야구 드래프트 1순위로 요미우리 자이언츠에게 입단하면서 등번호는 8...</td>\n",
       "      <td>{'word': '요미우리 자이언츠', 'start_idx': 22, 'end_id...</td>\n",
       "      <td>{'word': '1967', 'start_idx': 0, 'end_idx': 3,...</td>\n",
       "      <td>no_relation</td>\n",
       "      <td>wikipedia</td>\n",
       "      <td>요미우리 자이언츠</td>\n",
       "      <td>22</td>\n",
       "      <td>30</td>\n",
       "      <td>ORG</td>\n",
       "      <td>1967</td>\n",
       "      <td>0</td>\n",
       "      <td>3</td>\n",
       "      <td>DAT</td>\n",
       "    </tr>\n",
       "  </tbody>\n",
       "</table>\n",
       "</div>"
      ],
      "text/plain": [
       "   id                                           sentence  \\\n",
       "0   0  〈Something〉는 조지 해리슨이 쓰고 비틀즈가 1969년 앨범 《Abbey R...   \n",
       "1   1  호남이 기반인 바른미래당·대안신당·민주평화당이 우여곡절 끝에 합당해 민생당(가칭)으...   \n",
       "2   2  K리그2에서 성적 1위를 달리고 있는 광주FC는 지난 26일 한국프로축구연맹으로부터...   \n",
       "3   3  균일가 생활용품점 (주)아성다이소(대표 박정부)는 코로나19 바이러스로 어려움을 겪...   \n",
       "4   4  1967년 프로 야구 드래프트 1순위로 요미우리 자이언츠에게 입단하면서 등번호는 8...   \n",
       "\n",
       "                                      subject_entity  \\\n",
       "0  {'word': '비틀즈', 'start_idx': 24, 'end_idx': 26...   \n",
       "1  {'word': '민주평화당', 'start_idx': 19, 'end_idx': ...   \n",
       "2  {'word': '광주FC', 'start_idx': 21, 'end_idx': 2...   \n",
       "3  {'word': '아성다이소', 'start_idx': 13, 'end_idx': ...   \n",
       "4  {'word': '요미우리 자이언츠', 'start_idx': 22, 'end_id...   \n",
       "\n",
       "                                       object_entity  \\\n",
       "0  {'word': '조지 해리슨', 'start_idx': 13, 'end_idx':...   \n",
       "1  {'word': '대안신당', 'start_idx': 14, 'end_idx': 1...   \n",
       "2  {'word': '한국프로축구연맹', 'start_idx': 34, 'end_idx...   \n",
       "3  {'word': '박정부', 'start_idx': 22, 'end_idx': 24...   \n",
       "4  {'word': '1967', 'start_idx': 0, 'end_idx': 3,...   \n",
       "\n",
       "                       label     source subject_word  subject_stt_idx  \\\n",
       "0                no_relation  wikipedia          비틀즈               24   \n",
       "1                no_relation   wikitree        민주평화당               19   \n",
       "2              org:member_of   wikitree         광주FC               21   \n",
       "3  org:top_members/employees   wikitree        아성다이소               13   \n",
       "4                no_relation  wikipedia    요미우리 자이언츠               22   \n",
       "\n",
       "   subject_end_idx subject_type object_word  object_stt_idx  object_end_idx  \\\n",
       "0               26          ORG      조지 해리슨              13              18   \n",
       "1               23          ORG        대안신당              14              17   \n",
       "2               24          ORG    한국프로축구연맹              34              41   \n",
       "3               17          ORG         박정부              22              24   \n",
       "4               30          ORG        1967               0               3   \n",
       "\n",
       "  object_type  \n",
       "0         PER  \n",
       "1         ORG  \n",
       "2         ORG  \n",
       "3         PER  \n",
       "4         DAT  "
      ]
     },
     "execution_count": 51,
     "metadata": {},
     "output_type": "execute_result"
    }
   ],
   "source": [
    "# subject_entity & object_entity 칼럼화\n",
    "\n",
    "# df['subject_word'] = [literal_eval(entity)['word'] for entity in df['subject_entity']]\n",
    "# df['subject_stt_idx'] = [literal_eval(entity)['start_idx'] for entity in df['subject_entity']]\n",
    "# df['subject_end_idx'] = [literal_eval(entity)['end_idx'] for entity in df['subject_entity']]\n",
    "# df['subject_type'] = [literal_eval(entity)['type'] for entity in df['subject_entity']]\n",
    "\n",
    "# df['object_word'] = [literal_eval(entity)['word'] for entity in df['object_entity']]\n",
    "# df['object_stt_idx'] = [literal_eval(entity)['start_idx'] for entity in df['object_entity']]\n",
    "# df['object_end_idx'] = [literal_eval(entity)['end_idx'] for entity in df['object_entity']]\n",
    "# df['object_type'] = [literal_eval(entity)['type'] for entity in df['object_entity']]\n",
    "\n",
    "# df.to_csv('./dataset/train/train_eval.csv',index=False,encoding='utf-8')\n",
    "df = pd.read_csv('./dataset/train/train_eval.csv')\n",
    "df.head()"
   ]
  },
  {
   "cell_type": "code",
   "execution_count": null,
   "id": "47c9908d",
   "metadata": {},
   "outputs": [
    {
     "data": {
      "text/plain": [
       "[('또한', 'Noun'),\n",
       " ('영화배우', 'Noun'),\n",
       " ('톰', 'Noun'),\n",
       " ('크루즈', 'Noun'),\n",
       " ('(', 'Punctuation'),\n",
       " ('Tom', 'Alpha'),\n",
       " ('Cruise', 'Alpha'),\n",
       " ('),', 'Punctuation'),\n",
       " ('니콜', 'Noun'),\n",
       " ('키드', 'Noun'),\n",
       " ('먼', 'Adjective'),\n",
       " ('(', 'Punctuation'),\n",
       " ('Nicole', 'Alpha'),\n",
       " ('Kidman', 'Alpha'),\n",
       " (')', 'Punctuation'),\n",
       " ('이', 'Noun'),\n",
       " ('출연', 'Noun'),\n",
       " ('했으나', 'Verb'),\n",
       " ('흥행', 'Noun'),\n",
       " ('은', 'Josa'),\n",
       " ('저조했던', 'Adjective'),\n",
       " ('자동차', 'Noun'),\n",
       " ('경주', 'Noun'),\n",
       " ('영화', 'Noun'),\n",
       " ('《', 'Foreign'),\n",
       " ('Days', 'Alpha'),\n",
       " ('of', 'Alpha'),\n",
       " ('Thunder', 'Alpha'),\n",
       " ('》', 'Foreign'),\n",
       " ('의', 'Noun'),\n",
       " ('OST', 'Alpha'),\n",
       " ('에는', 'Josa'),\n",
       " ('Knockin', 'Alpha'),\n",
       " (\"'\", 'Punctuation'),\n",
       " ('on', 'Alpha'),\n",
       " ('Heaven', 'Alpha'),\n",
       " (\"'\", 'Punctuation'),\n",
       " ('s', 'Alpha'),\n",
       " ('Door', 'Alpha'),\n",
       " (',', 'Punctuation'),\n",
       " ('천국', 'Noun'),\n",
       " ('의', 'Josa'),\n",
       " ('문', 'Noun'),\n",
       " ('을', 'Josa'),\n",
       " ('두드리며', 'Verb'),\n",
       " ('〉', 'Foreign'),\n",
       " ('가', 'Verb'),\n",
       " ('들어', 'Verb'),\n",
       " ('있다', 'Adjective'),\n",
       " ('.', 'Punctuation'),\n",
       " ('이어', 'Verb'),\n",
       " ('다음', 'Noun'),\n",
       " ('해인', 'Noun'),\n",
       " ('1991년', 'Number'),\n",
       " ('여름', 'Noun'),\n",
       " (',', 'Punctuation'),\n",
       " ('앨범', 'Noun'),\n",
       " ('발매', 'Noun'),\n",
       " ('를', 'Josa'),\n",
       " ('앞둔', 'Verb'),\n",
       " ('시기', 'Noun'),\n",
       " ('에', 'Josa'),\n",
       " ('제임스', 'Noun'),\n",
       " ('캐머런', 'Noun'),\n",
       " ('(', 'Punctuation'),\n",
       " ('James', 'Alpha'),\n",
       " ('Cameron', 'Alpha'),\n",
       " (')', 'Punctuation'),\n",
       " ('감독', 'Noun'),\n",
       " ('의', 'Josa'),\n",
       " ('대작', 'Noun'),\n",
       " ('《', 'Foreign'),\n",
       " ('터미네이터', 'Noun'),\n",
       " ('2', 'Number'),\n",
       " (':', 'Punctuation'),\n",
       " ('심판', 'Noun'),\n",
       " ('의', 'Josa'),\n",
       " ('날', 'Noun'),\n",
       " ('(', 'Punctuation'),\n",
       " ('Terminator', 'Alpha'),\n",
       " ('2', 'Number'),\n",
       " (':', 'Punctuation'),\n",
       " ('Judgment', 'Alpha'),\n",
       " ('Day', 'Alpha'),\n",
       " (')', 'Punctuation'),\n",
       " ('》', 'Foreign'),\n",
       " ('이', 'Noun'),\n",
       " ('스크린', 'Noun'),\n",
       " ('에', 'Josa'),\n",
       " ('오르며', 'Verb'),\n",
       " ('신작', 'Noun'),\n",
       " ('에', 'Josa'),\n",
       " ('수록', 'Noun'),\n",
       " ('될', 'Verb'),\n",
       " ('〈', 'Foreign'),\n",
       " ('You', 'Alpha'),\n",
       " ('Could', 'Alpha'),\n",
       " ('Be', 'Alpha'),\n",
       " ('Mine', 'Alpha'),\n",
       " (',', 'Punctuation'),\n",
       " ('넌', 'Noun'),\n",
       " ('내', 'Noun'),\n",
       " ('것', 'Noun'),\n",
       " ('이', 'Josa'),\n",
       " ('될', 'Verb'),\n",
       " ('수', 'Noun'),\n",
       " ('있었지', 'Adjective'),\n",
       " ('〉', 'Foreign'),\n",
       " ('이', 'Noun'),\n",
       " ('영화', 'Noun'),\n",
       " ('와', 'Josa'),\n",
       " ('영화', 'Noun'),\n",
       " ('음악', 'Noun'),\n",
       " ('앨범', 'Noun'),\n",
       " ('에', 'Josa'),\n",
       " ('수록', 'Noun'),\n",
       " ('되었고', 'Verb'),\n",
       " ('첫', 'Noun'),\n",
       " ('싱글', 'Noun'),\n",
       " ('로', 'Josa'),\n",
       " ('도', 'Noun'),\n",
       " ('발매', 'Noun'),\n",
       " ('되었다', 'Verb'),\n",
       " ('.', 'Punctuation'),\n",
       " ('이', 'Noun'),\n",
       " ('곡', 'Noun'),\n",
       " ('의', 'Josa'),\n",
       " ('뮤직비디오', 'Noun'),\n",
       " ('에서는', 'Josa'),\n",
       " ('아널드', 'Noun'),\n",
       " ('슈워', 'Noun'),\n",
       " ('제', 'Modifier'),\n",
       " ('네', 'Modifier'),\n",
       " ('거', 'Noun'),\n",
       " ('(', 'Punctuation'),\n",
       " ('Arnold', 'Alpha'),\n",
       " ('Schwarzenegger', 'Alpha'),\n",
       " ('가', 'Verb'),\n",
       " ('미국', 'Noun'),\n",
       " ('으로의', 'Josa'),\n",
       " ('망명', 'Noun'),\n",
       " ('후', 'Noun'),\n",
       " ('처음', 'Noun'),\n",
       " ('으로', 'Josa'),\n",
       " ('자본주의', 'Noun'),\n",
       " ('음악', 'Noun'),\n",
       " ('활동', 'Noun'),\n",
       " ('형태', 'Noun'),\n",
       " ('를', 'Josa'),\n",
       " ('건즈', 'Noun'),\n",
       " ('앤', 'Noun'),\n",
       " ('로', 'Noun'),\n",
       " ('지스', 'Noun'),\n",
       " ('를', 'Josa'),\n",
       " ('예', 'Noun'),\n",
       " ('를', 'Josa'),\n",
       " ('들어', 'Verb'),\n",
       " ('긍정', 'Noun'),\n",
       " ('하며', 'Verb'),\n",
       " ('출연', 'Noun'),\n",
       " ('하기도', 'Verb'),\n",
       " ('했다', 'Verb'),\n",
       " ('.', 'Punctuation')]"
      ]
     },
     "execution_count": 18,
     "metadata": {},
     "output_type": "execute_result"
    }
   ],
   "source": [
    "# subject_entity가 '니콜 키드먼'인 문장\n",
    "okt.pos(df.loc[df['subject_word']=='니콜 키드먼','sentence'].values[0])\n",
    "# df.loc[df['subject_word']=='니콜 키드먼','sentence'].values[0]"
   ]
  },
  {
   "cell_type": "markdown",
   "id": "654554a0",
   "metadata": {},
   "source": [
    "- 문장 전체로 품사 태깅을 해도 동일한 문제가 발생한다. entity인 '니콜 키드먼'을 '니콜(명사)','키드(명사)','먼(형용사)'로 인식한다.\n",
    "- 그리고 '니콜 키드먼(Nicole Kidman)'뒤에 이어지는 '이'도 조사로 인식하지 못한다.(형용사 처리를 하지 않아서 문제 되지는 않지만, 형용사로 인식될 가능성도 배제할 수 없다)\n",
    "- 다른 인식기에서도 동일한 오류가 발생할까?"
   ]
  },
  {
   "cell_type": "code",
   "execution_count": null,
   "id": "c4323f22",
   "metadata": {},
   "outputs": [
    {
     "data": {
      "text/plain": [
       "[('또한', 'MAG'),\n",
       " ('영화배우', 'NNG'),\n",
       " ('톰', 'UN'),\n",
       " ('크루즈', 'NNG'),\n",
       " ('(', 'SS'),\n",
       " ('Tom', 'OL'),\n",
       " ('Cruise', 'OL'),\n",
       " (')', 'SS'),\n",
       " (',', 'SP'),\n",
       " ('니콜', 'NNG'),\n",
       " ('키드', 'NNG'),\n",
       " ('멀', 'VA'),\n",
       " ('ㄴ', 'ETD'),\n",
       " ('(', 'SS'),\n",
       " ('Nicole', 'OL')]"
      ]
     },
     "execution_count": 19,
     "metadata": {},
     "output_type": "execute_result"
    }
   ],
   "source": [
    "kkm.pos(df.loc[df['subject_word']=='니콜 키드먼','sentence'].values[0])[:15]"
   ]
  },
  {
   "cell_type": "markdown",
   "id": "038e73ac",
   "metadata": {},
   "source": [
    "꼬고마(Kkma)도 okt와 비슷한 태깅 결과를 보인다. '톰 크루즈'나 '니콜 키드먼'을 고유명사로서 하나의 단어로 인식하지 못한 것"
   ]
  },
  {
   "cell_type": "code",
   "execution_count": null,
   "id": "1a908cb7",
   "metadata": {},
   "outputs": [
    {
     "data": {
      "text/plain": [
       "[('또한', 'MAJ'),\n",
       " ('영화배우', 'NNP'),\n",
       " ('톰 크루즈', 'NNP'),\n",
       " ('(', 'SS'),\n",
       " ('Tom', 'SL'),\n",
       " ('Cruise', 'SL'),\n",
       " (')', 'SS'),\n",
       " (',', 'SP'),\n",
       " ('니콜 키드먼', 'NNP'),\n",
       " ('(', 'SS'),\n",
       " ('Nicole', 'SL'),\n",
       " ('Kidman', 'SL'),\n",
       " (')', 'SS'),\n",
       " ('이', 'MM'),\n",
       " ('출연', 'NNG')]"
      ]
     },
     "execution_count": 20,
     "metadata": {},
     "output_type": "execute_result"
    }
   ],
   "source": [
    "kom.pos(df.loc[df['subject_word']=='니콜 키드먼','sentence'].values[0])[:15]"
   ]
  },
  {
   "cell_type": "markdown",
   "id": "1c4be8f9",
   "metadata": {},
   "source": [
    "코모란(Komoran)은 '톰 크루즈'와 '니콜 키드먼'을 하나의 명사로 인식한다."
   ]
  },
  {
   "cell_type": "code",
   "execution_count": null,
   "id": "9752c0a4",
   "metadata": {},
   "outputs": [
    {
     "data": {
      "text/plain": [
       "[('또한', 'M'),\n",
       " ('영화배우', 'N'),\n",
       " ('톰', 'N'),\n",
       " ('크루즈(Tom', 'N'),\n",
       " ('Cruise', 'F'),\n",
       " ('),', 'S'),\n",
       " ('니콜', 'N'),\n",
       " ('키드먼(Nicole', 'N'),\n",
       " ('Kidman', 'F'),\n",
       " (')', 'S'),\n",
       " ('이', 'J'),\n",
       " ('출연', 'N'),\n",
       " ('하', 'X'),\n",
       " ('었으나', 'E'),\n",
       " ('흥행', 'N')]"
      ]
     },
     "execution_count": 21,
     "metadata": {},
     "output_type": "execute_result"
    }
   ],
   "source": [
    "han.pos(df.loc[df['subject_word']=='니콜 키드먼','sentence'].values[0])[:15]"
   ]
  },
  {
   "cell_type": "markdown",
   "id": "6d9453ce",
   "metadata": {},
   "source": [
    "한나눔은 '톰 크루즈'를 하나의 단어가 아닌 '톰'과 '크루즈' 2개로 쪼개서 인식했지만, 명사로 처리한다.\n",
    "- **원 문장의 relation은 무엇이었을까?**"
   ]
  },
  {
   "cell_type": "code",
   "execution_count": null,
   "id": "a37332e2",
   "metadata": {},
   "outputs": [
    {
     "data": {
      "text/html": [
       "<div>\n",
       "<style scoped>\n",
       "    .dataframe tbody tr th:only-of-type {\n",
       "        vertical-align: middle;\n",
       "    }\n",
       "\n",
       "    .dataframe tbody tr th {\n",
       "        vertical-align: top;\n",
       "    }\n",
       "\n",
       "    .dataframe thead th {\n",
       "        text-align: right;\n",
       "    }\n",
       "</style>\n",
       "<table border=\"1\" class=\"dataframe\">\n",
       "  <thead>\n",
       "    <tr style=\"text-align: right;\">\n",
       "      <th></th>\n",
       "      <th>sentence</th>\n",
       "      <th>subject_word</th>\n",
       "      <th>subject_type</th>\n",
       "      <th>object_word</th>\n",
       "      <th>object_type</th>\n",
       "      <th>label</th>\n",
       "    </tr>\n",
       "  </thead>\n",
       "  <tbody>\n",
       "    <tr>\n",
       "      <th>11708</th>\n",
       "      <td>또한 영화배우 톰 크루즈(Tom Cruise), 니콜 키드먼(Nicole Kidma...</td>\n",
       "      <td>니콜 키드먼</td>\n",
       "      <td>PER</td>\n",
       "      <td>톰 크루즈</td>\n",
       "      <td>PER</td>\n",
       "      <td>per:colleagues</td>\n",
       "    </tr>\n",
       "  </tbody>\n",
       "</table>\n",
       "</div>"
      ],
      "text/plain": [
       "                                                sentence subject_word  \\\n",
       "11708  또한 영화배우 톰 크루즈(Tom Cruise), 니콜 키드먼(Nicole Kidma...       니콜 키드먼   \n",
       "\n",
       "      subject_type object_word object_type           label  \n",
       "11708          PER       톰 크루즈         PER  per:colleagues  "
      ]
     },
     "execution_count": 22,
     "metadata": {},
     "output_type": "execute_result"
    }
   ],
   "source": [
    "df.loc[df['subject_word']=='니콜 키드먼',['sentence','subject_word','subject_type','object_word','object_type','label']]"
   ]
  },
  {
   "cell_type": "markdown",
   "id": "0905a502",
   "metadata": {},
   "source": [
    "- https://wikidocs.net/92961 에 따르면 konlpy의 분석기에 (새로운 단어, 품사) 형태로 사전에 단어를 추가하는 customizing이 가능하다고 한다. 이에 따라 entity 중에서 type이 per이거나 org인 경우, 하나의 명사로 추가하여 tagger를 customizing 해본다"
   ]
  },
  {
   "cell_type": "code",
   "execution_count": 23,
   "id": "4e5decc9",
   "metadata": {},
   "outputs": [
    {
     "data": {
      "text/plain": [
       "[('또한', 'Noun'),\n",
       " ('영화배우', 'Noun'),\n",
       " ('톰', 'Noun'),\n",
       " ('크루즈', 'Noun'),\n",
       " ('(', 'Punctuation'),\n",
       " ('Tom', 'Alpha'),\n",
       " ('Cruise', 'Alpha'),\n",
       " ('),', 'Punctuation'),\n",
       " ('니콜', 'Noun'),\n",
       " ('키드', 'Noun'),\n",
       " ('먼', 'Adjective'),\n",
       " ('(', 'Punctuation'),\n",
       " ('Nicole', 'Alpha'),\n",
       " ('Kidman', 'Alpha'),\n",
       " (')', 'Punctuation')]"
      ]
     },
     "execution_count": 23,
     "metadata": {},
     "output_type": "execute_result"
    }
   ],
   "source": [
    "from konlpy.tag import Twitter\n",
    "twt = Twitter()\n",
    "\n",
    "twt.pos(df.loc[df['subject_word']=='니콜 키드먼','sentence'].values[0])[:15]"
   ]
  },
  {
   "cell_type": "markdown",
   "id": "f7228c94",
   "metadata": {},
   "source": [
    "- **어떤 분석기를 쓰느냐에 따라 성능이 달라질 수 있기 때문에, 분석기별로 각각 문장 처리를 수행한다** (okt, kkm, kom, han 4가지)\n",
    "- [참고](https://wikidocs.net/92961)에 따르면 customized_konlpy로 사전에 새로운 단어와 태깅을 추가할 수 있다고 한다.(단, Twitter만)\n",
    "- corpus 비지도 학습을 통해 토큰화를 수행하는 soynlp도 사용해볼 수 있다."
   ]
  },
  {
   "cell_type": "markdown",
   "id": "f9c5b9d5",
   "metadata": {},
   "source": [
    "### 1-4. soynlp 학습"
   ]
  },
  {
   "cell_type": "code",
   "execution_count": 106,
   "id": "5aaa5e68",
   "metadata": {},
   "outputs": [
    {
     "name": "stdout",
     "output_type": "stream",
     "text": [
      "Collecting soynlp\n",
      "  Downloading soynlp-0.0.493-py3-none-any.whl (416 kB)\n",
      "\u001b[K     |████████████████████████████████| 416 kB 15.2 MB/s eta 0:00:01\n",
      "\u001b[?25hRequirement already satisfied: psutil>=5.0.1 in /opt/conda/lib/python3.8/site-packages (from soynlp) (5.8.0)\n",
      "Requirement already satisfied: numpy>=1.12.1 in /opt/conda/lib/python3.8/site-packages (from soynlp) (1.19.5)\n",
      "Requirement already satisfied: scikit-learn>=0.20.0 in /opt/conda/lib/python3.8/site-packages (from soynlp) (0.24.2)\n",
      "Requirement already satisfied: scipy>=1.1.0 in /opt/conda/lib/python3.8/site-packages (from soynlp) (1.7.1)\n",
      "Requirement already satisfied: threadpoolctl>=2.0.0 in /opt/conda/lib/python3.8/site-packages (from scikit-learn>=0.20.0->soynlp) (3.1.0)\n",
      "Requirement already satisfied: joblib>=0.11 in /opt/conda/lib/python3.8/site-packages (from scikit-learn>=0.20.0->soynlp) (1.1.0)\n",
      "Installing collected packages: soynlp\n",
      "Successfully installed soynlp-0.0.493\n",
      "\u001b[33mWARNING: Running pip as the 'root' user can result in broken permissions and conflicting behaviour with the system package manager. It is recommended to use a virtual environment instead: https://pip.pypa.io/warnings/venv\u001b[0m\n"
     ]
    }
   ],
   "source": [
    "!pip install soynlp"
   ]
  },
  {
   "cell_type": "markdown",
   "id": "2931e709",
   "metadata": {},
   "source": [
    "#### 예제"
   ]
  },
  {
   "cell_type": "code",
   "execution_count": 107,
   "id": "3700b5ac",
   "metadata": {},
   "outputs": [],
   "source": [
    "import urllib.request\n",
    "from soynlp import DoublespaceLineCorpus\n",
    "from soynlp.word import WordExtractor"
   ]
  },
  {
   "cell_type": "code",
   "execution_count": 108,
   "id": "5aca3045",
   "metadata": {},
   "outputs": [
    {
     "data": {
      "text/plain": [
       "('2016-10-20.txt', <http.client.HTTPMessage at 0x7f4b3edcf190>)"
      ]
     },
     "execution_count": 108,
     "metadata": {},
     "output_type": "execute_result"
    }
   ],
   "source": [
    "urllib.request.urlretrieve(\"https://raw.githubusercontent.com/lovit/soynlp/master/tutorials/2016-10-20.txt\", filename=\"2016-10-20.txt\")"
   ]
  },
  {
   "cell_type": "code",
   "execution_count": 109,
   "id": "01dfef4e",
   "metadata": {},
   "outputs": [
    {
     "data": {
      "text/plain": [
       "30091"
      ]
     },
     "execution_count": 109,
     "metadata": {},
     "output_type": "execute_result"
    }
   ],
   "source": [
    "corpus = DoublespaceLineCorpus(\"2016-10-20.txt\")\n",
    "len(corpus)"
   ]
  },
  {
   "cell_type": "code",
   "execution_count": 111,
   "id": "27f4fee7",
   "metadata": {},
   "outputs": [
    {
     "name": "stdout",
     "output_type": "stream",
     "text": [
      "19  1990  52 1 22\n"
     ]
    }
   ],
   "source": [
    "for document in corpus:\n",
    "  if len(document) > 0:\n",
    "    print(document)\n",
    "    break"
   ]
  },
  {
   "cell_type": "code",
   "execution_count": 112,
   "id": "9a3458a8",
   "metadata": {},
   "outputs": [
    {
     "name": "stdout",
     "output_type": "stream",
     "text": [
      "training was done. used memory 2.335 Gb\n",
      "all cohesion probabilities was computed. # words = 223348\n",
      "all branching entropies was computed # words = 361598\n",
      "all accessor variety was computed # words = 361598\n"
     ]
    }
   ],
   "source": [
    "word_extractor = WordExtractor()\n",
    "word_extractor.train(corpus)\n",
    "word_score_table = word_extractor.extract()"
   ]
  },
  {
   "cell_type": "markdown",
   "id": "10d14584",
   "metadata": {},
   "source": [
    "#### 예제처럼 코퍼스 만들기"
   ]
  },
  {
   "cell_type": "markdown",
   "id": "0b9b950d",
   "metadata": {},
   "source": [
    "#### 삽질의 흔적"
   ]
  },
  {
   "cell_type": "code",
   "execution_count": null,
   "id": "1f7f3631-e8e1-4b98-b489-fbc9186b49f2",
   "metadata": {},
   "outputs": [],
   "source": [
    "# ! apt-get install -y build-essential openjdk-8-jdk python3-dev curl git automake\n",
    "# ! pip install konlpy \"tweepy<4.0.0\"\n",
    "# ! /bin/bash <(curl -s https://raw.githubusercontent.com/konlpy/konlpy/master/scripts/mecab.sh)"
   ]
  },
  {
   "cell_type": "code",
   "execution_count": 96,
   "id": "db0c2e0d-3f15-41bd-accd-e752b25b4097",
   "metadata": {},
   "outputs": [
    {
     "name": "stdout",
     "output_type": "stream",
     "text": [
      "Requirement already satisfied: pip in /opt/conda/lib/python3.8/site-packages (22.0.4)\n",
      "\u001b[33mWARNING: Running pip as the 'root' user can result in broken permissions and conflicting behaviour with the system package manager. It is recommended to use a virtual environment instead: https://pip.pypa.io/warnings/venv\u001b[0m\n",
      "\u001b[31mERROR: JPype1-1.3.0-cp38-cp38-win32.whl is not a supported wheel on this platform.\u001b[0m\n",
      "Requirement already satisfied: konlpy in /opt/conda/lib/python3.8/site-packages (0.6.0)\n",
      "Requirement already satisfied: JPype1>=0.7.0 in /opt/conda/lib/python3.8/site-packages (from konlpy) (1.3.0)\n",
      "Requirement already satisfied: lxml>=4.1.0 in /opt/conda/lib/python3.8/site-packages (from konlpy) (4.8.0)\n",
      "Requirement already satisfied: numpy>=1.6 in /opt/conda/lib/python3.8/site-packages (from konlpy) (1.19.5)\n",
      "\u001b[33mWARNING: Running pip as the 'root' user can result in broken permissions and conflicting behaviour with the system package manager. It is recommended to use a virtual environment instead: https://pip.pypa.io/warnings/venv\u001b[0m\n"
     ]
    }
   ],
   "source": [
    "!pip install --upgrade pip\n",
    "# !pip install JPype1-1.3.0-cp38-cp38-win32.whl\n",
    "!pip install konlpy\n",
    "\n",
    "# !pip install konlpy\n",
    "# !bash <curl -s https://raw.githubusercontent.com/konlpy/konlpy/master/scripts/mecab.sh"
   ]
  },
  {
   "cell_type": "code",
   "execution_count": 71,
   "id": "9290f706",
   "metadata": {},
   "outputs": [
    {
     "data": {
      "text/plain": [
       "'/opt/conda/bin/java'"
      ]
     },
     "execution_count": 71,
     "metadata": {},
     "output_type": "execute_result"
    }
   ],
   "source": [
    "os.environ['JAVA_HOME'] = '/opt/conda/bin/java'\n",
    "os.getenv('JAVA_HOME')"
   ]
  },
  {
   "cell_type": "code",
   "execution_count": null,
   "id": "ef1b05f2",
   "metadata": {},
   "outputs": [],
   "source": [
    "# khaiii 설치\n",
    "# !pip install cmake"
   ]
  },
  {
   "cell_type": "markdown",
   "id": "fd9814cf-1099-494d-a4a4-6a1c78e2fc35",
   "metadata": {},
   "source": [
    "## 2. 형용사 및 부사 제거된 문장 만들기\n",
    "품사 스케일링은 다음과 같이 진행한다.\n",
    "1. 개별 sentence에 대해 pos-tagging을 수행한다.(분석기 4가지 버전으로)\n",
    "2. 이 중 형용사, 부사를 문장에서 제거한다. 단, entity는 제외\n",
    "3. 형용사와 부사를 제거한 토큰을 이어 붙인다. 이 때, 띄어쓰기가 손상되었을 가능성이 있으므로 띄어쓰기 보정을 추가한다(옵션)\n",
    "3. 스케일링된 train set으로 baseline을 학습하고 성능을 확인한다."
   ]
  },
  {
   "cell_type": "code",
   "execution_count": 14,
   "id": "f0e9c31b",
   "metadata": {},
   "outputs": [],
   "source": [
    "# df = pd.read_csv('./dataset/train/train_eval.csv')\n",
    "# df.head()"
   ]
  },
  {
   "cell_type": "code",
   "execution_count": null,
   "id": "d7f37bb8",
   "metadata": {},
   "outputs": [
    {
     "data": {
      "text/plain": [
       "\"{'word': '비틀즈', 'start_idx': 24, 'end_idx': 26, 'type': 'ORG'}\""
      ]
     },
     "execution_count": 29,
     "metadata": {},
     "output_type": "execute_result"
    }
   ],
   "source": [
    "# df.iloc[0,:]['subject_entity']"
   ]
  },
  {
   "cell_type": "markdown",
   "id": "18f20fb6",
   "metadata": {},
   "source": [
    "라이브러리 준비"
   ]
  },
  {
   "cell_type": "code",
   "execution_count": null,
   "id": "4f5a84be",
   "metadata": {},
   "outputs": [],
   "source": [
    "# !pip install git+https://github.com/haven-jeon/PyKoSpacing.git #PyKoSpacing(딥러닝 코퍼스 학습 기반)-->에러떠서 바로 바꿈\n",
    "# !pip install git+https://github.com/ssut/py-hanspell.git #Py-Hanspell(네이버 맞춤법 검사기 기반)"
   ]
  },
  {
   "cell_type": "code",
   "execution_count": null,
   "id": "51ef06fc",
   "metadata": {},
   "outputs": [],
   "source": [
    "# !pip install google\n",
    "# !pip3 install protobuf\n",
    "# !conda install protobuf"
   ]
  },
  {
   "cell_type": "code",
   "execution_count": 6,
   "id": "22605afd",
   "metadata": {},
   "outputs": [
    {
     "name": "stderr",
     "output_type": "stream",
     "text": [
      "/opt/conda/lib/python3.8/site-packages/tqdm/auto.py:22: TqdmWarning: IProgress not found. Please update jupyter and ipywidgets. See https://ipywidgets.readthedocs.io/en/stable/user_install.html\n",
      "  from .autonotebook import tqdm as notebook_tqdm\n"
     ]
    }
   ],
   "source": [
    "import pandas as pd\n",
    "# import matplotlib.pyplot as plt\n",
    "import numpy as np\n",
    "# import seaborn as sns\n",
    "from ast import literal_eval\n",
    "from collections import defaultdict, Counter\n",
    "import warnings\n",
    "\n",
    "from tqdm.auto import trange\n",
    "from time import sleep\n",
    "\n",
    "# from pykospacing import Spacing\n",
    "from hanspell import spell_checker\n",
    "\n",
    "from konlpy.tag import Okt, Komoran, Kkma, Hannanum\n",
    "\n",
    "warnings.filterwarnings('ignore')\n",
    "pd.set_option('display.float_format', lambda x: '%.4f' % x) #4자리까지만\n",
    "\n",
    "# plt.rcParams['font.family'] = 'NanumGothic' #폰트 나눔고딕 설정"
   ]
  },
  {
   "cell_type": "markdown",
   "id": "d1db4ce8",
   "metadata": {},
   "source": [
    "전처리 함수 모음"
   ]
  },
  {
   "cell_type": "code",
   "execution_count": 7,
   "id": "a4ac3f8b",
   "metadata": {},
   "outputs": [],
   "source": [
    "# label 개수를 기준으로 증강에서 제외할 exc_label\n",
    "# def except_label(dataset,column='label',limit=200):\n",
    "#     \"\"\"label 개수를 기준으로 증강에서 제외할 label 출력\n",
    "#     dataset: pd.dataframe\n",
    "#     column: str |--> 기준이 되는 칼럼\n",
    "#     limit: int |-->label 개수\"\"\"\n",
    "    \n",
    "#     df_cnt = pd.DataFrame(dataset['label'].value_counts())\n",
    "#     df_cnt = df_cnt.reset_index(drop=False)\n",
    "#     df_cnt.columns = ['label','count']\n",
    "#     # print(df_cnt.head())\n",
    "#     exc_label = df_cnt.loc[df_cnt['count']>limit,'label']\n",
    "#     exc_label = list(exc_label)\n",
    "#     return exc_label\n",
    "\n",
    "# limit 이하의 개수인 label만 포함하는 데이터프레임 출력\n",
    "def accept_label(dataset,limit=200):\n",
    "    \"\"\"except label이 아닌 label(relation) 문장만 포함한 데이터프레임 출력\"\"\"\n",
    "    # ver 1. dataframe\n",
    "    # df_cnt = pd.DataFrame(dataset['label'].value_counts())\n",
    "    # df_cnt = df_cnt.reset_index(drop=False)\n",
    "    # df_cnt.columns = ['label','count']\n",
    "    # # print(df_cnt.head())\n",
    "    # acc_label = df_cnt.loc[df_cnt['count']<=limit,'label']\n",
    "    # acc_label = list(acc_label)\n",
    "    \n",
    "    # ver 2. counter\n",
    "    \n",
    "    df_cnt = Counter(dataset['label'])\n",
    "    acc_label = [label for idx,label in enumerate(df_cnt) if df_cnt[label]<=limit]\n",
    "    print(len(acc_label))\n",
    "\n",
    "    # labels = dataset.loc[:,'label']\n",
    "    # idx_label = [idx for idx,label in enumerate(labels) if label not in acc_label]\n",
    "    # print(len(dataset),len(idx_label))\n",
    "    \n",
    "    df = dataset.loc[dataset['label'].isin(acc_label),:]\n",
    "    df = df.reset_index(drop=True)\n",
    "    return df\n",
    "\n",
    "# entity-->>word, stt_idx, end_idx, type으로 쪼개기\n",
    "def eval_entity(df):\n",
    "    \"\"\"딕셔너리 형태의 entity를 쪼개 word, stt_idx, end_idx, type을 각각 칼럼으로 추가하는 함수\"\"\"\n",
    "\n",
    "    df['subject_word'] = [literal_eval(entity)['word'] for entity in df['subject_entity']]\n",
    "    df['subject_stt_idx'] = [literal_eval(entity)['start_idx'] for entity in df['subject_entity']]\n",
    "    df['subject_end_idx'] = [literal_eval(entity)['end_idx'] for entity in df['subject_entity']]\n",
    "    df['subject_type'] = [literal_eval(entity)['type'] for entity in df['subject_entity']]\n",
    "\n",
    "    df['object_word'] = [literal_eval(entity)['word'] for entity in df['object_entity']]\n",
    "    df['object_stt_idx'] = [literal_eval(entity)['start_idx'] for entity in df['object_entity']]\n",
    "    df['object_end_idx'] = [literal_eval(entity)['end_idx'] for entity in df['object_entity']]\n",
    "    df['object_type'] = [literal_eval(entity)['type'] for entity in df['object_entity']]\n",
    "    print(df.columns)\n",
    "    return df\n",
    "    \n",
    "# subject_entity의 stt_idx와 object entity의 stt_idx에 각각 토큰 집어넣기\n",
    "def tokenize_entity(sentence,sub_idx,ob_idx):\n",
    "    \"\"\"문장을 subject, object의 토큰으로 치환하는 함수\n",
    "    sentence: str |-->input 문장\n",
    "    sub_idx: list(stt,end) |-->subject 인덱스\n",
    "    ob_idx: list(stt,end) |-->object 인덱스\"\"\"\n",
    "    sub_stt, sub_end = sub_idx\n",
    "    ob_stt, ob_end = ob_idx\n",
    "    \n",
    "    if sub_stt < ob_stt: # sub가 ob보다 앞에 있을 때\n",
    "        sentence = sentence[:sub_stt]+'subject'+sentence[sub_end+1:]\n",
    "        l = 7 - (sub_end-sub_stt+1)\n",
    "        ob_stt += l\n",
    "        ob_end += l\n",
    "        sentence = sentence[:ob_stt]+'object'+sentence[ob_end+1:]\n",
    "    else:\n",
    "        sentence = sentence[:ob_stt]+'subject'+sentence[ob_end+1:]\n",
    "        l = 7 - (ob_end-ob_stt+1)\n",
    "        sub_stt += l\n",
    "        sub_end += l\n",
    "        sentence = sentence[:sub_stt]+'object'+sentence[sub_end+1:]\n",
    "    return sentence\n",
    "\n",
    "# 토큰화 문장을 태깅하고 형용사/부사를 제거하는 함수\n",
    "def PosTag_token(sentence,tag='okt',drop_pos=['Adjective','Adverb'],norm=True,pacing=True):\n",
    "    \"\"\"문장을 태깅 후 성분 제거하는 함수\n",
    "    sentence: pd.Series |-->idx기반 dataframe의 행\"\"\"\n",
    "\n",
    "    taggers = {'okt':Okt(), 'kom':Komoran(), 'kkm':Kkma(), 'han':Hannanum()}\n",
    "    tagg = taggers[tag]\n",
    "    sentence_pos = tagg.pos(sentence,norm=norm)\n",
    "    result = []\n",
    "    drop = False\n",
    "\n",
    "    for idx,(word,pos) in enumerate(sentence_pos):\n",
    "        if pos in drop_pos:\n",
    "            drop=True\n",
    "            continue\n",
    "        else:\n",
    "            result.append(word)\n",
    "\n",
    "    if not drop:\n",
    "        return result, drop\n",
    "\n",
    "    #띄어쓰기 보정\n",
    "    elif pacing:\n",
    "        result = ''.join(result)\n",
    "\n",
    "        # spacing = Spacing()\n",
    "        # result = spacing(result)\n",
    "        \n",
    "        spelled_sent = spell_checker.check(result)\n",
    "        result = spelled_sent.checked\n",
    "\n",
    "        #subject, object 보정\n",
    "        if result.find('subject')<0:\n",
    "            for i in range(1,7):\n",
    "                sub = 'subject'\n",
    "                sub = sub[:i] + ' ' + sub[i:]\n",
    "                if result.find(sub)!=-1:\n",
    "                    result = result.replace(sub,'subject')\n",
    "        if result.find('object')<0:\n",
    "            for i in range(1,6):\n",
    "                ob = 'object'\n",
    "                ob = ob[:i] + ' ' +ob[i:]\n",
    "                if result.find(ob)!=-1:\n",
    "                    result = result.replace(ob,'object')\n",
    "            # if result.find('o bject')>=0:\n",
    "            #     result = result.replace('o bject','object')\n",
    "            # elif result.find('ob ject')>=0:\n",
    "            #     result = result.replace('ob ject','object')\n",
    "            # elif result.find('obj ect')>=0:\n",
    "            #     result = result.replace('obj ect','object')\n",
    "            # elif result.find('obje ct')>=0:\n",
    "            #     result = result.replace('obje ct','object')\n",
    "            # elif result.find('objec t')>=0:\n",
    "            #     result = result.replace('objec t','object')\n",
    "        \n",
    "    else:\n",
    "        result = ' '.join(result)\n",
    "    return result,drop\n",
    "\n",
    "# 토큰 다시 치환하기\n",
    "def back_tokenize(sentence,subject_word,object_word):\n",
    "    \"\"\"subject, object 토큰을 원래 단어로 치환하는 함수\"\"\"\n",
    "    if sentence.find('subject')<sentence.find('object'): #sub가 앞에 있을 때\n",
    "        sub_stt_idx = sentence.find('subject')\n",
    "        sub_end_idx = sub_stt_idx+len(subject_word)-1\n",
    "        ob_stt_idx = sentence.find('object') - (7-len(subject_word))\n",
    "        ob_end_idx = ob_stt_idx+len(object_word)-1\n",
    "    else:\n",
    "        ob_stt_idx = sentence.find('object')\n",
    "        ob_end_idx = ob_stt_idx+len(object_word)-1\n",
    "        sub_stt_idx = sentence.find('subject') - (7-len(object_word))\n",
    "        sub_end_idx = sub_stt_idx+len(subject_word)-1\n",
    "        \n",
    "    # subject = sentence.split('subject')\n",
    "    # if len(subject)!=2:\n",
    "    #     return print(subject)\n",
    "    # else:\n",
    "    #     subject_pre,subject_end = subject#sentence.split('subject')\n",
    "    #     result = subject_pre+subject_word+subject_end\n",
    "    subject_pre,subject_end = sentence.split('subject')\n",
    "    result = subject_pre+subject_word+subject_end\n",
    "\n",
    "    # object = result.split('object')\n",
    "    # if len(object)!=2:\n",
    "    #     return print(object)\n",
    "    # else:\n",
    "    #     object_pre,object_end = object #result.split('object')\n",
    "    #     result = object_pre+object_word+object_end\n",
    "    object_pre,object_end = result.split('object')\n",
    "    result = object_pre+object_word+object_end\n",
    "\n",
    "    return result, sub_stt_idx, sub_end_idx, ob_stt_idx, ob_end_idx\n",
    "\n",
    "# 데이터프레임 처리\n",
    "def pos_augmentation(data,exc_limit=200,tag='okt',drop_pos=['Adjective','Adverb'],norm=True,pacing=True):\n",
    "    \"\"\"데이터프레임 전처리\"\"\"\n",
    "    \n",
    "    # exc_label = except_label(data,limit=exc_limit)\n",
    "    dataset = accept_label(data,limit=exc_limit)\n",
    "    dataset = eval_entity(dataset)\n",
    "\n",
    "    new_sentences = []\n",
    "    new_sub_entity = []\n",
    "    new_ob_entity = []\n",
    "    new_labels = []\n",
    "    new_sources = []\n",
    "\n",
    "    #'id', 'sentence', 'subject_entity', 'object_entity', 'label', 'source',\n",
    "    #    'subject_word', 'subject_stt_idx', 'subject_end_idx', 'subject_type',\n",
    "    #    'object_word', 'object_stt_idx', 'object_end_idx', 'object_type'\n",
    "\n",
    "    for i in trange(len(dataset)):\n",
    "        # sent = dataset.loc[i,'sentence']\n",
    "        # sub_wd,sub_stt,sub_end,sub_type = dataset.loc[i,['subject_word','subject_stt_idx','subject_end_idx','subject_type']]\n",
    "        # ob_wd,ob_stt,ob_end,ob_type = dataset.loc[i,['object_word','object_stt_idx','object_end_idx','object_type']]\n",
    "        # label = dataset.loc[i,'label']\n",
    "        # source = dataset.loc[i,'source']\n",
    "\n",
    "        _,sent,_,_,label,source,sub_wd,sub_stt,sub_end,sub_type,ob_wd,ob_stt,ob_end,ob_type = dataset.iloc[i,:]\n",
    "\n",
    "        new_sent = tokenize_entity(sent,[sub_stt,sub_end],[ob_stt,ob_end])\n",
    "        new_sent,drop = PosTag_token(new_sent,tag=tag,drop_pos=drop_pos,norm=norm,pacing=pacing)\n",
    "        if drop: #drop_pos 적용한 케이스\n",
    "            new_sent,sub_stt,sub_end,ob_stt,ob_end = back_tokenize(new_sent,sub_wd,ob_wd)\n",
    "            new_sentences.append(new_sent)\n",
    "            new_sub_entity.append(str({'word':sub_wd,'start_idx':sub_stt,'end_idx':sub_end,'type':sub_type}))\n",
    "            new_ob_entity.append(str({'word':ob_wd,'start_idx':ob_stt,'end_idx':ob_end,'type':ob_type}))\n",
    "            new_labels.append(label)\n",
    "            new_sources.append(source)\n",
    "        else:\n",
    "            continue\n",
    "        sleep(0.01)\n",
    "\n",
    "\n",
    "    add_rows = len(new_sentences)\n",
    "    ids = list(range(len(data),len(data)+add_rows))\n",
    "    \n",
    "    new_df = pd.DataFrame({ 'id':ids,\n",
    "                            'sentence':new_sentences,\n",
    "                            'subject_entity':new_sub_entity,\n",
    "                            'object_entity':new_ob_entity,\n",
    "                            'label':new_labels,\n",
    "                            'source':new_sources})\n",
    "\n",
    "    return new_df  \n",
    "    "
   ]
  },
  {
   "cell_type": "markdown",
   "id": "eedabba6",
   "metadata": {},
   "source": [
    "예제 모음"
   ]
  },
  {
   "cell_type": "code",
   "execution_count": 10,
   "id": "77c5ac25",
   "metadata": {},
   "outputs": [
    {
     "data": {
      "text/plain": [
       "['per:place_of_residence',\n",
       " 'per:other_family',\n",
       " 'per:place_of_birth',\n",
       " 'org:founded_by',\n",
       " 'per:product',\n",
       " 'per:siblings',\n",
       " 'org:political/religious_affiliation',\n",
       " 'per:religion',\n",
       " 'per:schools_attended',\n",
       " 'org:dissolved',\n",
       " 'org:number_of_employees/members',\n",
       " 'per:place_of_death']"
      ]
     },
     "execution_count": 10,
     "metadata": {},
     "output_type": "execute_result"
    }
   ],
   "source": [
    "# except_label 예제\n",
    "# sample = pd.read_csv('./dataset/train/train.csv')\n",
    "# except_label(sample,limit=200)"
   ]
  },
  {
   "cell_type": "code",
   "execution_count": 48,
   "id": "0f31cee5",
   "metadata": {},
   "outputs": [
    {
     "name": "stdout",
     "output_type": "stream",
     "text": [
      "12\n"
     ]
    }
   ],
   "source": [
    "# accept_label 예제\n",
    "df = accept_label(train) # 12 #32470 / 31061\n",
    "# df['label'].value_counts()\n",
    "# df.head()"
   ]
  },
  {
   "cell_type": "code",
   "execution_count": 61,
   "id": "45c3621a",
   "metadata": {},
   "outputs": [
    {
     "data": {
      "text/plain": [
       "'./dataset/train/sample.csv'"
      ]
     },
     "execution_count": 61,
     "metadata": {},
     "output_type": "execute_result"
    }
   ],
   "source": [
    "os.path.join('./dataset/train','sample'+'.csv')"
   ]
  },
  {
   "cell_type": "code",
   "execution_count": 38,
   "id": "16da5582",
   "metadata": {},
   "outputs": [
    {
     "name": "stdout",
     "output_type": "stream",
     "text": [
      "Index(['id', 'sentence', 'subject_entity', 'object_entity', 'label', 'source',\n",
      "       'subject_word', 'subject_stt_idx', 'subject_end_idx', 'subject_type',\n",
      "       'object_word', 'object_stt_idx', 'object_end_idx', 'object_type'],\n",
      "      dtype='object')\n"
     ]
    }
   ],
   "source": [
    "# eval_entity 예제\n",
    "df = eval_entity(train)"
   ]
  },
  {
   "cell_type": "code",
   "execution_count": 15,
   "id": "e0689eed",
   "metadata": {},
   "outputs": [
    {
     "name": "stdout",
     "output_type": "stream",
     "text": [
      "〈Something〉는 조지 해리슨이 쓰고 비틀즈가 1969년 앨범 《Abbey Road》에 담은 노래다.\n"
     ]
    },
    {
     "data": {
      "text/plain": [
       "'〈Something〉는 subject이 쓰고 object가 1969년 앨범 《Abbey Road》에 담은 노래다.'"
      ]
     },
     "execution_count": 15,
     "metadata": {},
     "output_type": "execute_result"
    }
   ],
   "source": [
    "# tokenize_entity 예제\n",
    "sample = df.loc[0,'sentence']\n",
    "print(sample)\n",
    "\n",
    "sam_sub = df.loc[0,['subject_stt_idx','subject_end_idx']]\n",
    "sam_ob = df.loc[0,['object_stt_idx','object_end_idx']]\n",
    "\n",
    "tokenize_entity(sample,sam_sub,sam_ob)"
   ]
  },
  {
   "cell_type": "code",
   "execution_count": null,
   "id": "492a426b",
   "metadata": {},
   "outputs": [],
   "source": [
    "# PosTag_token 예제 - 띄어쓰기 보정이 필요하다\n",
    "sample = tokenize_entity(sample,sam_sub,sam_ob)\n",
    "PosTag_token(sample)"
   ]
  },
  {
   "cell_type": "code",
   "execution_count": 17,
   "id": "d44a1de4",
   "metadata": {},
   "outputs": [
    {
     "data": {
      "text/plain": [
       "('〈 Som ething〉는 조지 해리슨이 쓰고 비틀즈가 1969년 앨범 《 AbbeyRoad》에 담은 노래다.',\n",
       " 15,\n",
       " 20,\n",
       " 26,\n",
       " 28)"
      ]
     },
     "execution_count": 17,
     "metadata": {},
     "output_type": "execute_result"
    }
   ],
   "source": [
    "# back_tokenize 예제\n",
    "sample,tf = PosTag_token(sample)\n",
    "back_tokenize(sample,'조지 해리슨','비틀즈')"
   ]
  },
  {
   "cell_type": "markdown",
   "id": "6f823fee",
   "metadata": {},
   "source": [
    "최종 점검"
   ]
  },
  {
   "cell_type": "code",
   "execution_count": 10,
   "id": "a72f8c3d",
   "metadata": {},
   "outputs": [
    {
     "name": "stdout",
     "output_type": "stream",
     "text": [
      "25\n",
      "Index(['id', 'sentence', 'subject_entity', 'object_entity', 'label', 'source',\n",
      "       'subject_word', 'subject_stt_idx', 'subject_end_idx', 'subject_type',\n",
      "       'object_word', 'object_stt_idx', 'object_end_idx', 'object_type'],\n",
      "      dtype='object')\n"
     ]
    },
    {
     "name": "stderr",
     "output_type": "stream",
     "text": [
      "  0%|          | 2/428 [00:04<15:46,  2.22s/it]\n"
     ]
    },
    {
     "ename": "KeyboardInterrupt",
     "evalue": "",
     "output_type": "error",
     "traceback": [
      "\u001b[0;31m---------------------------------------------------------------------------\u001b[0m",
      "\u001b[0;31mKeyboardInterrupt\u001b[0m                         Traceback (most recent call last)",
      "\u001b[0;32m<ipython-input-10-0dee81805738>\u001b[0m in \u001b[0;36m<module>\u001b[0;34m\u001b[0m\n\u001b[1;32m      2\u001b[0m \u001b[0msample\u001b[0m \u001b[0;34m=\u001b[0m \u001b[0mpd\u001b[0m\u001b[0;34m.\u001b[0m\u001b[0mread_csv\u001b[0m\u001b[0;34m(\u001b[0m\u001b[0;34m'./dataset/train/train.csv'\u001b[0m\u001b[0;34m)\u001b[0m\u001b[0;34m\u001b[0m\u001b[0;34m\u001b[0m\u001b[0m\n\u001b[1;32m      3\u001b[0m \u001b[0;31m# test = pd.read_csv('./dataset/test/test_data.csv')\u001b[0m\u001b[0;34m\u001b[0m\u001b[0;34m\u001b[0m\u001b[0;34m\u001b[0m\u001b[0m\n\u001b[0;32m----> 4\u001b[0;31m \u001b[0mpos_augmentation\u001b[0m\u001b[0;34m(\u001b[0m\u001b[0msample\u001b[0m\u001b[0;34m.\u001b[0m\u001b[0mhead\u001b[0m\u001b[0;34m(\u001b[0m\u001b[0;36m1000\u001b[0m\u001b[0;34m)\u001b[0m\u001b[0;34m,\u001b[0m\u001b[0mexc_limit\u001b[0m\u001b[0;34m=\u001b[0m\u001b[0;36m50\u001b[0m\u001b[0;34m,\u001b[0m\u001b[0mpacing\u001b[0m\u001b[0;34m=\u001b[0m\u001b[0;32mFalse\u001b[0m\u001b[0;34m)\u001b[0m \u001b[0;31m#137 중 81번째에서 에러 발생\u001b[0m\u001b[0;34m\u001b[0m\u001b[0;34m\u001b[0m\u001b[0m\n\u001b[0m",
      "\u001b[0;32m<ipython-input-7-be1761dde278>\u001b[0m in \u001b[0;36mpos_augmentation\u001b[0;34m(data, exc_limit, tag, drop_pos, norm, pacing)\u001b[0m\n\u001b[1;32m    199\u001b[0m \u001b[0;34m\u001b[0m\u001b[0m\n\u001b[1;32m    200\u001b[0m         \u001b[0mnew_sent\u001b[0m \u001b[0;34m=\u001b[0m \u001b[0mtokenize_entity\u001b[0m\u001b[0;34m(\u001b[0m\u001b[0msent\u001b[0m\u001b[0;34m,\u001b[0m\u001b[0;34m[\u001b[0m\u001b[0msub_stt\u001b[0m\u001b[0;34m,\u001b[0m\u001b[0msub_end\u001b[0m\u001b[0;34m]\u001b[0m\u001b[0;34m,\u001b[0m\u001b[0;34m[\u001b[0m\u001b[0mob_stt\u001b[0m\u001b[0;34m,\u001b[0m\u001b[0mob_end\u001b[0m\u001b[0;34m]\u001b[0m\u001b[0;34m)\u001b[0m\u001b[0;34m\u001b[0m\u001b[0;34m\u001b[0m\u001b[0m\n\u001b[0;32m--> 201\u001b[0;31m         \u001b[0mnew_sent\u001b[0m\u001b[0;34m,\u001b[0m\u001b[0mdrop\u001b[0m \u001b[0;34m=\u001b[0m \u001b[0mPosTag_token\u001b[0m\u001b[0;34m(\u001b[0m\u001b[0mnew_sent\u001b[0m\u001b[0;34m,\u001b[0m\u001b[0mtag\u001b[0m\u001b[0;34m=\u001b[0m\u001b[0mtag\u001b[0m\u001b[0;34m,\u001b[0m\u001b[0mdrop_pos\u001b[0m\u001b[0;34m=\u001b[0m\u001b[0mdrop_pos\u001b[0m\u001b[0;34m,\u001b[0m\u001b[0mnorm\u001b[0m\u001b[0;34m=\u001b[0m\u001b[0mnorm\u001b[0m\u001b[0;34m,\u001b[0m\u001b[0mpacing\u001b[0m\u001b[0;34m=\u001b[0m\u001b[0mpacing\u001b[0m\u001b[0;34m)\u001b[0m\u001b[0;34m\u001b[0m\u001b[0;34m\u001b[0m\u001b[0m\n\u001b[0m\u001b[1;32m    202\u001b[0m         \u001b[0;32mif\u001b[0m \u001b[0mdrop\u001b[0m\u001b[0;34m:\u001b[0m \u001b[0;31m#drop_pos 적용한 케이스\u001b[0m\u001b[0;34m\u001b[0m\u001b[0;34m\u001b[0m\u001b[0m\n\u001b[1;32m    203\u001b[0m             \u001b[0mnew_sent\u001b[0m\u001b[0;34m,\u001b[0m\u001b[0msub_stt\u001b[0m\u001b[0;34m,\u001b[0m\u001b[0msub_end\u001b[0m\u001b[0;34m,\u001b[0m\u001b[0mob_stt\u001b[0m\u001b[0;34m,\u001b[0m\u001b[0mob_end\u001b[0m \u001b[0;34m=\u001b[0m \u001b[0mback_tokenize\u001b[0m\u001b[0;34m(\u001b[0m\u001b[0mnew_sent\u001b[0m\u001b[0;34m,\u001b[0m\u001b[0msub_wd\u001b[0m\u001b[0;34m,\u001b[0m\u001b[0mob_wd\u001b[0m\u001b[0;34m)\u001b[0m\u001b[0;34m\u001b[0m\u001b[0;34m\u001b[0m\u001b[0m\n",
      "\u001b[0;32m<ipython-input-7-be1761dde278>\u001b[0m in \u001b[0;36mPosTag_token\u001b[0;34m(sentence, tag, drop_pos, norm, pacing)\u001b[0m\n\u001b[1;32m     83\u001b[0m     sentence: pd.Series |-->idx기반 dataframe의 행\"\"\"\n\u001b[1;32m     84\u001b[0m \u001b[0;34m\u001b[0m\u001b[0m\n\u001b[0;32m---> 85\u001b[0;31m     \u001b[0mtaggers\u001b[0m \u001b[0;34m=\u001b[0m \u001b[0;34m{\u001b[0m\u001b[0;34m'okt'\u001b[0m\u001b[0;34m:\u001b[0m\u001b[0mOkt\u001b[0m\u001b[0;34m(\u001b[0m\u001b[0;34m)\u001b[0m\u001b[0;34m,\u001b[0m \u001b[0;34m'kom'\u001b[0m\u001b[0;34m:\u001b[0m\u001b[0mKomoran\u001b[0m\u001b[0;34m(\u001b[0m\u001b[0;34m)\u001b[0m\u001b[0;34m,\u001b[0m \u001b[0;34m'kkm'\u001b[0m\u001b[0;34m:\u001b[0m\u001b[0mKkma\u001b[0m\u001b[0;34m(\u001b[0m\u001b[0;34m)\u001b[0m\u001b[0;34m,\u001b[0m \u001b[0;34m'han'\u001b[0m\u001b[0;34m:\u001b[0m\u001b[0mHannanum\u001b[0m\u001b[0;34m(\u001b[0m\u001b[0;34m)\u001b[0m\u001b[0;34m}\u001b[0m\u001b[0;34m\u001b[0m\u001b[0;34m\u001b[0m\u001b[0m\n\u001b[0m\u001b[1;32m     86\u001b[0m     \u001b[0mtagg\u001b[0m \u001b[0;34m=\u001b[0m \u001b[0mtaggers\u001b[0m\u001b[0;34m[\u001b[0m\u001b[0mtag\u001b[0m\u001b[0;34m]\u001b[0m\u001b[0;34m\u001b[0m\u001b[0;34m\u001b[0m\u001b[0m\n\u001b[1;32m     87\u001b[0m     \u001b[0msentence_pos\u001b[0m \u001b[0;34m=\u001b[0m \u001b[0mtagg\u001b[0m\u001b[0;34m.\u001b[0m\u001b[0mpos\u001b[0m\u001b[0;34m(\u001b[0m\u001b[0msentence\u001b[0m\u001b[0;34m,\u001b[0m\u001b[0mnorm\u001b[0m\u001b[0;34m=\u001b[0m\u001b[0mnorm\u001b[0m\u001b[0;34m)\u001b[0m\u001b[0;34m\u001b[0m\u001b[0;34m\u001b[0m\u001b[0m\n",
      "\u001b[0;32m/opt/conda/lib/python3.8/site-packages/konlpy/tag/_komoran.py\u001b[0m in \u001b[0;36m__init__\u001b[0;34m(self, jvmpath, userdic, modelpath, max_heap_size)\u001b[0m\n\u001b[1;32m     67\u001b[0m \u001b[0;34m\u001b[0m\u001b[0m\n\u001b[1;32m     68\u001b[0m         \u001b[0;32mtry\u001b[0m\u001b[0;34m:\u001b[0m\u001b[0;34m\u001b[0m\u001b[0;34m\u001b[0m\u001b[0m\n\u001b[0;32m---> 69\u001b[0;31m             \u001b[0mself\u001b[0m\u001b[0;34m.\u001b[0m\u001b[0mjki\u001b[0m \u001b[0;34m=\u001b[0m \u001b[0mkomoranJavaPackage\u001b[0m\u001b[0;34m.\u001b[0m\u001b[0mKomoran\u001b[0m\u001b[0;34m(\u001b[0m\u001b[0mself\u001b[0m\u001b[0;34m.\u001b[0m\u001b[0mmodelpath\u001b[0m\u001b[0;34m)\u001b[0m\u001b[0;34m\u001b[0m\u001b[0;34m\u001b[0m\u001b[0m\n\u001b[0m\u001b[1;32m     70\u001b[0m         \u001b[0;32mexcept\u001b[0m \u001b[0mTypeError\u001b[0m\u001b[0;34m:\u001b[0m  \u001b[0;31m# Package kr.lucypark.komoran.KomoranInterface is not Callable\u001b[0m\u001b[0;34m\u001b[0m\u001b[0;34m\u001b[0m\u001b[0m\n\u001b[1;32m     71\u001b[0m             \u001b[0;32mraise\u001b[0m \u001b[0mIOError\u001b[0m\u001b[0;34m(\u001b[0m\u001b[0;34m\"Cannot access komoran-dic. Please leave an issue at https://github.com/konlpy/konlpy/issues\"\u001b[0m\u001b[0;34m)\u001b[0m\u001b[0;34m\u001b[0m\u001b[0;34m\u001b[0m\u001b[0m\n",
      "\u001b[0;31mKeyboardInterrupt\u001b[0m: "
     ]
    }
   ],
   "source": [
    "# pos_augmentation 예제\n",
    "sample = pd.read_csv('./dataset/train/train.csv')\n",
    "# test = pd.read_csv('./dataset/test/test_data.csv')\n",
    "pos_augmentation(sample.head(1000),exc_limit=50,pacing=False) #137 중 81번째에서 에러 발생"
   ]
  },
  {
   "cell_type": "code",
   "execution_count": 10,
   "id": "e46c6092",
   "metadata": {},
   "outputs": [
    {
     "name": "stdout",
     "output_type": "stream",
     "text": [
      "이건\n",
      "정말\n",
      "대단한\n",
      "문장\n",
      "입니다\n"
     ]
    }
   ],
   "source": [
    "# sample = '이건 정말 대단한 문장입니다'\n",
    "# from konlpy.tag import Okt\n",
    "# okt = Okt()\n",
    "# sample = okt.pos(sample)\n",
    "for idx,(word,pos) in enumerate(sample):\n",
    "    print(word)"
   ]
  },
  {
   "cell_type": "code",
   "execution_count": 28,
   "id": "b133f584",
   "metadata": {},
   "outputs": [
    {
     "name": "stdout",
     "output_type": "stream",
     "text": [
      "0 subject가 항상 앞에 위치하는 건 아니다\n",
      "sentence        〈Something〉는 조지 해리슨이 쓰고 비틀즈가 1969년 앨범 《Abbey R...\n",
      "subject_word                                                  비틀즈\n",
      "object_word                                                조지 해리슨\n",
      "Name: 0, dtype: object\n"
     ]
    }
   ],
   "source": [
    "for i in range(len(df)):\n",
    "    sub = df.loc[i,'subject_stt_idx']\n",
    "    ob = df.loc[i,'object_stt_idx']\n",
    "    if sub>ob:\n",
    "        print(i,'subject가 항상 앞에 위치하는 건 아니다')\n",
    "        print(df.loc[i,['sentence','subject_word','object_word']])\n",
    "        break"
   ]
  },
  {
   "cell_type": "markdown",
   "id": "3f2d9761-5129-4c3f-a15d-d0276b073f10",
   "metadata": {},
   "source": [
    "## 3. Baseline 학습을 위한 전체 데이터셋 만들기"
   ]
  },
  {
   "cell_type": "code",
   "execution_count": 81,
   "id": "6bedfafa-222a-472c-b4ab-8e94bea74c39",
   "metadata": {},
   "outputs": [
    {
     "data": {
      "text/plain": [
       "per:children                           304\n",
       "per:place_of_residence                 193\n",
       "per:other_family                       190\n",
       "per:place_of_birth                     166\n",
       "org:founded_by                         155\n",
       "per:product                            139\n",
       "per:siblings                           136\n",
       "org:political/religious_affiliation     98\n",
       "per:religion                            96\n",
       "per:schools_attended                    82\n",
       "org:dissolved                           66\n",
       "org:number_of_employees/members         48\n",
       "per:place_of_death                      40\n",
       "Name: label, dtype: int64"
      ]
     },
     "execution_count": 81,
     "metadata": {},
     "output_type": "execute_result"
    }
   ],
   "source": [
    "train = pd.read_csv('./dataset/train/train.csv')\n",
    "train.loc[:,'label'].value_counts().tail(13)"
   ]
  },
  {
   "cell_type": "markdown",
   "id": "9f9dbc82",
   "metadata": {},
   "source": [
    "200 기준"
   ]
  },
  {
   "cell_type": "code",
   "execution_count": 54,
   "id": "9c11d4a2",
   "metadata": {},
   "outputs": [
    {
     "name": "stdout",
     "output_type": "stream",
     "text": [
      "12\n",
      "Index(['id', 'sentence', 'subject_entity', 'object_entity', 'label', 'source',\n",
      "       'subject_word', 'subject_stt_idx', 'subject_end_idx', 'subject_type',\n",
      "       'object_word', 'object_stt_idx', 'object_end_idx', 'object_type'],\n",
      "      dtype='object')\n"
     ]
    },
    {
     "name": "stderr",
     "output_type": "stream",
     "text": [
      "100%|██████████| 1409/1409 [34:56<00:00,  1.49s/it]\n"
     ]
    }
   ],
   "source": [
    "train_aug = pos_augmentation(train,exc_limit=200,pacing=False)"
   ]
  },
  {
   "cell_type": "code",
   "execution_count": 74,
   "id": "74febcd5",
   "metadata": {},
   "outputs": [
    {
     "data": {
      "text/plain": [
       "per:place_of_residence                 95\n",
       "org:founded_by                         85\n",
       "per:other_family                       75\n",
       "per:siblings                           71\n",
       "per:product                            69\n",
       "per:religion                           56\n",
       "org:political/religious_affiliation    52\n",
       "per:place_of_birth                     52\n",
       "per:schools_attended                   42\n",
       "org:number_of_employees/members        37\n",
       "org:dissolved                          36\n",
       "per:place_of_death                     12\n",
       "Name: label, dtype: int64"
      ]
     },
     "execution_count": 74,
     "metadata": {},
     "output_type": "execute_result"
    }
   ],
   "source": [
    "train_aug['label'].value_counts()"
   ]
  },
  {
   "cell_type": "code",
   "execution_count": 75,
   "id": "5767126d",
   "metadata": {},
   "outputs": [],
   "source": [
    "train_aug.to_csv('./dataset/train/train_aug_pos200.csv',index=False,encoding='utf-8')"
   ]
  },
  {
   "cell_type": "code",
   "execution_count": 91,
   "id": "a57ab1f0",
   "metadata": {},
   "outputs": [
    {
     "data": {
      "text/plain": [
       "no_relation                            9534\n",
       "org:top_members/employees              4284\n",
       "per:employee_of                        3573\n",
       "per:title                              2103\n",
       "org:member_of                          1866\n",
       "org:alternate_names                    1320\n",
       "per:origin                             1234\n",
       "org:place_of_headquarters              1195\n",
       "per:date_of_birth                      1130\n",
       "per:alternate_names                    1001\n",
       "per:spouse                              795\n",
       "per:colleagues                          534\n",
       "per:parents                             520\n",
       "org:founded                             450\n",
       "org:members                             420\n",
       "per:date_of_death                       418\n",
       "org:product                             380\n",
       "per:children                            304\n",
       "per:place_of_residence                  288\n",
       "per:other_family                        265\n",
       "org:founded_by                          240\n",
       "per:place_of_birth                      218\n",
       "per:product                             208\n",
       "per:siblings                            207\n",
       "per:religion                            152\n",
       "org:political/religious_affiliation     150\n",
       "per:schools_attended                    124\n",
       "org:dissolved                           102\n",
       "org:number_of_employees/members          85\n",
       "per:place_of_death                       52\n",
       "Name: label, dtype: int64"
      ]
     },
     "execution_count": 91,
     "metadata": {},
     "output_type": "execute_result"
    }
   ],
   "source": [
    "result200 = pd.concat([train,train_aug],axis=0).reset_index(drop=True)\n",
    "result200['label'].value_counts()"
   ]
  },
  {
   "cell_type": "code",
   "execution_count": 92,
   "id": "a742514a",
   "metadata": {},
   "outputs": [],
   "source": [
    "result200.to_csv('./dataset/train/train_pos200.csv',index=False,encoding='utf-8')"
   ]
  },
  {
   "cell_type": "code",
   "execution_count": 93,
   "id": "cf5e618b",
   "metadata": {},
   "outputs": [
    {
     "name": "stdout",
     "output_type": "stream",
     "text": [
      "33152\n"
     ]
    },
    {
     "data": {
      "text/html": [
       "<div>\n",
       "<style scoped>\n",
       "    .dataframe tbody tr th:only-of-type {\n",
       "        vertical-align: middle;\n",
       "    }\n",
       "\n",
       "    .dataframe tbody tr th {\n",
       "        vertical-align: top;\n",
       "    }\n",
       "\n",
       "    .dataframe thead th {\n",
       "        text-align: right;\n",
       "    }\n",
       "</style>\n",
       "<table border=\"1\" class=\"dataframe\">\n",
       "  <thead>\n",
       "    <tr style=\"text-align: right;\">\n",
       "      <th></th>\n",
       "      <th>id</th>\n",
       "      <th>sentence</th>\n",
       "      <th>subject_entity</th>\n",
       "      <th>object_entity</th>\n",
       "      <th>label</th>\n",
       "      <th>source</th>\n",
       "    </tr>\n",
       "  </thead>\n",
       "  <tbody>\n",
       "    <tr>\n",
       "      <th>33151</th>\n",
       "      <td>33151</td>\n",
       "      <td>그러나 김양상 의 친형 제로 보기 는 사촌 형제 라고 보기 도 , 이는 삼국사기 ,...</td>\n",
       "      <td>{'word': '원성왕', 'start_idx': 65, 'end_idx': 67...</td>\n",
       "      <td>{'word': '선덕왕', 'start_idx': 74, 'end_idx': 76...</td>\n",
       "      <td>per:other_family</td>\n",
       "      <td>wikipedia</td>\n",
       "    </tr>\n",
       "  </tbody>\n",
       "</table>\n",
       "</div>"
      ],
      "text/plain": [
       "          id                                           sentence  \\\n",
       "33151  33151  그러나 김양상 의 친형 제로 보기 는 사촌 형제 라고 보기 도 , 이는 삼국사기 ,...   \n",
       "\n",
       "                                          subject_entity  \\\n",
       "33151  {'word': '원성왕', 'start_idx': 65, 'end_idx': 67...   \n",
       "\n",
       "                                           object_entity             label  \\\n",
       "33151  {'word': '선덕왕', 'start_idx': 74, 'end_idx': 76...  per:other_family   \n",
       "\n",
       "          source  \n",
       "33151  wikipedia  "
      ]
     },
     "execution_count": 93,
     "metadata": {},
     "output_type": "execute_result"
    }
   ],
   "source": [
    "print(len(result200))\n",
    "result200.tail(1)"
   ]
  },
  {
   "cell_type": "markdown",
   "id": "8494de10",
   "metadata": {},
   "source": [
    "400 기준"
   ]
  },
  {
   "cell_type": "code",
   "execution_count": 56,
   "id": "469a592f",
   "metadata": {},
   "outputs": [
    {
     "name": "stdout",
     "output_type": "stream",
     "text": [
      "14\n",
      "Index(['id', 'sentence', 'subject_entity', 'object_entity', 'label', 'source',\n",
      "       'subject_word', 'subject_stt_idx', 'subject_end_idx', 'subject_type',\n",
      "       'object_word', 'object_stt_idx', 'object_end_idx', 'object_type'],\n",
      "      dtype='object')\n"
     ]
    },
    {
     "name": "stderr",
     "output_type": "stream",
     "text": [
      "100%|██████████| 2093/2093 [52:23<00:00,  1.50s/it]\n"
     ]
    }
   ],
   "source": [
    "train_aug_400 = pos_augmentation(train,exc_limit=400,pacing=False)"
   ]
  },
  {
   "cell_type": "code",
   "execution_count": 69,
   "id": "8b802ae2",
   "metadata": {},
   "outputs": [
    {
     "data": {
      "text/plain": [
       "org:product                            193\n",
       "per:children                           136\n",
       "per:place_of_residence                  95\n",
       "org:founded_by                          85\n",
       "per:other_family                        75\n",
       "per:siblings                            71\n",
       "per:product                             69\n",
       "per:religion                            56\n",
       "org:political/religious_affiliation     52\n",
       "per:place_of_birth                      52\n",
       "per:schools_attended                    42\n",
       "org:number_of_employees/members         37\n",
       "org:dissolved                           36\n",
       "per:place_of_death                      12\n",
       "Name: label, dtype: int64"
      ]
     },
     "execution_count": 69,
     "metadata": {},
     "output_type": "execute_result"
    }
   ],
   "source": [
    "train_aug_400.to_csv('./dataset/train/train_aug_pos400.csv',index=False,encoding='utf-8')\n",
    "train_aug_400['label'].value_counts()"
   ]
  },
  {
   "cell_type": "code",
   "execution_count": 94,
   "id": "fc175596",
   "metadata": {},
   "outputs": [
    {
     "data": {
      "text/plain": [
       "no_relation                            9534\n",
       "org:top_members/employees              4284\n",
       "per:employee_of                        3573\n",
       "per:title                              2103\n",
       "org:member_of                          1866\n",
       "org:alternate_names                    1320\n",
       "per:origin                             1234\n",
       "org:place_of_headquarters              1195\n",
       "per:date_of_birth                      1130\n",
       "per:alternate_names                    1001\n",
       "per:spouse                              795\n",
       "org:product                             573\n",
       "per:colleagues                          534\n",
       "per:parents                             520\n",
       "org:founded                             450\n",
       "per:children                            440\n",
       "org:members                             420\n",
       "per:date_of_death                       418\n",
       "per:place_of_residence                  288\n",
       "per:other_family                        265\n",
       "org:founded_by                          240\n",
       "per:place_of_birth                      218\n",
       "per:product                             208\n",
       "per:siblings                            207\n",
       "per:religion                            152\n",
       "org:political/religious_affiliation     150\n",
       "per:schools_attended                    124\n",
       "org:dissolved                           102\n",
       "org:number_of_employees/members          85\n",
       "per:place_of_death                       52\n",
       "Name: label, dtype: int64"
      ]
     },
     "execution_count": 94,
     "metadata": {},
     "output_type": "execute_result"
    }
   ],
   "source": [
    "result400 = pd.concat([train,train_aug_400],axis=0).reset_index(drop=True)\n",
    "result400['label'].value_counts()"
   ]
  },
  {
   "cell_type": "code",
   "execution_count": 95,
   "id": "eab914e6",
   "metadata": {},
   "outputs": [],
   "source": [
    "result400.to_csv('./dataset/train/train_pos400.csv',index=False,encoding='utf-8')"
   ]
  },
  {
   "cell_type": "markdown",
   "id": "a0de10f2",
   "metadata": {},
   "source": [
    "레전드"
   ]
  },
  {
   "cell_type": "code",
   "execution_count": 35,
   "id": "9410fef6",
   "metadata": {},
   "outputs": [
    {
     "name": "stderr",
     "output_type": "stream",
     "text": [
      "100%|██████████| 31061/31061 [13:10:32<00:00,  1.53s/it]  \n"
     ]
    }
   ],
   "source": [
    "# train_aug = pos_augmentation(train,exc_limit=200,pacing=False) #pacing 띄어쓰기 보정 오류나서 그냥 토큰 단위로 \" \" 보정함...\n",
    "# result = pd.concat(train,train_aug,axis=0)\n",
    "# result.shape\n",
    "\n",
    "\n",
    "# 1차 시기-->acc_label 제대로 안 먹어서 no_relation 포함되었고 value_counts() 엉망이라 acc_label 수정-->13시간 10분 32초\n",
    "# 100%|██████████| 31061/31061 [13:10:32<00:00,  1.53s/it]  \n"
   ]
  },
  {
   "cell_type": "code",
   "execution_count": 36,
   "id": "b0352047",
   "metadata": {},
   "outputs": [
    {
     "data": {
      "text/html": [
       "<div>\n",
       "<style scoped>\n",
       "    .dataframe tbody tr th:only-of-type {\n",
       "        vertical-align: middle;\n",
       "    }\n",
       "\n",
       "    .dataframe tbody tr th {\n",
       "        vertical-align: top;\n",
       "    }\n",
       "\n",
       "    .dataframe thead th {\n",
       "        text-align: right;\n",
       "    }\n",
       "</style>\n",
       "<table border=\"1\" class=\"dataframe\">\n",
       "  <thead>\n",
       "    <tr style=\"text-align: right;\">\n",
       "      <th></th>\n",
       "      <th>id</th>\n",
       "      <th>sentence</th>\n",
       "      <th>subject_entity</th>\n",
       "      <th>object_entity</th>\n",
       "      <th>label</th>\n",
       "      <th>source</th>\n",
       "    </tr>\n",
       "  </thead>\n",
       "  <tbody>\n",
       "    <tr>\n",
       "      <th>0</th>\n",
       "      <td>32470</td>\n",
       "      <td>K 리그 2 에서 성적 1 위 를 달리 고 광주FC 는 지난 26일 한국프로축구연맹...</td>\n",
       "      <td>{'word': '광주FC', 'start_idx': 24, 'end_idx': 2...</td>\n",
       "      <td>{'word': '한국프로축구연맹', 'start_idx': 38, 'end_idx...</td>\n",
       "      <td>org:member_of</td>\n",
       "      <td>wikitree</td>\n",
       "    </tr>\n",
       "    <tr>\n",
       "      <th>1</th>\n",
       "      <td>32471</td>\n",
       "      <td>균일 가 생활용품 점 ( 주 ) 아성다이소 ( 대표 박정부 ) 는 코로나 19 바이...</td>\n",
       "      <td>{'word': '아성다이소', 'start_idx': 18, 'end_idx': ...</td>\n",
       "      <td>{'word': '박정부', 'start_idx': 29, 'end_idx': 31...</td>\n",
       "      <td>org:top_members/employees</td>\n",
       "      <td>wikitree</td>\n",
       "    </tr>\n",
       "    <tr>\n",
       "      <th>2</th>\n",
       "      <td>32472</td>\n",
       "      <td>중공군 에게 온전히 대항 할 수 정도 로 약해진 국민당 은 중화민국 로 수도 를 옮...</td>\n",
       "      <td>{'word': '중화민국', 'start_idx': 33, 'end_idx': 3...</td>\n",
       "      <td>{'word': '타이베이', 'start_idx': 65, 'end_idx': 6...</td>\n",
       "      <td>org:place_of_headquarters</td>\n",
       "      <td>wikipedia</td>\n",
       "    </tr>\n",
       "    <tr>\n",
       "      <th>3</th>\n",
       "      <td>32473</td>\n",
       "      <td>김동연 전 경제부총리 를 비롯 한 김두관 국회의원 , 안규백 국회의원 , 김종민 국...</td>\n",
       "      <td>{'word': '안규백', 'start_idx': 30, 'end_idx': 32...</td>\n",
       "      <td>{'word': '더불어민주당', 'start_idx': 110, 'end_idx'...</td>\n",
       "      <td>per:employee_of</td>\n",
       "      <td>wikitree</td>\n",
       "    </tr>\n",
       "    <tr>\n",
       "      <th>4</th>\n",
       "      <td>32474</td>\n",
       "      <td>' Z 세대 ' 로 불리는 1990년 대 중반 이후 태어난 세대 에게 대표 아이콘 ...</td>\n",
       "      <td>{'word': '빌리 아일리시', 'start_idx': 57, 'end_idx'...</td>\n",
       "      <td>{'word': '싱어송라이터', 'start_idx': 65, 'end_idx':...</td>\n",
       "      <td>per:title</td>\n",
       "      <td>wikitree</td>\n",
       "    </tr>\n",
       "  </tbody>\n",
       "</table>\n",
       "</div>"
      ],
      "text/plain": [
       "      id                                           sentence  \\\n",
       "0  32470  K 리그 2 에서 성적 1 위 를 달리 고 광주FC 는 지난 26일 한국프로축구연맹...   \n",
       "1  32471  균일 가 생활용품 점 ( 주 ) 아성다이소 ( 대표 박정부 ) 는 코로나 19 바이...   \n",
       "2  32472  중공군 에게 온전히 대항 할 수 정도 로 약해진 국민당 은 중화민국 로 수도 를 옮...   \n",
       "3  32473  김동연 전 경제부총리 를 비롯 한 김두관 국회의원 , 안규백 국회의원 , 김종민 국...   \n",
       "4  32474  ' Z 세대 ' 로 불리는 1990년 대 중반 이후 태어난 세대 에게 대표 아이콘 ...   \n",
       "\n",
       "                                      subject_entity  \\\n",
       "0  {'word': '광주FC', 'start_idx': 24, 'end_idx': 2...   \n",
       "1  {'word': '아성다이소', 'start_idx': 18, 'end_idx': ...   \n",
       "2  {'word': '중화민국', 'start_idx': 33, 'end_idx': 3...   \n",
       "3  {'word': '안규백', 'start_idx': 30, 'end_idx': 32...   \n",
       "4  {'word': '빌리 아일리시', 'start_idx': 57, 'end_idx'...   \n",
       "\n",
       "                                       object_entity  \\\n",
       "0  {'word': '한국프로축구연맹', 'start_idx': 38, 'end_idx...   \n",
       "1  {'word': '박정부', 'start_idx': 29, 'end_idx': 31...   \n",
       "2  {'word': '타이베이', 'start_idx': 65, 'end_idx': 6...   \n",
       "3  {'word': '더불어민주당', 'start_idx': 110, 'end_idx'...   \n",
       "4  {'word': '싱어송라이터', 'start_idx': 65, 'end_idx':...   \n",
       "\n",
       "                       label     source  \n",
       "0              org:member_of   wikitree  \n",
       "1  org:top_members/employees   wikitree  \n",
       "2  org:place_of_headquarters  wikipedia  \n",
       "3            per:employee_of   wikitree  \n",
       "4                  per:title   wikitree  "
      ]
     },
     "execution_count": 36,
     "metadata": {},
     "output_type": "execute_result"
    }
   ],
   "source": [
    "train_aug.head()"
   ]
  },
  {
   "cell_type": "code",
   "execution_count": 41,
   "id": "886d17e8",
   "metadata": {},
   "outputs": [
    {
     "data": {
      "text/plain": [
       "'1.2.5'"
      ]
     },
     "execution_count": 41,
     "metadata": {},
     "output_type": "execute_result"
    }
   ],
   "source": [
    "pd.__version__"
   ]
  },
  {
   "cell_type": "code",
   "execution_count": 46,
   "id": "34e07dac",
   "metadata": {},
   "outputs": [],
   "source": [
    "train_aug.to_pickle('./dataset/train/aug_pos.pkl')#.to_csv('./dataset/train/aug_pos.csv',index=False,encoding='utf-8')"
   ]
  },
  {
   "cell_type": "code",
   "execution_count": 2,
   "id": "bb2e07ef",
   "metadata": {},
   "outputs": [
    {
     "data": {
      "text/html": [
       "<div>\n",
       "<style scoped>\n",
       "    .dataframe tbody tr th:only-of-type {\n",
       "        vertical-align: middle;\n",
       "    }\n",
       "\n",
       "    .dataframe tbody tr th {\n",
       "        vertical-align: top;\n",
       "    }\n",
       "\n",
       "    .dataframe thead th {\n",
       "        text-align: right;\n",
       "    }\n",
       "</style>\n",
       "<table border=\"1\" class=\"dataframe\">\n",
       "  <thead>\n",
       "    <tr style=\"text-align: right;\">\n",
       "      <th></th>\n",
       "      <th>id</th>\n",
       "      <th>sentence</th>\n",
       "      <th>subject_entity</th>\n",
       "      <th>object_entity</th>\n",
       "      <th>label</th>\n",
       "      <th>source</th>\n",
       "    </tr>\n",
       "  </thead>\n",
       "  <tbody>\n",
       "    <tr>\n",
       "      <th>0</th>\n",
       "      <td>32470</td>\n",
       "      <td>K 리그 2 에서 성적 1 위 를 달리 고 광주FC 는 지난 26일 한국프로축구연맹...</td>\n",
       "      <td>{'word': '광주FC', 'start_idx': 24, 'end_idx': 2...</td>\n",
       "      <td>{'word': '한국프로축구연맹', 'start_idx': 38, 'end_idx...</td>\n",
       "      <td>org:member_of</td>\n",
       "      <td>wikitree</td>\n",
       "    </tr>\n",
       "    <tr>\n",
       "      <th>1</th>\n",
       "      <td>32471</td>\n",
       "      <td>균일 가 생활용품 점 ( 주 ) 아성다이소 ( 대표 박정부 ) 는 코로나 19 바이...</td>\n",
       "      <td>{'word': '아성다이소', 'start_idx': 18, 'end_idx': ...</td>\n",
       "      <td>{'word': '박정부', 'start_idx': 29, 'end_idx': 31...</td>\n",
       "      <td>org:top_members/employees</td>\n",
       "      <td>wikitree</td>\n",
       "    </tr>\n",
       "    <tr>\n",
       "      <th>2</th>\n",
       "      <td>32472</td>\n",
       "      <td>중공군 에게 온전히 대항 할 수 정도 로 약해진 국민당 은 중화민국 로 수도 를 옮...</td>\n",
       "      <td>{'word': '중화민국', 'start_idx': 33, 'end_idx': 3...</td>\n",
       "      <td>{'word': '타이베이', 'start_idx': 65, 'end_idx': 6...</td>\n",
       "      <td>org:place_of_headquarters</td>\n",
       "      <td>wikipedia</td>\n",
       "    </tr>\n",
       "    <tr>\n",
       "      <th>3</th>\n",
       "      <td>32473</td>\n",
       "      <td>김동연 전 경제부총리 를 비롯 한 김두관 국회의원 , 안규백 국회의원 , 김종민 국...</td>\n",
       "      <td>{'word': '안규백', 'start_idx': 30, 'end_idx': 32...</td>\n",
       "      <td>{'word': '더불어민주당', 'start_idx': 110, 'end_idx'...</td>\n",
       "      <td>per:employee_of</td>\n",
       "      <td>wikitree</td>\n",
       "    </tr>\n",
       "    <tr>\n",
       "      <th>4</th>\n",
       "      <td>32474</td>\n",
       "      <td>' Z 세대 ' 로 불리는 1990년 대 중반 이후 태어난 세대 에게 대표 아이콘 ...</td>\n",
       "      <td>{'word': '빌리 아일리시', 'start_idx': 57, 'end_idx'...</td>\n",
       "      <td>{'word': '싱어송라이터', 'start_idx': 65, 'end_idx':...</td>\n",
       "      <td>per:title</td>\n",
       "      <td>wikitree</td>\n",
       "    </tr>\n",
       "  </tbody>\n",
       "</table>\n",
       "</div>"
      ],
      "text/plain": [
       "      id                                           sentence  \\\n",
       "0  32470  K 리그 2 에서 성적 1 위 를 달리 고 광주FC 는 지난 26일 한국프로축구연맹...   \n",
       "1  32471  균일 가 생활용품 점 ( 주 ) 아성다이소 ( 대표 박정부 ) 는 코로나 19 바이...   \n",
       "2  32472  중공군 에게 온전히 대항 할 수 정도 로 약해진 국민당 은 중화민국 로 수도 를 옮...   \n",
       "3  32473  김동연 전 경제부총리 를 비롯 한 김두관 국회의원 , 안규백 국회의원 , 김종민 국...   \n",
       "4  32474  ' Z 세대 ' 로 불리는 1990년 대 중반 이후 태어난 세대 에게 대표 아이콘 ...   \n",
       "\n",
       "                                      subject_entity  \\\n",
       "0  {'word': '광주FC', 'start_idx': 24, 'end_idx': 2...   \n",
       "1  {'word': '아성다이소', 'start_idx': 18, 'end_idx': ...   \n",
       "2  {'word': '중화민국', 'start_idx': 33, 'end_idx': 3...   \n",
       "3  {'word': '안규백', 'start_idx': 30, 'end_idx': 32...   \n",
       "4  {'word': '빌리 아일리시', 'start_idx': 57, 'end_idx'...   \n",
       "\n",
       "                                       object_entity  \\\n",
       "0  {'word': '한국프로축구연맹', 'start_idx': 38, 'end_idx...   \n",
       "1  {'word': '박정부', 'start_idx': 29, 'end_idx': 31...   \n",
       "2  {'word': '타이베이', 'start_idx': 65, 'end_idx': 6...   \n",
       "3  {'word': '더불어민주당', 'start_idx': 110, 'end_idx'...   \n",
       "4  {'word': '싱어송라이터', 'start_idx': 65, 'end_idx':...   \n",
       "\n",
       "                       label     source  \n",
       "0              org:member_of   wikitree  \n",
       "1  org:top_members/employees   wikitree  \n",
       "2  org:place_of_headquarters  wikipedia  \n",
       "3            per:employee_of   wikitree  \n",
       "4                  per:title   wikitree  "
      ]
     },
     "execution_count": 2,
     "metadata": {},
     "output_type": "execute_result"
    }
   ],
   "source": [
    "sample = pd.read_pickle('./dataset/train/aug_pos.pkl')\n",
    "sample.head()"
   ]
  },
  {
   "cell_type": "code",
   "execution_count": 3,
   "id": "5298e438",
   "metadata": {},
   "outputs": [],
   "source": [
    "sample.to_csv('./dataset/train/aug_pos.csv',index=False,encoding='utf-8')"
   ]
  },
  {
   "cell_type": "code",
   "execution_count": 50,
   "id": "79aefc1a",
   "metadata": {},
   "outputs": [],
   "source": [
    "result = pd.concat([train,train_aug],axis=0)"
   ]
  },
  {
   "cell_type": "code",
   "execution_count": 98,
   "id": "0bf34626",
   "metadata": {},
   "outputs": [
    {
     "data": {
      "text/plain": [
       "Index(['id', 'sentence', 'subject_entity', 'object_entity', 'label', 'source'], dtype='object')"
      ]
     },
     "execution_count": 98,
     "metadata": {},
     "output_type": "execute_result"
    }
   ],
   "source": [
    "train.columns"
   ]
  },
  {
   "cell_type": "code",
   "execution_count": 52,
   "id": "1689a4b4",
   "metadata": {},
   "outputs": [],
   "source": [
    "result.to_pickle('./dataset/train/train_aug_pos.pkl')#.to_csv('./dataset/train/train_aug_pos.csv',index=False,encoding='utf-8')"
   ]
  },
  {
   "cell_type": "code",
   "execution_count": 4,
   "id": "5391b2a4",
   "metadata": {},
   "outputs": [
    {
     "data": {
      "text/html": [
       "<div>\n",
       "<style scoped>\n",
       "    .dataframe tbody tr th:only-of-type {\n",
       "        vertical-align: middle;\n",
       "    }\n",
       "\n",
       "    .dataframe tbody tr th {\n",
       "        vertical-align: top;\n",
       "    }\n",
       "\n",
       "    .dataframe thead th {\n",
       "        text-align: right;\n",
       "    }\n",
       "</style>\n",
       "<table border=\"1\" class=\"dataframe\">\n",
       "  <thead>\n",
       "    <tr style=\"text-align: right;\">\n",
       "      <th></th>\n",
       "      <th>id</th>\n",
       "      <th>sentence</th>\n",
       "      <th>subject_entity</th>\n",
       "      <th>object_entity</th>\n",
       "      <th>label</th>\n",
       "      <th>source</th>\n",
       "    </tr>\n",
       "  </thead>\n",
       "  <tbody>\n",
       "    <tr>\n",
       "      <th>0</th>\n",
       "      <td>0</td>\n",
       "      <td>〈Something〉는 조지 해리슨이 쓰고 비틀즈가 1969년 앨범 《Abbey R...</td>\n",
       "      <td>{'word': '비틀즈', 'start_idx': 24, 'end_idx': 26...</td>\n",
       "      <td>{'word': '조지 해리슨', 'start_idx': 13, 'end_idx':...</td>\n",
       "      <td>no_relation</td>\n",
       "      <td>wikipedia</td>\n",
       "    </tr>\n",
       "    <tr>\n",
       "      <th>1</th>\n",
       "      <td>1</td>\n",
       "      <td>호남이 기반인 바른미래당·대안신당·민주평화당이 우여곡절 끝에 합당해 민생당(가칭)으...</td>\n",
       "      <td>{'word': '민주평화당', 'start_idx': 19, 'end_idx': ...</td>\n",
       "      <td>{'word': '대안신당', 'start_idx': 14, 'end_idx': 1...</td>\n",
       "      <td>no_relation</td>\n",
       "      <td>wikitree</td>\n",
       "    </tr>\n",
       "    <tr>\n",
       "      <th>2</th>\n",
       "      <td>2</td>\n",
       "      <td>K리그2에서 성적 1위를 달리고 있는 광주FC는 지난 26일 한국프로축구연맹으로부터...</td>\n",
       "      <td>{'word': '광주FC', 'start_idx': 21, 'end_idx': 2...</td>\n",
       "      <td>{'word': '한국프로축구연맹', 'start_idx': 34, 'end_idx...</td>\n",
       "      <td>org:member_of</td>\n",
       "      <td>wikitree</td>\n",
       "    </tr>\n",
       "    <tr>\n",
       "      <th>3</th>\n",
       "      <td>3</td>\n",
       "      <td>균일가 생활용품점 (주)아성다이소(대표 박정부)는 코로나19 바이러스로 어려움을 겪...</td>\n",
       "      <td>{'word': '아성다이소', 'start_idx': 13, 'end_idx': ...</td>\n",
       "      <td>{'word': '박정부', 'start_idx': 22, 'end_idx': 24...</td>\n",
       "      <td>org:top_members/employees</td>\n",
       "      <td>wikitree</td>\n",
       "    </tr>\n",
       "    <tr>\n",
       "      <th>4</th>\n",
       "      <td>4</td>\n",
       "      <td>1967년 프로 야구 드래프트 1순위로 요미우리 자이언츠에게 입단하면서 등번호는 8...</td>\n",
       "      <td>{'word': '요미우리 자이언츠', 'start_idx': 22, 'end_id...</td>\n",
       "      <td>{'word': '1967', 'start_idx': 0, 'end_idx': 3,...</td>\n",
       "      <td>no_relation</td>\n",
       "      <td>wikipedia</td>\n",
       "    </tr>\n",
       "  </tbody>\n",
       "</table>\n",
       "</div>"
      ],
      "text/plain": [
       "   id                                           sentence  \\\n",
       "0   0  〈Something〉는 조지 해리슨이 쓰고 비틀즈가 1969년 앨범 《Abbey R...   \n",
       "1   1  호남이 기반인 바른미래당·대안신당·민주평화당이 우여곡절 끝에 합당해 민생당(가칭)으...   \n",
       "2   2  K리그2에서 성적 1위를 달리고 있는 광주FC는 지난 26일 한국프로축구연맹으로부터...   \n",
       "3   3  균일가 생활용품점 (주)아성다이소(대표 박정부)는 코로나19 바이러스로 어려움을 겪...   \n",
       "4   4  1967년 프로 야구 드래프트 1순위로 요미우리 자이언츠에게 입단하면서 등번호는 8...   \n",
       "\n",
       "                                      subject_entity  \\\n",
       "0  {'word': '비틀즈', 'start_idx': 24, 'end_idx': 26...   \n",
       "1  {'word': '민주평화당', 'start_idx': 19, 'end_idx': ...   \n",
       "2  {'word': '광주FC', 'start_idx': 21, 'end_idx': 2...   \n",
       "3  {'word': '아성다이소', 'start_idx': 13, 'end_idx': ...   \n",
       "4  {'word': '요미우리 자이언츠', 'start_idx': 22, 'end_id...   \n",
       "\n",
       "                                       object_entity  \\\n",
       "0  {'word': '조지 해리슨', 'start_idx': 13, 'end_idx':...   \n",
       "1  {'word': '대안신당', 'start_idx': 14, 'end_idx': 1...   \n",
       "2  {'word': '한국프로축구연맹', 'start_idx': 34, 'end_idx...   \n",
       "3  {'word': '박정부', 'start_idx': 22, 'end_idx': 24...   \n",
       "4  {'word': '1967', 'start_idx': 0, 'end_idx': 3,...   \n",
       "\n",
       "                       label     source  \n",
       "0                no_relation  wikipedia  \n",
       "1                no_relation   wikitree  \n",
       "2              org:member_of   wikitree  \n",
       "3  org:top_members/employees   wikitree  \n",
       "4                no_relation  wikipedia  "
      ]
     },
     "execution_count": 4,
     "metadata": {},
     "output_type": "execute_result"
    }
   ],
   "source": [
    "result = pd.read_pickle('./dataset/train/train_aug_pos.pkl')\n",
    "result.head()"
   ]
  },
  {
   "cell_type": "code",
   "execution_count": 5,
   "id": "73f800a0",
   "metadata": {},
   "outputs": [],
   "source": [
    "result.to_csv('./dataset/train/train_aug_pos.csv',index=False,encoding='utf-8')"
   ]
  },
  {
   "cell_type": "markdown",
   "id": "8ba5e06f",
   "metadata": {},
   "source": [
    "## 4. 원본 train과 증강 result 비교"
   ]
  },
  {
   "cell_type": "code",
   "execution_count": 6,
   "id": "b241264a",
   "metadata": {},
   "outputs": [
    {
     "data": {
      "text/html": [
       "<div>\n",
       "<style scoped>\n",
       "    .dataframe tbody tr th:only-of-type {\n",
       "        vertical-align: middle;\n",
       "    }\n",
       "\n",
       "    .dataframe tbody tr th {\n",
       "        vertical-align: top;\n",
       "    }\n",
       "\n",
       "    .dataframe thead th {\n",
       "        text-align: right;\n",
       "    }\n",
       "</style>\n",
       "<table border=\"1\" class=\"dataframe\">\n",
       "  <thead>\n",
       "    <tr style=\"text-align: right;\">\n",
       "      <th></th>\n",
       "      <th>id</th>\n",
       "      <th>sentence</th>\n",
       "      <th>subject_entity</th>\n",
       "      <th>object_entity</th>\n",
       "      <th>label</th>\n",
       "      <th>source</th>\n",
       "    </tr>\n",
       "  </thead>\n",
       "  <tbody>\n",
       "    <tr>\n",
       "      <th>0</th>\n",
       "      <td>0</td>\n",
       "      <td>〈Something〉는 조지 해리슨이 쓰고 비틀즈가 1969년 앨범 《Abbey R...</td>\n",
       "      <td>{'word': '비틀즈', 'start_idx': 24, 'end_idx': 26...</td>\n",
       "      <td>{'word': '조지 해리슨', 'start_idx': 13, 'end_idx':...</td>\n",
       "      <td>no_relation</td>\n",
       "      <td>wikipedia</td>\n",
       "    </tr>\n",
       "    <tr>\n",
       "      <th>1</th>\n",
       "      <td>1</td>\n",
       "      <td>호남이 기반인 바른미래당·대안신당·민주평화당이 우여곡절 끝에 합당해 민생당(가칭)으...</td>\n",
       "      <td>{'word': '민주평화당', 'start_idx': 19, 'end_idx': ...</td>\n",
       "      <td>{'word': '대안신당', 'start_idx': 14, 'end_idx': 1...</td>\n",
       "      <td>no_relation</td>\n",
       "      <td>wikitree</td>\n",
       "    </tr>\n",
       "    <tr>\n",
       "      <th>2</th>\n",
       "      <td>2</td>\n",
       "      <td>K리그2에서 성적 1위를 달리고 있는 광주FC는 지난 26일 한국프로축구연맹으로부터...</td>\n",
       "      <td>{'word': '광주FC', 'start_idx': 21, 'end_idx': 2...</td>\n",
       "      <td>{'word': '한국프로축구연맹', 'start_idx': 34, 'end_idx...</td>\n",
       "      <td>org:member_of</td>\n",
       "      <td>wikitree</td>\n",
       "    </tr>\n",
       "    <tr>\n",
       "      <th>3</th>\n",
       "      <td>3</td>\n",
       "      <td>균일가 생활용품점 (주)아성다이소(대표 박정부)는 코로나19 바이러스로 어려움을 겪...</td>\n",
       "      <td>{'word': '아성다이소', 'start_idx': 13, 'end_idx': ...</td>\n",
       "      <td>{'word': '박정부', 'start_idx': 22, 'end_idx': 24...</td>\n",
       "      <td>org:top_members/employees</td>\n",
       "      <td>wikitree</td>\n",
       "    </tr>\n",
       "    <tr>\n",
       "      <th>4</th>\n",
       "      <td>4</td>\n",
       "      <td>1967년 프로 야구 드래프트 1순위로 요미우리 자이언츠에게 입단하면서 등번호는 8...</td>\n",
       "      <td>{'word': '요미우리 자이언츠', 'start_idx': 22, 'end_id...</td>\n",
       "      <td>{'word': '1967', 'start_idx': 0, 'end_idx': 3,...</td>\n",
       "      <td>no_relation</td>\n",
       "      <td>wikipedia</td>\n",
       "    </tr>\n",
       "  </tbody>\n",
       "</table>\n",
       "</div>"
      ],
      "text/plain": [
       "   id                                           sentence  \\\n",
       "0   0  〈Something〉는 조지 해리슨이 쓰고 비틀즈가 1969년 앨범 《Abbey R...   \n",
       "1   1  호남이 기반인 바른미래당·대안신당·민주평화당이 우여곡절 끝에 합당해 민생당(가칭)으...   \n",
       "2   2  K리그2에서 성적 1위를 달리고 있는 광주FC는 지난 26일 한국프로축구연맹으로부터...   \n",
       "3   3  균일가 생활용품점 (주)아성다이소(대표 박정부)는 코로나19 바이러스로 어려움을 겪...   \n",
       "4   4  1967년 프로 야구 드래프트 1순위로 요미우리 자이언츠에게 입단하면서 등번호는 8...   \n",
       "\n",
       "                                      subject_entity  \\\n",
       "0  {'word': '비틀즈', 'start_idx': 24, 'end_idx': 26...   \n",
       "1  {'word': '민주평화당', 'start_idx': 19, 'end_idx': ...   \n",
       "2  {'word': '광주FC', 'start_idx': 21, 'end_idx': 2...   \n",
       "3  {'word': '아성다이소', 'start_idx': 13, 'end_idx': ...   \n",
       "4  {'word': '요미우리 자이언츠', 'start_idx': 22, 'end_id...   \n",
       "\n",
       "                                       object_entity  \\\n",
       "0  {'word': '조지 해리슨', 'start_idx': 13, 'end_idx':...   \n",
       "1  {'word': '대안신당', 'start_idx': 14, 'end_idx': 1...   \n",
       "2  {'word': '한국프로축구연맹', 'start_idx': 34, 'end_idx...   \n",
       "3  {'word': '박정부', 'start_idx': 22, 'end_idx': 24...   \n",
       "4  {'word': '1967', 'start_idx': 0, 'end_idx': 3,...   \n",
       "\n",
       "                       label     source  \n",
       "0                no_relation  wikipedia  \n",
       "1                no_relation   wikitree  \n",
       "2              org:member_of   wikitree  \n",
       "3  org:top_members/employees   wikitree  \n",
       "4                no_relation  wikipedia  "
      ]
     },
     "execution_count": 6,
     "metadata": {},
     "output_type": "execute_result"
    }
   ],
   "source": [
    "train = pd.read_csv('./dataset/train/train.csv')\n",
    "train.head()"
   ]
  },
  {
   "cell_type": "code",
   "execution_count": 7,
   "id": "50e1c32e",
   "metadata": {},
   "outputs": [
    {
     "data": {
      "image/png": "[encoded data removed]",
      "text/plain": [
       "<Figure size 864x720 with 2 Axes>"
      ]
     },
     "metadata": {
      "needs_background": "light"
     },
     "output_type": "display_data"
    }
   ],
   "source": [
    "import matplotlib.pyplot as plt\n",
    "import seaborn as sns\n",
    "\n",
    "plt.figure(figsize=(12,10))\n",
    "\n",
    "plt.subplot(2,1,1)\n",
    "sns.countplot(y='label',data=train,order=train['label'].value_counts().index)\n",
    "plt.title('original train dataset')\n",
    "\n",
    "plt.subplot(2,1,2)\n",
    "sns.countplot(y='label',data=sample,order=sample['label'].value_counts().index)\n",
    "plt.title('augmentation train dataset')\n",
    "\n",
    "plt.show()"
   ]
  }
 ],
 "metadata": {
  "kernelspec": {
   "display_name": "Python 3 (ipykernel)",
   "language": "python",
   "name": "python3"
  },
  "language_info": {
   "codemirror_mode": {
    "name": "ipython",
    "version": 3
   },
   "file_extension": ".py",
   "mimetype": "text/x-python",
   "name": "python",
   "nbconvert_exporter": "python",
   "pygments_lexer": "ipython3",
   "version": "3.8.13"
  }
 },
 "nbformat": 4,
 "nbformat_minor": 5
}
