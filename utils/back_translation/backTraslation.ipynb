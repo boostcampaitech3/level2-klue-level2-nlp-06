{
 "cells": [
  {
   "cell_type": "code",
   "execution_count": 23,
   "metadata": {},
   "outputs": [],
   "source": [
    "import pickle as pickle\n",
    "import os\n",
    "import pandas as pd\n",
    "import torch\n",
    "import numpy as np\n",
    "from sklearn.metrics import accuracy_score, recall_score, precision_score, f1_score\n",
    "from transformers import AutoTokenizer, AutoConfig, AutoModelForSequenceClassification, Trainer, TrainingArguments, RobertaConfig, RobertaTokenizer, RobertaForSequenceClassification, BertTokenizer\n",
    "import re\n",
    "\n",
    "\n",
    "import sys\n",
    "import numpy as np\n",
    "import pandas as pd\n",
    "import random\n",
    "from tqdm.notebook import tqdm\n",
    "import os\n",
    "import re\n",
    "import time\n",
    "from collections import Counter\n",
    "\n",
    "import transformers\n",
    "from transformers import BertTokenizer,AdamWeightDecay,TFRobertaModel,TFBertModel\n",
    "\n",
    "import sklearn\n",
    "from sklearn.metrics import confusion_matrix,accuracy_score\n",
    "from sklearn.model_selection import StratifiedKFold\n",
    "\n",
    "# import pororo\n",
    "\n",
    "import selenium\n",
    "from selenium import webdriver\n",
    "from selenium.webdriver.common.by import By\n",
    "from selenium.webdriver.support.ui import WebDriverWait\n",
    "from selenium.webdriver.support import expected_conditions as EC"
   ]
  },
  {
   "cell_type": "code",
   "execution_count": 24,
   "metadata": {},
   "outputs": [
    {
     "name": "stdout",
     "output_type": "stream",
     "text": [
      "Requirement already satisfied: selenium in /opt/conda/lib/python3.8/site-packages (4.1.3)\n",
      "Requirement already satisfied: trio~=0.17 in /opt/conda/lib/python3.8/site-packages (from selenium) (0.20.0)\n",
      "Requirement already satisfied: trio-websocket~=0.9 in /opt/conda/lib/python3.8/site-packages (from selenium) (0.9.2)\n",
      "Requirement already satisfied: urllib3[secure,socks]~=1.26 in /opt/conda/lib/python3.8/site-packages (from selenium) (1.26.9)\n",
      "Requirement already satisfied: async-generator>=1.9 in /opt/conda/lib/python3.8/site-packages (from trio~=0.17->selenium) (1.10)\n",
      "Requirement already satisfied: attrs>=19.2.0 in /opt/conda/lib/python3.8/site-packages (from trio~=0.17->selenium) (21.2.0)\n",
      "Requirement already satisfied: outcome in /opt/conda/lib/python3.8/site-packages (from trio~=0.17->selenium) (1.1.0)\n",
      "Requirement already satisfied: sortedcontainers in /opt/conda/lib/python3.8/site-packages (from trio~=0.17->selenium) (2.4.0)\n",
      "Requirement already satisfied: sniffio in /opt/conda/lib/python3.8/site-packages (from trio~=0.17->selenium) (1.2.0)\n",
      "Requirement already satisfied: idna in /opt/conda/lib/python3.8/site-packages (from trio~=0.17->selenium) (2.10)\n",
      "Requirement already satisfied: wsproto>=0.14 in /opt/conda/lib/python3.8/site-packages (from trio-websocket~=0.9->selenium) (1.1.0)\n",
      "Requirement already satisfied: certifi; extra == \"secure\" in /opt/conda/lib/python3.8/site-packages (from urllib3[secure,socks]~=1.26->selenium) (2020.12.5)\n",
      "Requirement already satisfied: pyOpenSSL>=0.14; extra == \"secure\" in /opt/conda/lib/python3.8/site-packages (from urllib3[secure,socks]~=1.26->selenium) (19.1.0)\n",
      "Requirement already satisfied: cryptography>=1.3.4; extra == \"secure\" in /opt/conda/lib/python3.8/site-packages (from urllib3[secure,socks]~=1.26->selenium) (3.2.1)\n",
      "Requirement already satisfied: PySocks!=1.5.7,<2.0,>=1.5.6; extra == \"socks\" in /opt/conda/lib/python3.8/site-packages (from urllib3[secure,socks]~=1.26->selenium) (1.7.1)\n",
      "Requirement already satisfied: h11<1,>=0.9.0 in /opt/conda/lib/python3.8/site-packages (from wsproto>=0.14->trio-websocket~=0.9->selenium) (0.9.0)\n",
      "Requirement already satisfied: six>=1.5.2 in /opt/conda/lib/python3.8/site-packages (from pyOpenSSL>=0.14; extra == \"secure\"->urllib3[secure,socks]~=1.26->selenium) (1.15.0)\n",
      "Requirement already satisfied: cffi!=1.11.3,>=1.8 in /opt/conda/lib/python3.8/site-packages (from cryptography>=1.3.4; extra == \"secure\"->urllib3[secure,socks]~=1.26->selenium) (1.14.3)\n",
      "Requirement already satisfied: pycparser in /opt/conda/lib/python3.8/site-packages (from cffi!=1.11.3,>=1.8->cryptography>=1.3.4; extra == \"secure\"->urllib3[secure,socks]~=1.26->selenium) (2.20)\n",
      "Hit:1 http://ppa.launchpad.net/webupd8team/java/ubuntu bionic InRelease        \n",
      "Get:2 http://security.ubuntu.com/ubuntu bionic-security InRelease [88.7 kB]    \n",
      "Hit:3 http://archive.ubuntu.com/ubuntu bionic InRelease   \n",
      "Get:4 http://archive.ubuntu.com/ubuntu bionic-updates InRelease [88.7 kB]      \n",
      "Get:5 http://archive.ubuntu.com/ubuntu bionic-backports InRelease [74.6 kB]    \n",
      "Get:6 http://security.ubuntu.com/ubuntu bionic-security/universe amd64 Packages [1484 kB]\n",
      "Get:7 http://archive.ubuntu.com/ubuntu bionic-updates/universe amd64 Packages [2262 kB]\n",
      "Get:8 http://archive.ubuntu.com/ubuntu bionic-updates/main amd64 Packages [3098 kB]\n",
      "Get:9 http://security.ubuntu.com/ubuntu bionic-security/main amd64 Packages [2660 kB]\n",
      "Fetched 9756 kB in 4s (2625 kB/s)                        \n",
      "Reading package lists... Done\n",
      "Reading package lists... Done\n",
      "Building dependency tree       \n",
      "Reading state information... Done\n",
      "The following packages will be upgraded:\n",
      "  chromium-chromedriver\n",
      "1 upgraded, 0 newly installed, 0 to remove and 71 not upgraded.\n",
      "Need to get 5092 kB of archives.\n",
      "After this operation, 0 B of additional disk space will be used.\n",
      "Get:1 http://security.ubuntu.com/ubuntu bionic-security/universe amd64 chromium-chromedriver amd64 99.0.4844.84-0ubuntu0.18.04.1 [5092 kB]\n",
      "Fetched 5092 kB in 3s (2011 kB/s)                \u001b[0m33m\u001b[33m\u001b[33m\u001b[33m\u001b[33m\n",
      "debconf: delaying package configuration, since apt-utils is not installed\n",
      "\n",
      "(Reading database ... 37529 files and directories currently installed.)\n",
      "Preparing to unpack .../chromium-chromedriver_99.0.4844.84-0ubuntu0.18.04.1_amd64.deb ...\n",
      "\u001b7\u001b[24;0f\u001b[42m\u001b[30mProgress: [  0%]\u001b[49m\u001b[39m [..........................................................] \u001b8\u001b7\u001b[24;0f\u001b[42m\u001b[30mProgress: [ 17%]\u001b[49m\u001b[39m [#########.................................................] \u001b8Unpacking chromium-chromedriver (99.0.4844.84-0ubuntu0.18.04.1) over (99.0.4844.51-0ubuntu0.18.04.1) ...\n",
      "\u001b7\u001b[24;0f\u001b[42m\u001b[30mProgress: [ 33%]\u001b[49m\u001b[39m [###################.......................................] \u001b8\u001b7\u001b[24;0f\u001b[42m\u001b[30mProgress: [ 50%]\u001b[49m\u001b[39m [#############################.............................] \u001b8Setting up chromium-chromedriver (99.0.4844.84-0ubuntu0.18.04.1) ...\n",
      "\u001b7\u001b[24;0f\u001b[42m\u001b[30mProgress: [ 67%]\u001b[49m\u001b[39m [######################################....................] \u001b8\u001b7\u001b[24;0f\u001b[42m\u001b[30mProgress: [ 83%]\u001b[49m\u001b[39m [################################################..........] \u001b8\n",
      "\u001b7\u001b[0;24r\u001b8\u001b[1A\u001b[JRequirement already satisfied: pororo in /opt/conda/lib/python3.8/site-packages (0.4.2)\n",
      "Requirement already satisfied: nltk>=3.5 in /opt/conda/lib/python3.8/site-packages (from pororo) (3.7)\n",
      "Requirement already satisfied: marisa-trie in /opt/conda/lib/python3.8/site-packages (from pororo) (0.7.7)\n",
      "Requirement already satisfied: kss in /opt/conda/lib/python3.8/site-packages (from pororo) (3.4.2)\n",
      "Requirement already satisfied: pillow>=4.1.1 in /opt/conda/lib/python3.8/site-packages (from pororo) (8.1.0)\n",
      "Requirement already satisfied: fairseq>=0.10.2 in /opt/conda/lib/python3.8/site-packages (from pororo) (0.10.2)\n",
      "Requirement already satisfied: torchvision==0.7.0 in /opt/conda/lib/python3.8/site-packages (from pororo) (0.7.0)\n",
      "Requirement already satisfied: sentence-transformers>=0.4.1.2 in /opt/conda/lib/python3.8/site-packages (from pororo) (2.2.0)\n",
      "Requirement already satisfied: word2word in /opt/conda/lib/python3.8/site-packages (from pororo) (1.0.0)\n",
      "Requirement already satisfied: wget in /opt/conda/lib/python3.8/site-packages (from pororo) (3.2)\n",
      "Requirement already satisfied: lxml in /opt/conda/lib/python3.8/site-packages (from pororo) (4.8.0)\n",
      "Requirement already satisfied: whoosh in /opt/conda/lib/python3.8/site-packages (from pororo) (2.7.4)\n",
      "Requirement already satisfied: g2p-en in /opt/conda/lib/python3.8/site-packages (from pororo) (2.1.0)\n",
      "Requirement already satisfied: torch==1.6.0 in /opt/conda/lib/python3.8/site-packages (from pororo) (1.6.0)\n",
      "Requirement already satisfied: joblib in /opt/conda/lib/python3.8/site-packages (from pororo) (1.1.0)\n",
      "Requirement already satisfied: transformers>=4.0.0 in /opt/conda/lib/python3.8/site-packages (from pororo) (4.10.0)\n",
      "Requirement already satisfied: regex>=2021.8.3 in /opt/conda/lib/python3.8/site-packages (from nltk>=3.5->pororo) (2022.3.15)\n",
      "Requirement already satisfied: click in /opt/conda/lib/python3.8/site-packages (from nltk>=3.5->pororo) (8.0.4)\n",
      "Requirement already satisfied: tqdm in /opt/conda/lib/python3.8/site-packages (from nltk>=3.5->pororo) (4.51.0)\n",
      "Requirement already satisfied: setuptools in /opt/conda/lib/python3.8/site-packages (from marisa-trie->pororo) (50.3.1.post20201107)\n",
      "Requirement already satisfied: more-itertools in /opt/conda/lib/python3.8/site-packages (from kss->pororo) (8.12.0)\n",
      "Requirement already satisfied: emoji in /opt/conda/lib/python3.8/site-packages (from kss->pororo) (1.7.0)\n",
      "Requirement already satisfied: cffi in /opt/conda/lib/python3.8/site-packages (from fairseq>=0.10.2->pororo) (1.14.3)\n",
      "Requirement already satisfied: numpy in /opt/conda/lib/python3.8/site-packages (from fairseq>=0.10.2->pororo) (1.22.3)\n",
      "Requirement already satisfied: sacrebleu>=1.4.12 in /opt/conda/lib/python3.8/site-packages (from fairseq>=0.10.2->pororo) (2.0.0)\n",
      "Requirement already satisfied: dataclasses in /opt/conda/lib/python3.8/site-packages (from fairseq>=0.10.2->pororo) (0.6)\n",
      "Requirement already satisfied: hydra-core in /opt/conda/lib/python3.8/site-packages (from fairseq>=0.10.2->pororo) (1.1.1)\n",
      "Requirement already satisfied: cython in /opt/conda/lib/python3.8/site-packages (from fairseq>=0.10.2->pororo) (0.29.28)\n",
      "Requirement already satisfied: scipy in /opt/conda/lib/python3.8/site-packages (from sentence-transformers>=0.4.1.2->pororo) (1.7.1)\n",
      "Requirement already satisfied: sentencepiece in /opt/conda/lib/python3.8/site-packages (from sentence-transformers>=0.4.1.2->pororo) (0.1.96)\n",
      "Requirement already satisfied: huggingface-hub in /opt/conda/lib/python3.8/site-packages (from sentence-transformers>=0.4.1.2->pororo) (0.4.0)\n",
      "Requirement already satisfied: scikit-learn in /opt/conda/lib/python3.8/site-packages (from sentence-transformers>=0.4.1.2->pororo) (0.24.2)\n",
      "Requirement already satisfied: requests in /opt/conda/lib/python3.8/site-packages (from word2word->pororo) (2.27.1)\n",
      "Requirement already satisfied: inflect>=0.3.1 in /opt/conda/lib/python3.8/site-packages (from g2p-en->pororo) (5.4.0)\n",
      "Requirement already satisfied: distance>=0.1.3 in /opt/conda/lib/python3.8/site-packages (from g2p-en->pororo) (0.1.3)\n",
      "Requirement already satisfied: future in /opt/conda/lib/python3.8/site-packages (from torch==1.6.0->pororo) (0.18.2)\n",
      "Requirement already satisfied: packaging in /opt/conda/lib/python3.8/site-packages (from transformers>=4.0.0->pororo) (21.0)\n",
      "Requirement already satisfied: tokenizers<0.11,>=0.10.1 in /opt/conda/lib/python3.8/site-packages (from transformers>=4.0.0->pororo) (0.10.3)\n",
      "Requirement already satisfied: filelock in /opt/conda/lib/python3.8/site-packages (from transformers>=4.0.0->pororo) (3.0.12)\n",
      "Requirement already satisfied: pyyaml>=5.1 in /opt/conda/lib/python3.8/site-packages (from transformers>=4.0.0->pororo) (5.3.1)\n",
      "Requirement already satisfied: sacremoses in /opt/conda/lib/python3.8/site-packages (from transformers>=4.0.0->pororo) (0.0.49)\n",
      "Requirement already satisfied: pycparser in /opt/conda/lib/python3.8/site-packages (from cffi->fairseq>=0.10.2->pororo) (2.20)\n",
      "Requirement already satisfied: tabulate>=0.8.9 in /opt/conda/lib/python3.8/site-packages (from sacrebleu>=1.4.12->fairseq>=0.10.2->pororo) (0.8.9)\n",
      "Requirement already satisfied: portalocker in /opt/conda/lib/python3.8/site-packages (from sacrebleu>=1.4.12->fairseq>=0.10.2->pororo) (2.4.0)\n",
      "Requirement already satisfied: colorama in /opt/conda/lib/python3.8/site-packages (from sacrebleu>=1.4.12->fairseq>=0.10.2->pororo) (0.4.4)\n",
      "Requirement already satisfied: omegaconf==2.1.* in /opt/conda/lib/python3.8/site-packages (from hydra-core->fairseq>=0.10.2->pororo) (2.1.1)\n",
      "Requirement already satisfied: importlib-resources; python_version < \"3.9\" in /opt/conda/lib/python3.8/site-packages (from hydra-core->fairseq>=0.10.2->pororo) (5.6.0)\n",
      "Requirement already satisfied: antlr4-python3-runtime==4.8 in /opt/conda/lib/python3.8/site-packages (from hydra-core->fairseq>=0.10.2->pororo) (4.8)\n",
      "Requirement already satisfied: typing-extensions>=3.7.4.3 in /opt/conda/lib/python3.8/site-packages (from huggingface-hub->sentence-transformers>=0.4.1.2->pororo) (3.7.4.3)\n",
      "Requirement already satisfied: threadpoolctl>=2.0.0 in /opt/conda/lib/python3.8/site-packages (from scikit-learn->sentence-transformers>=0.4.1.2->pororo) (3.1.0)\n",
      "Requirement already satisfied: idna<4,>=2.5; python_version >= \"3\" in /opt/conda/lib/python3.8/site-packages (from requests->word2word->pororo) (2.10)\n",
      "Requirement already satisfied: charset-normalizer~=2.0.0; python_version >= \"3\" in /opt/conda/lib/python3.8/site-packages (from requests->word2word->pororo) (2.0.12)\n",
      "Requirement already satisfied: urllib3<1.27,>=1.21.1 in /opt/conda/lib/python3.8/site-packages (from requests->word2word->pororo) (1.26.9)\n",
      "Requirement already satisfied: certifi>=2017.4.17 in /opt/conda/lib/python3.8/site-packages (from requests->word2word->pororo) (2020.12.5)\n",
      "Requirement already satisfied: pyparsing>=2.0.2 in /opt/conda/lib/python3.8/site-packages (from packaging->transformers>=4.0.0->pororo) (2.4.7)\n",
      "Requirement already satisfied: six in /opt/conda/lib/python3.8/site-packages (from sacremoses->transformers>=4.0.0->pororo) (1.15.0)\n",
      "Requirement already satisfied: zipp>=3.1.0; python_version < \"3.10\" in /opt/conda/lib/python3.8/site-packages (from importlib-resources; python_version < \"3.9\"->hydra-core->fairseq>=0.10.2->pororo) (3.7.0)\n"
     ]
    }
   ],
   "source": [
    "!pip install selenium\n",
    "!apt-get update\n",
    "!apt install chromium-chromedriver\n",
    "!pip install pororo"
   ]
  },
  {
   "cell_type": "code",
   "execution_count": 25,
   "metadata": {},
   "outputs": [],
   "source": [
    "# from load_data.py\n",
    "class RE_Dataset(torch.utils.data.Dataset):\n",
    "  \"\"\" Dataset 구성을 위한 class.\"\"\"\n",
    "  def __init__(self, pair_dataset, labels):\n",
    "    self.pair_dataset = pair_dataset\n",
    "    self.labels = labels\n",
    "\n",
    "  def __getitem__(self, idx):\n",
    "    item = {key: val[idx].clone().detach() for key, val in self.pair_dataset.items()}\n",
    "    item['labels'] = torch.tensor(self.labels[idx])\n",
    "    return item\n",
    "\n",
    "  def __len__(self):\n",
    "    return len(self.labels)\n",
    "\n",
    "def preprocessing_dataset(dataset):\n",
    "  \"\"\" 처음 불러온 csv 파일을 원하는 형태의 DataFrame으로 변경 시켜줍니다.\"\"\"\n",
    "  subject_entity = []\n",
    "  object_entity = []\n",
    "  for i,j in zip(dataset['subject_entity'], dataset['object_entity']):\n",
    "    i = i[1:-1].split(',')[0].split(':')[1]\n",
    "    j = j[1:-1].split(',')[0].split(':')[1]\n",
    "\n",
    "    subject_entity.append(i)\n",
    "    object_entity.append(j)\n",
    "  out_dataset = pd.DataFrame({'id':dataset['id'], 'sentence':dataset['sentence'],'subject_entity':subject_entity,'object_entity':object_entity,'label':dataset['label'],})\n",
    "  return out_dataset\n",
    "\n",
    "def load_data(dataset_dir):\n",
    "  \"\"\" csv 파일을 경로에 맡게 불러 옵니다. \"\"\"\n",
    "  pd_dataset = pd.read_csv(dataset_dir)\n",
    "  dataset = preprocessing_dataset(pd_dataset)\n",
    "  \n",
    "  return dataset\n",
    "\n",
    "def tokenized_dataset(dataset, tokenizer):\n",
    "  \"\"\" tokenizer에 따라 sentence를 tokenizing 합니다.\"\"\"\n",
    "  concat_entity = []\n",
    "  for e01, e02 in zip(dataset['subject_entity'], dataset['object_entity']):\n",
    "    temp = ''\n",
    "    temp = e01 + '[SEP]' + e02\n",
    "    concat_entity.append(temp)\n",
    "  tokenized_sentences = tokenizer(\n",
    "      concat_entity,\n",
    "      list(dataset['sentence']),\n",
    "      return_tensors=\"pt\",\n",
    "      padding=True, # \"max_length\"\n",
    "      truncation=True,\n",
    "      max_length=256, # ??\n",
    "      add_special_tokens=True,\n",
    "      )\n",
    "  return tokenized_sentences\n",
    "\n",
    "def label_to_num(label):\n",
    "  num_label = []\n",
    "  with open('../code/dict_label_to_num.pkl', 'rb') as f:\n",
    "    dict_label_to_num = pickle.load(f)\n",
    "  for v in label:\n",
    "    num_label.append(dict_label_to_num[v])\n",
    "  \n",
    "  return num_label"
   ]
  },
  {
   "cell_type": "code",
   "execution_count": 26,
   "metadata": {},
   "outputs": [],
   "source": [
    "train_dataset = load_data(\"../dataset/train/train.csv\")\n",
    "# dev_dataset = load_data(\"../dataset/train/dev.csv\") # validation용 데이터는 따로 만드셔야 합니다.\n",
    "\n",
    "train_label = label_to_num(train_dataset['label'].values)\n",
    "# dev_label = label_to_num(dev_dataset['label'].values)"
   ]
  },
  {
   "cell_type": "code",
   "execution_count": 27,
   "metadata": {},
   "outputs": [],
   "source": [
    "def chrome_setting():\n",
    "  chrome_options = webdriver.ChromeOptions()\n",
    "  chrome_options.add_argument('--headless')\n",
    "  chrome_options.add_argument('--no-sandbox')\n",
    "  chrome_options.add_argument('--disable-dev-shm-usage')\n",
    "  driver = webdriver.Chrome('chromedriver', options=chrome_options)\n",
    "  return driver"
   ]
  },
  {
   "cell_type": "code",
   "execution_count": 28,
   "metadata": {},
   "outputs": [],
   "source": [
    "driver=chrome_setting()"
   ]
  },
  {
   "cell_type": "code",
   "execution_count": 29,
   "metadata": {},
   "outputs": [],
   "source": [
    "# Crawling\n",
    "def kor_to_trans(text_data, trans_lang,start_index,final_index):\n",
    "\n",
    "    target_present = EC.presence_of_element_located((By.XPATH, '//*[@id=\"txtTarget\"]'))\n",
    "\n",
    "    trans_list= []\n",
    "    for i in tqdm(range(start_index,final_index)): \n",
    "        \n",
    "        if (i!=0)&(i%99==0):\n",
    "            time.sleep(2)\n",
    "            print('{}th : '.format(i), backtrans)\n",
    "            # np.save(data_path+'kor_to_eng_train_{}_{}.npy'.format(start_index,final_index),trans_list)\n",
    "        \n",
    "        try:\n",
    "            driver.get('https://papago.naver.com/?sk=ko&tk='+trans_lang+'&st='+text_data[i])\n",
    "            time.sleep(1.5)\n",
    "            element=WebDriverWait(driver, 10).until(target_present)\n",
    "            time.sleep(0.1)\n",
    "            backtrans = element.text \n",
    "\n",
    "            if (backtrans=='')|(backtrans==' '):\n",
    "                element=WebDriverWait(driver, 10).until(target_present)\n",
    "                backtrans = element.text \n",
    "                trans_list.append(backtrans)\n",
    "            else:\n",
    "                trans_list.append(backtrans)\n",
    "        \n",
    "        except:\n",
    "            trans_list.append('')\n",
    "            \n",
    "    return trans_list"
   ]
  },
  {
   "cell_type": "code",
   "execution_count": 30,
   "metadata": {},
   "outputs": [
    {
     "name": "stdout",
     "output_type": "stream",
     "text": [
      "32460\n"
     ]
    }
   ],
   "source": [
    "print(len(train_dataset))"
   ]
  },
  {
   "cell_type": "code",
   "execution_count": 31,
   "metadata": {},
   "outputs": [
    {
     "data": {
      "application/vnd.jupyter.widget-view+json": {
       "model_id": "5ea1a4cc48bf42b58a1fe8e9ba45265e",
       "version_major": 2,
       "version_minor": 0
      },
      "text/plain": [
       "HBox(children=(HTML(value=''), FloatProgress(value=0.0, max=32460.0), HTML(value='')))"
      ]
     },
     "metadata": {},
     "output_type": "display_data"
    },
    {
     "name": "stdout",
     "output_type": "stream",
     "text": [
      "99th :  He is the fourth son of King Heonjong Seonghwaje, half brother of King Hyojong Hong Chije, and the birth father of King Sejong's family ritual.\n",
      "198th :  Haenam-gun (gun governor Myeonghyeon-gwan) will provide Nutrition Plus to deliver supplements to pregnant women and infants.\n",
      "297th :  In January 2017, the TWRP team launched an Android application that allows it to flash recovery using root access, but unlike recovery, the app is proprietary software.\n"
     ]
    }
   ],
   "source": [
    "trans_list=[]\n",
    "output = kor_to_trans(train_dataset['sentence'], 'ko', 0, len(train_dataset))\n",
    "print(output[:10], len(output))"
   ]
  },
  {
   "cell_type": "code",
   "execution_count": 10,
   "metadata": {},
   "outputs": [],
   "source": [
    "# Reset selenium chrome driver\n",
    "driver=chrome_setting()"
   ]
  },
  {
   "cell_type": "code",
   "execution_count": 21,
   "metadata": {},
   "outputs": [],
   "source": [
    "def trans_to_kor(text_data, trans_lang,start_index,final_index):\n",
    "\n",
    "    target_present = EC.presence_of_element_located((By.XPATH, '//*[@id=\"txtTarget\"]'))\n",
    "    trans_list = []\n",
    "    for i in tqdm(range(start_index,final_index)): \n",
    "        \n",
    "        if (i!=0)&(i%99==0):\n",
    "            time.sleep(2)\n",
    "            print('{}th : '.format(i), backtrans)\n",
    "            #   np.save(data_path+'kr_title.npy',trans_list)\n",
    "        \n",
    "        try:\n",
    "            driver.get('https://papago.naver.com/?sk=ko&tk='+trans_lang+'&st='+text_data[i])\n",
    "            time.sleep(1.5)\n",
    "            element=WebDriverWait(driver, 10).until(target_present)\n",
    "            time.sleep(0.5)\n",
    "            backtrans = element.text \n",
    "\n",
    "            if (backtrans=='')|(backtrans==' '):\n",
    "                element=WebDriverWait(driver, 10).until(target_present)\n",
    "                backtrans = element.text \n",
    "                trans_list.append(backtrans)\n",
    "            else:\n",
    "                trans_list.append(backtrans)\n",
    "            \n",
    "        except:\n",
    "            trans_list.append('')\n",
    "        \n",
    "    return trans_list"
   ]
  },
  {
   "cell_type": "code",
   "execution_count": 22,
   "metadata": {},
   "outputs": [
    {
     "data": {
      "application/vnd.jupyter.widget-view+json": {
       "model_id": "2d4029218d8b4e78a8a74fe0e4ad1db2",
       "version_major": 2,
       "version_minor": 0
      },
      "text/plain": [
       "HBox(children=(HTML(value=''), FloatProgress(value=0.0), HTML(value='')))"
      ]
     },
     "metadata": {},
     "output_type": "display_data"
    },
    {
     "name": "stdout",
     "output_type": "stream",
     "text": [
      "99th :  그는 헌종 성화제의 넷째 아들이며, 효종 홍치제의 이복동생이며, 세종대왕의 가례의 생부이다.\n",
      "\n",
      "['\"Something\"은 조지 해리슨이 썼고 비틀즈의 1969년 앨범 \"Abbey Road\"에 수록되었다.', '호남을 기반으로 한 바른정당과 대안신당, 민주평화당이 우여곡절 끝에 합당해 민생당(가칭)으로 거듭난다.', '', '균일가 생활용품 전문점 아성다이소는 COVID-19 바이러스에 시달리고 있는 대구광역시에 행복상자를 전달했다고 10일 밝혔다.', '1967년 프로야구 드래프트 1순위로 요미우리 자이언츠에 입단했을 때 등번호는 8번이었다.', ': 유엔, 유럽의회, 북대서양조약기구(NATO), 국제이주기구, 세계보건기구(WHO), 지중해연합, 이슬람협력기구, 유럽안보협력기구, 국제통화기금, 세계무역기구. 프랑코포니도 있어요', '이에 따라 나폴리와의 계약을 연장한 마라도나는 1989년 팀을 UEFA컵 정상에 올려놓았고 이듬해 유럽 챔피언 AC 밀란을 꺾고 다시 한 번 세리에A 정상에 올랐다.', '박용오(朴龍五, 1937년 3월 19일 ~ 2009년 11월 4일)는 서울에서 태어나 두산그룹 회장, KBO 총재를 역임한 대한민국의 기업인이다.', '중국군에 대항할 수 없게 된 국민당은 수도를 타이베이로 옮기기로 결정하고 12월부터 남은 군대와 국유재산을 차례로 대만으로 이전하기 시작했다.', '특히 김동연 전 부총리를 비롯해 안규백 김종민 오제세 최운열 김정우 권칠승 맹성규 의원 등 민주당 소속 의원 8명이 영상 메시지를 보냈다.', '하비에르 파스토레는 아르헨티나 클럽 타에레스의 청소년 팀에서 축구를 시작했다.', '1990년대 중반 이후 태어난 세대를 대표하는 아이콘으로 알려진 미국의 싱어송라이터 빌리 아일리쉬(본명 빌리 오코넬19)가 팝의 새로운 역사를 썼다.', '2009년 9월, 미국 필라델피아 필리스의 야구 선수 박찬호는 MBC 스페셜에서 \"박찬호는 당신을 잊지 않았다. \"나는 최진실의 고통과 죽음을 이해한다. 나는 최진실의 사건에 눈물을 흘렸다. 나는 한번 죽기로 결심한 적이 있다. 저는 잘하려고 노력했지만, 비난과 비난을 받았어요. 머리가 빠지고 힘들었다며 최경주의 죽음에 안타까움을 표했다.', '뉴질랜드 1차 산업부의 대변인인 캐서린 다아시 박사는 초파리를 잡기 위해 1,300개 이상의 파리 통이 오클랜드 전역에 배치되었으며, 곧 이 통들을 마지막으로 검사할 것이라고 말했다.', 'Italian Renaissance paintings represented by Giotto di Bondone, Masaccio, Piero della Francesca, Domenico Giulando, Perugino, Michelangelo, Raphael, Botticelli, Leonardo da Vinci, and Ticiano influenc', '성명은 이상민 대전시당 위원장, 이춘희 세종특별자치당 위원장, 홍재형 충북도당 위원장, 박수현 이해찬 박병석 변제일 의원이 서명했다.', '이정미 대표도 기자회견에 앞서 한 라디오 방송에 출연해 \"한국당은 아무 일도 없어야 한다\"며 \"지금 민주당에 득이 된다고 생각하는지 모르겠지만 정의당과 야당의 쇄신 공조는 차질을 빚게 될 것\"이라고 말했다.', '', '문성민은 경기대에 입학해 황동일, 신영석과 함께 하계대회, 전국체전, 최강전 등 3관왕을 차지하며 경기대 전성시대를 이끌었다.', '이번 포럼은 제주개발공사, 유네스코 아시아태평양본부, 한국지질자원연구원이 공동 주최하고 유네스코 파리본부, 제주특별자치도, 환경부, 한국수자원공사, 한국건설기술연구원이 후원한다.', '1971년 대선을 앞두고 김종필은 1971년 대선에서 박정희를 당선시키기 위해 600억 원을 썼다고 말했다.', '2010년에는 아시아 가수로는 처음으로 마이클 잭슨의 노래를 리메이크해 당시 마이클 잭슨과 함께 작업했던 세계적인 뮤지션 스티브 바라카트, 마이클 잭슨의 노래 You are not one(너는 혼자가 아니다) 등과 함께 작업해 화제가 됐다.', '박흥식은 첫째 부인과의 사이에서 큰딸 박병숙, 둘째 부인은 경희대 교수를 지낸 피아니스트 한인하, 두 사람 사이에서 태어난 딸 박봉숙은 이화여대 교수를 지냈다.', '스포츠계에서도 막강한 영향력을 갖고 있는 그는 2008년 9월 만수르 빈 자이드 알 나하얀이 소유한 이맨시티 FC의 인수를 제안하고 인수가 완료된 뒤 잉글랜드 프리미어리그 맨체스터시티 FC의 구단주가 됐다.', 'FA로 복귀한 중견수 이택근, 1루수로 자리를 잡은 박병호 등과 클린업 3인방을 구성하며 강한 타선을 형성했다.', '', '니혼햄의 오코소 요시노리 사장은 할아버지와 다른 사람들을 걱정해준 가족에게 감사하다고 말했다.', '1824년 첫 졸업식에는 제임스 먼로 대통령 존 C가 참석했다. 칼훈, 헨리 클레이 시니어, 길버트 뒤 모티에 드 라파예트 후작입니다.', '천도교 3교장 손병희의 영향으로 태화관은 독립선언문을 낭독하는 장소가 되었다.', '이 대회는 1960년에 시작되었고 유럽 축구 협회 연합(UEFA)과 남미 축구 연맹(CONMEBOL)이 공동으로 조직하여 매년 개최되고 있다.', '1942년 2월 24일, 미국 정부는 태평양 전쟁의 전쟁 상황을 전 세계 청취자들에게 알리기 위해 미국의 소리(VOA) 방송국을 개국했다.', '그는 \"앞으로 신생 벤처기업이 줌, 페이스북 등 세계가 주목하는 글로벌 플랫폼 기업으로 성장할 수 있도록 지원하고 한국을 \\'4대 벤처 강국\\'으로 자리매김하기 위해 최선을 다할 것\"이라고 말했다.', '두레당을 통해 유신당에 입당한 오노 지로, 가와다 류헤이, 시바타 다쿠미, 데라타 수케시로, 마야마 유이치 의원 등 5명은 국회법 109조에 따라 자동으로 신당에 입당한다.', '차리나는 이후 박용근을 생명의 은인으로 여기고 그와 사귀어 2016년 11월 결혼했다.', '이에 따라 아버지 칼레스와 아들 세르히오 부스케츠는 레알 마드리드의 마누엘 산체스, AC 밀란의 말디니에 이어 같은 팀에서 유럽 정상에 오른 세 번째 부자로 기록됐다.', '로버트 조지 (바비) 실(Robert George (Bobby) Sale, 1936년 10월 22일 ~ )은 흑인 인권 운동가이며 휴이 뉴턴과 함께 흑인 유권자의 창당자이다.', '곡성군(군수 유근기)이 상수도 이용가구를 위해 연중 실내 급수관 누수 탐방 서비스를 제공한다고 밝혔다.', '김성수의 여동생 김점효와 결혼해 1946년 제4대 경성섬유 사장(1970년 경방으로 개명)에 취임해 1975년 명예회장에서 물러날 때까지 경방 경영을 이끌었다.', '광주국악 상설공연은 세계수영선수권대회 기간에 연달아 매진되며 광주의 대표적인 문화관광 콘텐츠로 큰 호응을 얻고 있는 가운데 국악인 박애리가 호남 판소리를 세계에 알릴 예정이다.', '앞서 구혜선은 안재현이 소속사 HB엔터테인먼트의 문보미 대표와 그녀에 대해 험담을 했다고 주장했다.', '탤런트 장신영(35)과 남편 강경준(36)이 두 번째 아이를 끌어안았다.', '작가 스탠 리와 만화가 잭 커비가 만든 \" \"에서 캡틴 아메리카의 전쟁 애인으로 처음 등장했을 때 이름은 없었다.', '2008-09시즌 페페의 10경기 출전정지로 세비야와의 홈경기에서 호조를 보였지만 바르셀로나에 2-6으로 패하며 스페인 무대 최다 출전 12경기를 기록했다.', \"국내에서는 2008년 대원미디어에서 수입해 자체 제작사인 대원방송이 더빙해 '짱구는 못말려: 부리부리 3분 작전'이라는 이름으로 방영했다.\", '행정안전부(마을자치 및 마을공동체 재정관리), 국토부(LH한국주택공사), 여성부(여성민생확대) 등 지자체가 참여한다.', '영국의 제임스 클라크 로스 경 (1800-1862)은 1839년 10월 에레버스와 테러를 타고 남극을 방문하기 위해 영국을 떠났다.', 'In the episode, an alien time traveler, Dr. (Christopher Ecclston), takes his new companion, Rose Tyler (Billy Piper), on his first space-time trip to the Tardis in 5,000,000.', '반민특위는 국회에 수사를 담당하는 특별수사위원회, 검찰 송치 및 송치 업무를 담당하는 특별검사, 재판을 담당하는 특별법원을 설치했다.', '후기 낭만주의 음악, 화려한 오케스트라, 그리고 다른 기법들의 사용은 작곡가들의 클래식 형식을 버리는 지배적인 경향에 반대했고, 새로운 고전주의라는 생각에 따라, 사실 브람스가 가장 좋아하는 작품들은 1877년 이후 베를린에서 출판되었다.', '따라서, 개표가 끝난 오전 8시 6분에, 문재인은 중앙선거관리위원회에서 대한민국 대통령이 되었다.', '1924년 11월 26일, 정부의 형태가 군주제에서 인민 공화국으로 바뀌었고, 몽골 인민 공화국으로 이름이 지정되면서 세계에서 두 번째로 공산주의 국가가 되었다.', '새정치민주연합은 한나라당과 자민련 의원들을 만나 내란투표를 했고, 여당은 충청권 의원들과 접촉했다.', '(KIA 내야수 이동현 외야수 김경언↔한화 투수 안영명 박성호 외야수 김다원). 트레이딩 파트너 중, 안철수는 이듬해 이범호의 보상 선수로 팀에 복귀했다.', '공무원연금공단(이사장 정남준)이 직장 내 괴롭힘 근절을 포함한 인권경영 실천에 앞장서기 위해 10월 28일부터 11월 1일까지 인권존중 및 배려주간을 운영한다.', '친모 윤씨가 아닌 계모 정현왕후의 아들처럼 자랐다.', '1870년 프로이센 정부가 로마 가톨릭 교회의 권력을 축소하기 위한 문화적 투쟁을 시작하면서 독일 내 가톨릭 신자들의 힘을 결집시키고 로마 가톨릭 신자들의 이익을 지키기 위해 설립되었습니다.', '1555년 칼 5세가 퇴위하면서 그의 재산은 그의 아들 펠리페 2세와 그의 동생 페르디난드 1세에게 분배되었다.', '2018년 4월 11일 정의당 추혜선 대변인은 김기식 의원의 해명과 청와대 발표가 드러난 문제점에 대한 불신을 해소하기에는 아직 미흡하지만 추가 의혹이 드러난다며 사퇴를 촉구했다.', '뮤지컬 배우 엄기준, 차지연, 한지상, 미카엘리와 무대 연출가 이진아가 멘토로 출연한다.', '이에 대해 최재호 무학그룹 회장은 전호환 부산대 총장을 비롯한 임직원들이 무학 90주년을 맞아 긴 발걸음을 내딛은 데 대해 감사드린다며 회사의 성공을 기원해 주신 만큼 지역 경제를 위해 노력하겠다고 말했다.', \"곡성군(군수 유근기)이 '2019 희망나눔운동 최우수기관'으로 선정돼 전남공동모금회로부터 감사패를 받았다.\", '한편, 서정성씨는 문재인 대통령 산하 국가균형발전위원회 특별위원과 민주당 국민통합위원회 부위원장, 광주 남구의회 의장, 이안 대표, 국민화해협의회 위원장 등을 역임하고 있다.', '김동성(1980년 2월 9일 ~ )은 대한민국의 쇼트트랙 선수이다.', '이인수 여사의 부인 조혜자 씨는 박 여사가 이승만을 섬겼을 뿐 아니라 시아버지의 산소도 황해도 평산으로 옮겼다며 영어, 일본어, 중국어, 러시아어로 선교사와 의사소통을 할 수 있는 인텔 여성이라고 말했다.', '세리에 B에서 성공적인 시즌을 보낸 후, 그는 세리에 A의 UC 샘프도리아로 이적하여 62경기 (2004-05, 2005-06)에서 7골을 넣었다.', '김종식 목포시장 등 목포시청 직원 150여명은 2020학년도 대학수학능력시험이 치러진 14일 오전 목포 머라이어회고 등 7개 시험장을 찾아 수험생들을 응원하고 학부모들을 격려했다.', '현대모비스는 마일드 HEV에서 BEV까지 모든 xEV 플랫폼을 모듈화하여 현대 기아차에 독점 공급할 계획이라고 그는 말했다. 이어 \"E-GMP 플랫폼 BEV 생산이 본격화되는 2021년 이후 전기 부문 매출 급증이 예상된다\"고 덧붙였다.', '1984년에는 KBO 리그 역사상 유일하게 324.2이닝, 31승, 6세이브, 18완투, 258탈삼진(한국시리즈 5경기 40이닝, 4승, 4완투, 35탈삼진)을 기록하며 KBO 리그 초반을 이끌었다.', '그는 경성대 재학 시절 오른손 투수 김기표와 입단 당시 동료 제자로 불리던 조원삼과 유기표였다.', '칸트는 아름다움이 숭고하다고 주장했고, 이는 조지프 말로드 윌리엄 터너와 같은 낭만주의 화가들에 의해 받아들여졌다.', '파나소닉이 반도체 지분을 대만 누보톤테크놀로지에 매각한다고 니혼게이자이신문이 28일 보도했다.', '디에고 베나리오가 현재 국가대표팀의 주전 골키퍼로, 그와 바젤의 얀 조머는 백업 골키퍼 자리를 놓고 경쟁하고 있다.', '냉전 기간 동안, 독일 연방군은 전군에 걸쳐 495,000명의 병력과 170,000명의 군 병력으로 나토의 서유럽 방위 주력이 되었다.', '이후 새천년민주당은 다른 세력과 합당해 민주당이 됐고, 통합진보당은 통합진보당 해산재판으로 무너졌다가 다시 뭉쳐 민중당을 창당했다.', '', '게다가, 야니 인판티노 FIFA 회장이 경기를 관람했지만, 북한은 관중 없이 경기를 시작했다.', '1727년(옹정 5년) 옹정제는 23만 명의 군사를 보내 사천 순무처럼 그곳의 사정을 잘 아는 연간교와 함께 티베트군과 싸웠다.', \"문재인 대통령의 부인 김정숙 여사가 22일 오후 광주 광산구 남부대학교 국제수영장에서 열린 '2019 광주세계수영선수권대회'에서 이용섭 회장과 김서영 회장의 경기를 관람하고 있다.\", '당시 이승만의 권력을 부정하는 가짜 이강석 사건으로 잘 알려진 장남 이강석은 이승만의 양자로 4월 28일 자정에 아버지 이기붕과 어머니 박마리아, 동생 이강욱을 살해했다.', \"1900년 청나라가 의화혁명으로 열강과 전쟁을 선포하자 이홍장 장지동 유곤일 등 지방지사들이 열강과 '동남상호협정'을 체결하고 중앙질서를 무시했지만 성선회는 이를 요약했다.\", '방송위원회는 2008년 2월 29일 조직 개편 및 설치되었으며, 경기도 과천시 관문로 47 정부과천청사에 위치하고 있다.', '', '국내에는 금성사(현 LG전자)의 파미콤 마이티나 삼성전자 SPC-1000 등 구형 아날로그 컴퓨터가 대부분 보존돼 있으며, 소유주 중에는 기업사관이나 박물관이 포함돼 있다.', '진돗개 캠핑장은 백구 생가▲어로(수영장)▲진돗개 캠핑장 토피컬 조형물도 운영하고 있어 진돗개를 보러 오는 관람객들에게 더욱 흥미롭고 즐거운 시간을 선사한다.', \"'미인의 윤리적 정신'은 1987년 개봉한 홍콩 로맨틱 코미디 공포영화로, 정소동 감독이 출연하며 장국영, 왕조현, 우마가 주연을 맡았다.\", '강진아르코공연실습장은 전라남도 강진군 대구면 저두리 66번지에 위치하고 있으며, 2005년 문화체육관광부와 강진군이 전라남도 강진군 대구면 저두리의 학교 리모델링을 위해 설립한 공연장이다.', '모델 김원중과 곽지영이 방송에서 신혼여행을 공개했다.', '그는 승천일(8월 15일)부터 성 미카엘 대천사의 날(9월 29일)까지 약 40일 동안 금식하며 \"우리는 모두 이 위대한 여왕(마이카엘)을 기리기 위해 신을 찬양하고 제물을 바쳐야 한다\"고 말했다.', '1983년 경기과학고를 시작으로 1984년 경남과학고 대전과학고 광주과학고, 1988년 대구과학고, 1989년 충북과학고 서울과학고 등 4개교다.', '1954년 제네바협약에 따르면 베트남은 북위 17도 이남을 임시로 통치하고 선거를 통해 통일정부를 수립하기로 했다.', '신익희 비서 신창현 씨에 따르면 이승만은 이시영의 손자들을 보며 눈물이 또 흘렀다고 한다.', '백한성(白漢星, 1899년 6월 15일 ~ 1971년 10월 13일)은 한국의 정치인이자 법조인이다.', '드러머 로저 테일러는 2013년 12월 기타리스트 브라이언 메이와 함께 \"...새해가 되면 앨범 같은 걸 만들 거예요.', '전남도교육청(청장 장석웅)과 광주교대(총장 최도성)는 21일 오전 광주교육대에서 전남교사와 예비교사의 교육혁신 역량 강화를 위한 교류협약을 체결했다.', '독일 연방군은 1990년대 이후 나토(북대서양조약기구)와 유럽연합(EU), 유엔(UN)의 일원으로서 독일 밖에서 PKO 작전을 수행하는 사례가 늘고 있다.', '24일 익산시에 따르면 정헌율 익산시장은 이날 열린 임원회의에서 관계기관과 협의해 어린이집 개원 연기를 검토하라고 밝혔다.', '', '영광군(군수 김준성)은 5일 주식회사 반석(대표 오규석)과 농산물 구매 및 판로 확대를 위한 협약을 체결했다.', '그는 헌종 성화제의 넷째 아들이며, 효종 홍치제의 이복동생이며, 세종대왕의 가례의 생부이다.', '2007년 12월 3일 울산방송의 대선후보 청취에 네 번째로 출연한 무소속 이회창 후보는 자신의 대표 공약인 분산연방제, 울산시 산업도시 등이 비슷하다고 말했다.']\n"
     ]
    }
   ],
   "source": [
    "trans_list=[]\n",
    "backtrans = trans_to_kor(output, 'en', 0, len(output))\n",
    "print(backtrans)"
   ]
  },
  {
   "cell_type": "code",
   "execution_count": 16,
   "metadata": {},
   "outputs": [
    {
     "name": "stdout",
     "output_type": "stream",
     "text": [
      "Accordingly, Maradona, who extended his contract with Napoli, led his team to the top of the UEFA Cup in 1989, and the following year, he won against European champion AC Milan and once again reached the top of Serie A.\n"
     ]
    }
   ],
   "source": [
    "print(backtrans[6])"
   ]
  },
  {
   "cell_type": "code",
   "execution_count": null,
   "metadata": {},
   "outputs": [],
   "source": [
    "# per_place_of_death\n",
    "# per_product\n",
    "# per:siblings\n",
    "# org:product\n",
    "# per:other_family\n",
    "# per:place_of_residence\n",
    "# per:date_of_death\n",
    "# per:religion\n",
    "# per:parents\n",
    "# org:dissolved\n",
    "# per:place_of_birth\n",
    "# "
   ]
  }
 ],
 "metadata": {
  "interpreter": {
   "hash": "d4d1e4263499bec80672ea0156c357c1ee493ec2b1c70f0acce89fc37c4a6abe"
  },
  "kernelspec": {
   "display_name": "Python 3.8.5 ('base')",
   "language": "python",
   "name": "python3"
  },
  "language_info": {
   "codemirror_mode": {
    "name": "ipython",
    "version": 3
   },
   "file_extension": ".py",
   "mimetype": "text/x-python",
   "name": "python",
   "nbconvert_exporter": "python",
   "pygments_lexer": "ipython3",
   "version": "3.8.5"
  },
  "orig_nbformat": 4
 },
 "nbformat": 4,
 "nbformat_minor": 2
}
