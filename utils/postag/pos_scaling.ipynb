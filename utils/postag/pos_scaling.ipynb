{
 "cells": [
  {
   "cell_type": "markdown",
   "id": "fd9814cf-1099-494d-a4a4-6a1c78e2fc35",
   "metadata": {},
   "source": [
    "## 형용사 및 부사 제거된 문장 만들기\n",
    "품사 스케일링은 다음과 같이 진행한다.\n",
    "1. 개별 sentence에 대해 pos-tagging을 수행한다.(분석기 4가지 버전으로)\n",
    "2. 이 중 형용사, 부사를 문장에서 제거한다. 단, entity는 제외\n",
    "3. 형용사와 부사를 제거한 토큰을 이어 붙인다. 이 때, 띄어쓰기가 손상되었을 가능성이 있으므로 띄어쓰기 보정을 추가한다(옵션)\n",
    "3. 스케일링된 train set으로 baseline을 학습하고 성능을 확인한다."
   ]
  },
  {
   "cell_type": "markdown",
   "id": "18f20fb6",
   "metadata": {},
   "source": [
    "라이브러리 준비"
   ]
  },
  {
   "cell_type": "code",
   "execution_count": null,
   "id": "4f5a84be",
   "metadata": {},
   "outputs": [],
   "source": [
    "# !pip install git+https://github.com/haven-jeon/PyKoSpacing.git #PyKoSpacing(딥러닝 코퍼스 학습 기반)-->에러떠서 바로 바꿈\n",
    "# !pip install git+https://github.com/ssut/py-hanspell.git #Py-Hanspell(네이버 맞춤법 검사기 기반)"
   ]
  },
  {
   "cell_type": "code",
   "execution_count": 1,
   "id": "22605afd",
   "metadata": {},
   "outputs": [
    {
     "name": "stderr",
     "output_type": "stream",
     "text": [
      "/opt/conda/lib/python3.8/site-packages/tqdm/auto.py:22: TqdmWarning: IProgress not found. Please update jupyter and ipywidgets. See https://ipywidgets.readthedocs.io/en/stable/user_install.html\n",
      "  from .autonotebook import tqdm as notebook_tqdm\n"
     ]
    }
   ],
   "source": [
    "import pandas as pd\n",
    "# import matplotlib.pyplot as plt\n",
    "import numpy as np\n",
    "# import seaborn as sns\n",
    "import ast\n",
    "from ast import literal_eval\n",
    "from collections import Counter\n",
    "import warnings\n",
    "\n",
    "from tqdm.auto import trange\n",
    "from time import sleep\n",
    "\n",
    "# from pykospacing import Spacing\n",
    "from hanspell import spell_checker\n",
    "\n",
    "from konlpy.tag import Okt, Komoran, Kkma, Hannanum\n",
    "\n",
    "warnings.filterwarnings('ignore')\n",
    "pd.set_option('display.float_format', lambda x: '%.4f' % x) #4자리까지만\n"
   ]
  },
  {
   "cell_type": "markdown",
   "id": "d1db4ce8",
   "metadata": {},
   "source": [
    "전처리 함수 모음"
   ]
  },
  {
   "cell_type": "code",
   "execution_count": 2,
   "id": "a4ac3f8b",
   "metadata": {},
   "outputs": [],
   "source": [
    "# limit 이하의 개수인 label만 포함하는 데이터프레임 출력\n",
    "def accept_label(dataset,limit=200):\n",
    "    \"\"\"except label이 아닌 label(relation) 문장만 포함한 데이터프레임 출력\"\"\"\n",
    "    # ver 1. dataframe\n",
    "    # df_cnt = pd.DataFrame(dataset['label'].value_counts())\n",
    "    # df_cnt = df_cnt.reset_index(drop=False)\n",
    "    # df_cnt.columns = ['label','count']\n",
    "    # # print(df_cnt.head())\n",
    "    # acc_label = df_cnt.loc[df_cnt['count']<=limit,'label']\n",
    "    # acc_label = list(acc_label)\n",
    "    \n",
    "    # ver 2. counter\n",
    "    \n",
    "    df_cnt = Counter(dataset['label'])\n",
    "    acc_label = [label for idx,label in enumerate(df_cnt) if df_cnt[label]<=limit]\n",
    "    print(f\"Use {len(acc_label)} labels\")\n",
    "\n",
    "    # labels = dataset.loc[:,'label']\n",
    "    # idx_label = [idx for idx,label in enumerate(labels) if label not in acc_label]\n",
    "    # print(len(dataset),len(idx_label))\n",
    "    \n",
    "    df = dataset.loc[dataset['label'].isin(acc_label),:]\n",
    "    df = df.reset_index(drop=True)\n",
    "    return df\n",
    "\n",
    "# entity-->>word, stt_idx, end_idx, type으로 쪼개기\n",
    "def eval_entity(df):\n",
    "    \"\"\"딕셔너리 형태의 entity를 쪼개 word, stt_idx, end_idx, type을 각각 칼럼으로 추가하는 함수\"\"\"\n",
    "\n",
    "    df['subject_word'] = [literal_eval(entity)['word'] for entity in df['subject_entity']]\n",
    "    df['subject_stt_idx'] = [literal_eval(entity)['start_idx'] for entity in df['subject_entity']]\n",
    "    df['subject_end_idx'] = [literal_eval(entity)['end_idx'] for entity in df['subject_entity']]\n",
    "    df['subject_type'] = [literal_eval(entity)['type'] for entity in df['subject_entity']]\n",
    "\n",
    "    df['object_word'] = [literal_eval(entity)['word'] for entity in df['object_entity']]\n",
    "    df['object_stt_idx'] = [literal_eval(entity)['start_idx'] for entity in df['object_entity']]\n",
    "    df['object_end_idx'] = [literal_eval(entity)['end_idx'] for entity in df['object_entity']]\n",
    "    df['object_type'] = [literal_eval(entity)['type'] for entity in df['object_entity']]\n",
    "    # print(df.columns)\n",
    "    return df\n",
    "    \n",
    "# subject_entity의 stt_idx와 object entity의 stt_idx에 각각 토큰 집어넣기\n",
    "def tokenize_entity(sentence,sub_idx,ob_idx):\n",
    "    \"\"\"문장을 subject, object의 토큰으로 치환하는 함수\n",
    "    sentence: str |-->input 문장\n",
    "    sub_idx: list(stt,end) |-->subject 인덱스\n",
    "    ob_idx: list(stt,end) |-->object 인덱스\"\"\"\n",
    "    sub_stt, sub_end = sub_idx\n",
    "    ob_stt, ob_end = ob_idx\n",
    "    \n",
    "    if sub_stt < ob_stt: # sub가 ob보다 앞에 있을 때\n",
    "        sentence = sentence[:sub_stt]+'subject'+sentence[sub_end+1:]\n",
    "        l = 7 - (sub_end-sub_stt+1)\n",
    "        ob_stt += l\n",
    "        ob_end += l\n",
    "        sentence = sentence[:ob_stt]+'object'+sentence[ob_end+1:]\n",
    "    else:\n",
    "        sentence = sentence[:ob_stt]+'subject'+sentence[ob_end+1:]\n",
    "        l = 7 - (ob_end-ob_stt+1)\n",
    "        sub_stt += l\n",
    "        sub_end += l\n",
    "        sentence = sentence[:sub_stt]+'object'+sentence[sub_end+1:]\n",
    "    return sentence\n",
    "\n",
    "# 토큰화 문장을 태깅하고 형용사/부사를 제거하는 함수\n",
    "def PosTag_token(sentence,tag='okt',drop_pos=['Adjective','Adverb'],norm=True,pacing=True):\n",
    "    \"\"\"문장을 태깅 후 성분 제거하는 함수\n",
    "    sentence: pd.Series |-->idx기반 dataframe의 행\"\"\"\n",
    "\n",
    "    taggers = {'okt':Okt(), 'kom':Komoran(), 'kkm':Kkma(), 'han':Hannanum()}\n",
    "    tagg = taggers[tag]\n",
    "    sentence_pos = tagg.pos(sentence,norm=norm)\n",
    "    result = []\n",
    "    drop = False\n",
    "\n",
    "    for idx,(word,pos) in enumerate(sentence_pos):\n",
    "        if pos in drop_pos:\n",
    "            drop=True\n",
    "            continue\n",
    "        else:\n",
    "            result.append(word)\n",
    "\n",
    "    if not drop:\n",
    "        return result, drop\n",
    "\n",
    "    #띄어쓰기 보정\n",
    "    elif pacing:\n",
    "        result = ''.join(result)\n",
    "\n",
    "        # spacing = Spacing()\n",
    "        # result = spacing(result)\n",
    "        \n",
    "        spelled_sent = spell_checker.check(result)\n",
    "        result = spelled_sent.checked\n",
    "\n",
    "        #subject, object 보정\n",
    "        if result.find('subject')<0:\n",
    "            for i in range(1,7):\n",
    "                sub = 'subject'\n",
    "                sub = sub[:i] + ' ' + sub[i:]\n",
    "                if result.find(sub)!=-1:\n",
    "                    result = result.replace(sub,'subject')\n",
    "        if result.find('object')<0:\n",
    "            for i in range(1,6):\n",
    "                ob = 'object'\n",
    "                ob = ob[:i] + ' ' +ob[i:]\n",
    "                if result.find(ob)!=-1:\n",
    "                    result = result.replace(ob,'object')\n",
    "            # if result.find('o bject')>=0:\n",
    "            #     result = result.replace('o bject','object')\n",
    "            # elif result.find('ob ject')>=0:\n",
    "            #     result = result.replace('ob ject','object')\n",
    "            # elif result.find('obj ect')>=0:\n",
    "            #     result = result.replace('obj ect','object')\n",
    "            # elif result.find('obje ct')>=0:\n",
    "            #     result = result.replace('obje ct','object')\n",
    "            # elif result.find('objec t')>=0:\n",
    "            #     result = result.replace('objec t','object')\n",
    "        \n",
    "    else:\n",
    "        result = ' '.join(result)\n",
    "    return result,drop\n",
    "\n",
    "# 토큰 다시 치환하기\n",
    "def back_tokenize(sentence,subject_word,object_word):\n",
    "    \"\"\"subject, object 토큰을 원래 단어로 치환하는 함수\"\"\"\n",
    "    if sentence.find('subject')<sentence.find('object'): #sub가 앞에 있을 때\n",
    "        sub_stt_idx = sentence.find('subject')\n",
    "        sub_end_idx = sub_stt_idx+len(subject_word)-1\n",
    "        ob_stt_idx = sentence.find('object') - (7-len(subject_word))\n",
    "        ob_end_idx = ob_stt_idx+len(object_word)-1\n",
    "    else:\n",
    "        ob_stt_idx = sentence.find('object')\n",
    "        ob_end_idx = ob_stt_idx+len(object_word)-1\n",
    "        sub_stt_idx = sentence.find('subject') - (7-len(object_word))\n",
    "        sub_end_idx = sub_stt_idx+len(subject_word)-1\n",
    "        \n",
    "    # subject = sentence.split('subject')\n",
    "    # if len(subject)!=2:\n",
    "    #     return print(subject)\n",
    "    # else:\n",
    "    #     subject_pre,subject_end = subject#sentence.split('subject')\n",
    "    #     result = subject_pre+subject_word+subject_end\n",
    "    subject_pre,subject_end = sentence.split('subject')\n",
    "    result = subject_pre+subject_word+subject_end\n",
    "\n",
    "    # object = result.split('object')\n",
    "    # if len(object)!=2:\n",
    "    #     return print(object)\n",
    "    # else:\n",
    "    #     object_pre,object_end = object #result.split('object')\n",
    "    #     result = object_pre+object_word+object_end\n",
    "    object_pre,object_end = result.split('object')\n",
    "    result = object_pre+object_word+object_end\n",
    "\n",
    "    return result, sub_stt_idx, sub_end_idx, ob_stt_idx, ob_end_idx\n",
    "\n",
    "# 데이터프레임 처리\n",
    "def pos_augmentation(data,exc_limit=200,tag='okt',drop_pos=['Adjective','Adverb'],norm=True,pacing=True):\n",
    "    \"\"\"데이터프레임 전처리\"\"\"\n",
    "    \n",
    "    # exc_label = except_label(data,limit=exc_limit)\n",
    "    dataset = accept_label(data,limit=exc_limit)\n",
    "    dataset = eval_entity(dataset)\n",
    "\n",
    "    new_sentences = []\n",
    "    new_sub_entity = []\n",
    "    new_ob_entity = []\n",
    "    new_labels = []\n",
    "    new_sources = []\n",
    "\n",
    "    #'id', 'sentence', 'subject_entity', 'object_entity', 'label', 'source',\n",
    "    #    'subject_word', 'subject_stt_idx', 'subject_end_idx', 'subject_type',\n",
    "    #    'object_word', 'object_stt_idx', 'object_end_idx', 'object_type'\n",
    "\n",
    "    for i in trange(len(dataset)):\n",
    "        # sent = dataset.loc[i,'sentence']\n",
    "        # sub_wd,sub_stt,sub_end,sub_type = dataset.loc[i,['subject_word','subject_stt_idx','subject_end_idx','subject_type']]\n",
    "        # ob_wd,ob_stt,ob_end,ob_type = dataset.loc[i,['object_word','object_stt_idx','object_end_idx','object_type']]\n",
    "        # label = dataset.loc[i,'label']\n",
    "        # source = dataset.loc[i,'source']\n",
    "\n",
    "        _,sent,_,_,label,source,sub_wd,sub_stt,sub_end,sub_type,ob_wd,ob_stt,ob_end,ob_type = dataset.iloc[i,:]\n",
    "\n",
    "        new_sent = tokenize_entity(sent,[sub_stt,sub_end],[ob_stt,ob_end])\n",
    "        new_sent,drop = PosTag_token(new_sent,tag=tag,drop_pos=drop_pos,norm=norm,pacing=pacing)\n",
    "        if drop: #drop_pos 적용한 케이스\n",
    "            new_sent,sub_stt,sub_end,ob_stt,ob_end = back_tokenize(new_sent,sub_wd,ob_wd)\n",
    "            new_sentences.append(new_sent)\n",
    "            new_sub_entity.append(str({'word':sub_wd,'start_idx':sub_stt,'end_idx':sub_end,'type':sub_type}))\n",
    "            new_ob_entity.append(str({'word':ob_wd,'start_idx':ob_stt,'end_idx':ob_end,'type':ob_type}))\n",
    "            new_labels.append(label)\n",
    "            new_sources.append(source)\n",
    "        else:\n",
    "            continue\n",
    "        sleep(0.01)\n",
    "\n",
    "\n",
    "    add_rows = len(new_sentences)\n",
    "    ids = list(range(len(data),len(data)+add_rows))\n",
    "    \n",
    "    new_df = pd.DataFrame({ 'id':ids,\n",
    "                            'sentence':new_sentences,\n",
    "                            'subject_entity':new_sub_entity,\n",
    "                            'object_entity':new_ob_entity,\n",
    "                            'label':new_labels,\n",
    "                            'source':new_sources})\n",
    "\n",
    "    return new_df  \n",
    "    "
   ]
  },
  {
   "cell_type": "code",
   "execution_count": 46,
   "id": "2fa672dc",
   "metadata": {},
   "outputs": [
    {
     "data": {
      "text/plain": [
       "'문성민'"
      ]
     },
     "execution_count": 46,
     "metadata": {},
     "output_type": "execute_result"
    }
   ],
   "source": [
    "# df = accept_label(train)\n",
    "literal_eval(df.loc[0,'subject_entity'])['word']"
   ]
  },
  {
   "cell_type": "markdown",
   "id": "6f823fee",
   "metadata": {},
   "source": [
    "### 최종 점검"
   ]
  },
  {
   "cell_type": "code",
   "execution_count": 22,
   "id": "a72f8c3d",
   "metadata": {},
   "outputs": [
    {
     "name": "stdout",
     "output_type": "stream",
     "text": [
      "18\n"
     ]
    },
    {
     "name": "stderr",
     "output_type": "stream",
     "text": [
      "100%|██████████| 144/144 [03:36<00:00,  1.50s/it]\n"
     ]
    },
    {
     "data": {
      "text/html": [
       "<div>\n",
       "<style scoped>\n",
       "    .dataframe tbody tr th:only-of-type {\n",
       "        vertical-align: middle;\n",
       "    }\n",
       "\n",
       "    .dataframe tbody tr th {\n",
       "        vertical-align: top;\n",
       "    }\n",
       "\n",
       "    .dataframe thead th {\n",
       "        text-align: right;\n",
       "    }\n",
       "</style>\n",
       "<table border=\"1\" class=\"dataframe\">\n",
       "  <thead>\n",
       "    <tr style=\"text-align: right;\">\n",
       "      <th></th>\n",
       "      <th>id</th>\n",
       "      <th>sentence</th>\n",
       "      <th>subject_entity</th>\n",
       "      <th>object_entity</th>\n",
       "      <th>label</th>\n",
       "      <th>source</th>\n",
       "    </tr>\n",
       "  </thead>\n",
       "  <tbody>\n",
       "    <tr>\n",
       "      <th>0</th>\n",
       "      <td>1000</td>\n",
       "      <td>뉴질랜드 1 차 산업부 생물 보안 대변인 캐서린 박사 는 과일 파리 를 잡기 위해 ...</td>\n",
       "      <td>{'word': '뉴질랜드', 'start_idx': 0, 'end_idx': 3,...</td>\n",
       "      <td>{'word': '오클랜드', 'start_idx': 46, 'end_idx': 4...</td>\n",
       "      <td>org:members</td>\n",
       "      <td>wikitree</td>\n",
       "    </tr>\n",
       "    <tr>\n",
       "      <th>1</th>\n",
       "      <td>1001</td>\n",
       "      <td>문성민 은 경기대 학교 에 입학 하여 황동일 , 신영석 과 경 기 대학교 의 전성기...</td>\n",
       "      <td>{'word': '문성민', 'start_idx': 0, 'end_idx': 2, ...</td>\n",
       "      <td>{'word': '경기대', 'start_idx': 6, 'end_idx': 8, ...</td>\n",
       "      <td>per:schools_attended</td>\n",
       "      <td>wikipedia</td>\n",
       "    </tr>\n",
       "    <tr>\n",
       "      <th>2</th>\n",
       "      <td>1002</td>\n",
       "      <td>로버트 조지 ( 바비 ) 실 ( Robert George ( Bobby )( Bob...</td>\n",
       "      <td>{'word': '흑표당', 'start_idx': 103, 'end_idx': 1...</td>\n",
       "      <td>{'word': '휴이 뉴튼', 'start_idx': 109, 'end_idx':...</td>\n",
       "      <td>org:founded_by</td>\n",
       "      <td>wikipedia</td>\n",
       "    </tr>\n",
       "    <tr>\n",
       "      <th>3</th>\n",
       "      <td>1003</td>\n",
       "      <td>1984년 에는 포스트시즌 을 포함 해 56 경기 324.2 이닝 , 31 승 , ...</td>\n",
       "      <td>{'word': '롯데 자이언츠', 'start_idx': 145, 'end_idx...</td>\n",
       "      <td>{'word': '1984년', 'start_idx': 153, 'end_idx':...</td>\n",
       "      <td>org:founded</td>\n",
       "      <td>wikipedia</td>\n",
       "    </tr>\n",
       "    <tr>\n",
       "      <th>4</th>\n",
       "      <td>1004</td>\n",
       "      <td>냉전 동안 독일 연방군 은 NATO 의 서유럽 방위 의 주력 군 이 되었으며 전군 ...</td>\n",
       "      <td>{'word': '독일 연방군', 'start_idx': 6, 'end_idx': ...</td>\n",
       "      <td>{'word': '49만 5,000명', 'start_idx': 52, 'end_i...</td>\n",
       "      <td>org:number_of_employees/members</td>\n",
       "      <td>wikipedia</td>\n",
       "    </tr>\n",
       "    <tr>\n",
       "      <th>...</th>\n",
       "      <td>...</td>\n",
       "      <td>...</td>\n",
       "      <td>...</td>\n",
       "      <td>...</td>\n",
       "      <td>...</td>\n",
       "      <td>...</td>\n",
       "    </tr>\n",
       "    <tr>\n",
       "      <th>57</th>\n",
       "      <td>1057</td>\n",
       "      <td>한편 순천시 는 아이 들 부터 노년 까지 세대 맞춤 형 인구 정책 추진 으로 인구 ...</td>\n",
       "      <td>{'word': '순천시', 'start_idx': 3, 'end_idx': 5, ...</td>\n",
       "      <td>{'word': '281534명', 'start_idx': 86, 'end_idx'...</td>\n",
       "      <td>org:number_of_employees/members</td>\n",
       "      <td>wikitree</td>\n",
       "    </tr>\n",
       "    <tr>\n",
       "      <th>58</th>\n",
       "      <td>1058</td>\n",
       "      <td>후 토 와 그 아들 네 명 ( 후지와라 4 형제 ) 에 후지와라 씨 의 번영 의 기...</td>\n",
       "      <td>{'word': '쇼무 천황', 'start_idx': 73, 'end_idx': ...</td>\n",
       "      <td>{'word': '몬무 천황', 'start_idx': 81, 'end_idx': ...</td>\n",
       "      <td>per:other_family</td>\n",
       "      <td>wikipedia</td>\n",
       "    </tr>\n",
       "    <tr>\n",
       "      <th>59</th>\n",
       "      <td>1059</td>\n",
       "      <td>이후 게임 마다 구성원 이 달라지는 것 이 특징 인데 , 《 KOF ' 96 》 에...</td>\n",
       "      <td>{'word': '쿠사나기 쿄', 'start_idx': 140, 'end_idx'...</td>\n",
       "      <td>{'word': '야가미 이오리', 'start_idx': 149, 'end_idx...</td>\n",
       "      <td>per:colleagues</td>\n",
       "      <td>wikipedia</td>\n",
       "    </tr>\n",
       "    <tr>\n",
       "      <th>60</th>\n",
       "      <td>1060</td>\n",
       "      <td>이윤영 의 총리 인준 이 지청천 은 이윤영 을 이승만 과 초대 내각 의 무임 소 장...</td>\n",
       "      <td>{'word': '지청천', 'start_idx': 14, 'end_idx': 16...</td>\n",
       "      <td>{'word': '이승만', 'start_idx': 26, 'end_idx': 28...</td>\n",
       "      <td>per:colleagues</td>\n",
       "      <td>wikipedia</td>\n",
       "    </tr>\n",
       "    <tr>\n",
       "      <th>61</th>\n",
       "      <td>1061</td>\n",
       "      <td>일본 총독 이 수작 ( 受爵 ) 승인 서 를 내 밀고 도장 찍기 를 강요 하니까 그...</td>\n",
       "      <td>{'word': '이기원', 'start_idx': 63, 'end_idx': 65...</td>\n",
       "      <td>{'word': '이봉의', 'start_idx': 72, 'end_idx': 74...</td>\n",
       "      <td>per:parents</td>\n",
       "      <td>wikipedia</td>\n",
       "    </tr>\n",
       "  </tbody>\n",
       "</table>\n",
       "<p>62 rows × 6 columns</p>\n",
       "</div>"
      ],
      "text/plain": [
       "      id                                           sentence  \\\n",
       "0   1000  뉴질랜드 1 차 산업부 생물 보안 대변인 캐서린 박사 는 과일 파리 를 잡기 위해 ...   \n",
       "1   1001  문성민 은 경기대 학교 에 입학 하여 황동일 , 신영석 과 경 기 대학교 의 전성기...   \n",
       "2   1002  로버트 조지 ( 바비 ) 실 ( Robert George ( Bobby )( Bob...   \n",
       "3   1003  1984년 에는 포스트시즌 을 포함 해 56 경기 324.2 이닝 , 31 승 , ...   \n",
       "4   1004  냉전 동안 독일 연방군 은 NATO 의 서유럽 방위 의 주력 군 이 되었으며 전군 ...   \n",
       "..   ...                                                ...   \n",
       "57  1057  한편 순천시 는 아이 들 부터 노년 까지 세대 맞춤 형 인구 정책 추진 으로 인구 ...   \n",
       "58  1058  후 토 와 그 아들 네 명 ( 후지와라 4 형제 ) 에 후지와라 씨 의 번영 의 기...   \n",
       "59  1059  이후 게임 마다 구성원 이 달라지는 것 이 특징 인데 , 《 KOF ' 96 》 에...   \n",
       "60  1060  이윤영 의 총리 인준 이 지청천 은 이윤영 을 이승만 과 초대 내각 의 무임 소 장...   \n",
       "61  1061  일본 총독 이 수작 ( 受爵 ) 승인 서 를 내 밀고 도장 찍기 를 강요 하니까 그...   \n",
       "\n",
       "                                       subject_entity  \\\n",
       "0   {'word': '뉴질랜드', 'start_idx': 0, 'end_idx': 3,...   \n",
       "1   {'word': '문성민', 'start_idx': 0, 'end_idx': 2, ...   \n",
       "2   {'word': '흑표당', 'start_idx': 103, 'end_idx': 1...   \n",
       "3   {'word': '롯데 자이언츠', 'start_idx': 145, 'end_idx...   \n",
       "4   {'word': '독일 연방군', 'start_idx': 6, 'end_idx': ...   \n",
       "..                                                ...   \n",
       "57  {'word': '순천시', 'start_idx': 3, 'end_idx': 5, ...   \n",
       "58  {'word': '쇼무 천황', 'start_idx': 73, 'end_idx': ...   \n",
       "59  {'word': '쿠사나기 쿄', 'start_idx': 140, 'end_idx'...   \n",
       "60  {'word': '지청천', 'start_idx': 14, 'end_idx': 16...   \n",
       "61  {'word': '이기원', 'start_idx': 63, 'end_idx': 65...   \n",
       "\n",
       "                                        object_entity  \\\n",
       "0   {'word': '오클랜드', 'start_idx': 46, 'end_idx': 4...   \n",
       "1   {'word': '경기대', 'start_idx': 6, 'end_idx': 8, ...   \n",
       "2   {'word': '휴이 뉴튼', 'start_idx': 109, 'end_idx':...   \n",
       "3   {'word': '1984년', 'start_idx': 153, 'end_idx':...   \n",
       "4   {'word': '49만 5,000명', 'start_idx': 52, 'end_i...   \n",
       "..                                                ...   \n",
       "57  {'word': '281534명', 'start_idx': 86, 'end_idx'...   \n",
       "58  {'word': '몬무 천황', 'start_idx': 81, 'end_idx': ...   \n",
       "59  {'word': '야가미 이오리', 'start_idx': 149, 'end_idx...   \n",
       "60  {'word': '이승만', 'start_idx': 26, 'end_idx': 28...   \n",
       "61  {'word': '이봉의', 'start_idx': 72, 'end_idx': 74...   \n",
       "\n",
       "                              label     source  \n",
       "0                       org:members   wikitree  \n",
       "1              per:schools_attended  wikipedia  \n",
       "2                    org:founded_by  wikipedia  \n",
       "3                       org:founded  wikipedia  \n",
       "4   org:number_of_employees/members  wikipedia  \n",
       "..                              ...        ...  \n",
       "57  org:number_of_employees/members   wikitree  \n",
       "58                 per:other_family  wikipedia  \n",
       "59                   per:colleagues  wikipedia  \n",
       "60                   per:colleagues  wikipedia  \n",
       "61                      per:parents  wikipedia  \n",
       "\n",
       "[62 rows x 6 columns]"
      ]
     },
     "execution_count": 22,
     "metadata": {},
     "output_type": "execute_result"
    }
   ],
   "source": [
    "# pos_augmentation 예제\n",
    "train = pd.read_csv('./dataset/train/train.csv')\n",
    "# test = pd.read_csv('./dataset/test/test_data.csv')\n",
    "pos_augmentation(train.head(1000),exc_limit=30,pacing=False) #137 중 81번째에서 에러 발생"
   ]
  },
  {
   "cell_type": "markdown",
   "id": "3f2d9761-5129-4c3f-a15d-d0276b073f10",
   "metadata": {},
   "source": [
    "## Baseline 학습을 위한 전체 데이터셋 만들기"
   ]
  },
  {
   "cell_type": "code",
   "execution_count": 3,
   "id": "6bedfafa-222a-472c-b4ab-8e94bea74c39",
   "metadata": {},
   "outputs": [
    {
     "data": {
      "text/plain": [
       "per:date_of_death                      418\n",
       "org:product                            380\n",
       "per:children                           304\n",
       "per:place_of_residence                 193\n",
       "per:other_family                       190\n",
       "per:place_of_birth                     166\n",
       "org:founded_by                         155\n",
       "per:product                            139\n",
       "per:siblings                           136\n",
       "org:political/religious_affiliation     98\n",
       "per:religion                            96\n",
       "per:schools_attended                    82\n",
       "org:dissolved                           66\n",
       "org:number_of_employees/members         48\n",
       "per:place_of_death                      40\n",
       "Name: label, dtype: int64"
      ]
     },
     "execution_count": 3,
     "metadata": {},
     "output_type": "execute_result"
    }
   ],
   "source": [
    "# index_modify 적용한 ver. train.csv\n",
    "train = pd.read_csv('./dataset/train/train.csv')\n",
    "train.loc[:,'label'].value_counts().tail(15)"
   ]
  },
  {
   "cell_type": "markdown",
   "id": "9f9dbc82",
   "metadata": {},
   "source": [
    "200 기준"
   ]
  },
  {
   "cell_type": "code",
   "execution_count": 29,
   "id": "59d6dd12",
   "metadata": {},
   "outputs": [
    {
     "data": {
      "text/plain": [
       "Index(['id', 'sentence', 'subject_entity', 'object_entity', 'label', 'source'], dtype='object')"
      ]
     },
     "execution_count": 29,
     "metadata": {},
     "output_type": "execute_result"
    }
   ],
   "source": [
    "train.columns"
   ]
  },
  {
   "cell_type": "code",
   "execution_count": 57,
   "id": "9c11d4a2",
   "metadata": {},
   "outputs": [
    {
     "name": "stdout",
     "output_type": "stream",
     "text": [
      "Use 12 labels\n"
     ]
    },
    {
     "name": "stderr",
     "output_type": "stream",
     "text": [
      "100%|██████████| 1409/1409 [35:19<00:00,  1.50s/it]\n"
     ]
    },
    {
     "data": {
      "text/plain": [
       "per:place_of_residence                 95\n",
       "org:founded_by                         85\n",
       "per:other_family                       75\n",
       "per:siblings                           71\n",
       "per:product                            69\n",
       "per:religion                           56\n",
       "org:political/religious_affiliation    52\n",
       "per:place_of_birth                     52\n",
       "per:schools_attended                   42\n",
       "org:number_of_employees/members        37\n",
       "org:dissolved                          36\n",
       "per:place_of_death                     12\n",
       "Name: label, dtype: int64"
      ]
     },
     "execution_count": 57,
     "metadata": {},
     "output_type": "execute_result"
    }
   ],
   "source": [
    "train_aug = pos_augmentation(train,exc_limit=200,pacing=False)\n",
    "train_aug['label'].value_counts()"
   ]
  },
  {
   "cell_type": "code",
   "execution_count": 75,
   "id": "5767126d",
   "metadata": {},
   "outputs": [],
   "source": [
    "# train_aug.to_csv('./dataset/train/train_aug_pos200.csv',index=False,encoding='utf-8')"
   ]
  },
  {
   "cell_type": "code",
   "execution_count": 58,
   "id": "a57ab1f0",
   "metadata": {},
   "outputs": [
    {
     "data": {
      "text/plain": [
       "no_relation                            9534\n",
       "org:top_members/employees              4284\n",
       "per:employee_of                        3573\n",
       "per:title                              2103\n",
       "org:member_of                          1866\n",
       "org:alternate_names                    1320\n",
       "per:origin                             1234\n",
       "org:place_of_headquarters              1195\n",
       "per:date_of_birth                      1130\n",
       "per:alternate_names                    1001\n",
       "per:spouse                              795\n",
       "per:colleagues                          534\n",
       "per:parents                             520\n",
       "org:founded                             450\n",
       "org:members                             420\n",
       "per:date_of_death                       418\n",
       "org:product                             380\n",
       "per:children                            304\n",
       "per:place_of_residence                  288\n",
       "per:other_family                        265\n",
       "org:founded_by                          240\n",
       "per:place_of_birth                      218\n",
       "per:product                             208\n",
       "per:siblings                            207\n",
       "per:religion                            152\n",
       "org:political/religious_affiliation     150\n",
       "per:schools_attended                    124\n",
       "org:dissolved                           102\n",
       "org:number_of_employees/members          85\n",
       "per:place_of_death                       52\n",
       "Name: label, dtype: int64"
      ]
     },
     "execution_count": 58,
     "metadata": {},
     "output_type": "execute_result"
    }
   ],
   "source": [
    "result = pd.concat([train,train_aug],axis=0).reset_index(drop=True)\n",
    "result['label'].value_counts()"
   ]
  },
  {
   "cell_type": "code",
   "execution_count": 59,
   "id": "a742514a",
   "metadata": {},
   "outputs": [],
   "source": [
    "result.to_csv('./dataset/train/train_pos200.csv',index=False,encoding='utf-8', header=True)"
   ]
  },
  {
   "cell_type": "markdown",
   "id": "8494de10",
   "metadata": {},
   "source": [
    "400 기준"
   ]
  },
  {
   "cell_type": "code",
   "execution_count": 4,
   "id": "469a592f",
   "metadata": {},
   "outputs": [
    {
     "name": "stdout",
     "output_type": "stream",
     "text": [
      "Use 14 labels\n"
     ]
    },
    {
     "name": "stderr",
     "output_type": "stream",
     "text": [
      "100%|██████████| 2093/2093 [52:03<00:00,  1.49s/it]\n"
     ]
    },
    {
     "data": {
      "text/plain": [
       "org:product                            193\n",
       "per:children                           136\n",
       "per:place_of_residence                  95\n",
       "org:founded_by                          85\n",
       "per:other_family                        75\n",
       "per:siblings                            71\n",
       "per:product                             69\n",
       "per:religion                            56\n",
       "org:political/religious_affiliation     52\n",
       "per:place_of_birth                      52\n",
       "per:schools_attended                    42\n",
       "org:number_of_employees/members         37\n",
       "org:dissolved                           36\n",
       "per:place_of_death                      12\n",
       "Name: label, dtype: int64"
      ]
     },
     "execution_count": 4,
     "metadata": {},
     "output_type": "execute_result"
    }
   ],
   "source": [
    "train_aug_400 = pos_augmentation(train,exc_limit=400,pacing=False)\n",
    "train_aug_400['label'].value_counts()"
   ]
  },
  {
   "cell_type": "code",
   "execution_count": null,
   "id": "8b802ae2",
   "metadata": {},
   "outputs": [],
   "source": [
    "# train_aug_400.to_csv('./dataset/train/train_aug_pos400.csv',index=False,encoding='utf-8',header=True)"
   ]
  },
  {
   "cell_type": "code",
   "execution_count": 5,
   "id": "fc175596",
   "metadata": {},
   "outputs": [
    {
     "data": {
      "text/plain": [
       "no_relation                            9534\n",
       "org:top_members/employees              4284\n",
       "per:employee_of                        3573\n",
       "per:title                              2103\n",
       "org:member_of                          1866\n",
       "org:alternate_names                    1320\n",
       "per:origin                             1234\n",
       "org:place_of_headquarters              1195\n",
       "per:date_of_birth                      1130\n",
       "per:alternate_names                    1001\n",
       "per:spouse                              795\n",
       "org:product                             573\n",
       "per:colleagues                          534\n",
       "per:parents                             520\n",
       "org:founded                             450\n",
       "per:children                            440\n",
       "org:members                             420\n",
       "per:date_of_death                       418\n",
       "per:place_of_residence                  288\n",
       "per:other_family                        265\n",
       "org:founded_by                          240\n",
       "per:place_of_birth                      218\n",
       "per:product                             208\n",
       "per:siblings                            207\n",
       "per:religion                            152\n",
       "org:political/religious_affiliation     150\n",
       "per:schools_attended                    124\n",
       "org:dissolved                           102\n",
       "org:number_of_employees/members          85\n",
       "per:place_of_death                       52\n",
       "Name: label, dtype: int64"
      ]
     },
     "execution_count": 5,
     "metadata": {},
     "output_type": "execute_result"
    }
   ],
   "source": [
    "result400 = pd.concat([train,train_aug_400],axis=0).reset_index(drop=True)\n",
    "result400['label'].value_counts()"
   ]
  },
  {
   "cell_type": "code",
   "execution_count": 6,
   "id": "eab914e6",
   "metadata": {},
   "outputs": [],
   "source": [
    "result400.to_csv('./dataset/train/train_pos400.csv',index=False,encoding='utf-8',header=True)"
   ]
  },
  {
   "cell_type": "markdown",
   "id": "a0de10f2",
   "metadata": {},
   "source": [
    "레전드 13시간"
   ]
  },
  {
   "cell_type": "code",
   "execution_count": 35,
   "id": "9410fef6",
   "metadata": {},
   "outputs": [
    {
     "name": "stderr",
     "output_type": "stream",
     "text": [
      "100%|██████████| 31061/31061 [13:10:32<00:00,  1.53s/it]  \n"
     ]
    }
   ],
   "source": [
    "# train_aug = pos_augmentation(train,exc_limit=200,pacing=False) #pacing 띄어쓰기 보정 오류나서 그냥 토큰 단위로 \" \" 보정함...\n",
    "# result = pd.concat(train,train_aug,axis=0)\n",
    "# result.shape\n",
    "\n",
    "\n",
    "# 1차 시기-->acc_label 제대로 안 먹어서 no_relation 포함되었고 value_counts() 엉망이라 acc_label 수정-->13시간 10분 32초\n",
    "# 100%|██████████| 31061/31061 [13:10:32<00:00,  1.53s/it]  \n"
   ]
  },
  {
   "cell_type": "markdown",
   "id": "8ba5e06f",
   "metadata": {},
   "source": [
    "## 4. 원본 train과 증강 result 비교"
   ]
  },
  {
   "cell_type": "code",
   "execution_count": 8,
   "id": "50e1c32e",
   "metadata": {},
   "outputs": [
    {
     "data": {
      "image/png": "[encoded data removed]",
      "text/plain": [
       "<Figure size 864x1008 with 2 Axes>"
      ]
     },
     "metadata": {
      "needs_background": "light"
     },
     "output_type": "display_data"
    }
   ],
   "source": [
    "import matplotlib.pyplot as plt\n",
    "import seaborn as sns\n",
    "\n",
    "plt.figure(figsize=(12,14))\n",
    "\n",
    "plt.subplot(2,1,1)\n",
    "sns.countplot(y='label',data=train.loc[train['label']!='no_relation',:],order=train['label'].value_counts().index)\n",
    "plt.title('original train dataset')\n",
    "\n",
    "plt.subplot(2,1,2)\n",
    "sns.countplot(y='label',data=result400.loc[result400['label']!='no_relation',:],order=result400['label'].value_counts().index)\n",
    "plt.title('augmentation train dataset')\n",
    "\n",
    "plt.show()"
   ]
  },
  {
   "cell_type": "markdown",
   "id": "8d107a56",
   "metadata": {},
   "source": [
    "불균형이 눈에 띄게 개선된 편은 아니다. 아무래도 개수가 적은 label이 대상이지만, 형용사와 부사가 포함된 문장만 제거된 버전으로 새로 생성되는 거라 문장 수가 크게 불어나지 않은 이유 때문인 것 같다."
   ]
  }
 ],
 "metadata": {
  "kernelspec": {
   "display_name": "Python 3 (ipykernel)",
   "language": "python",
   "name": "python3"
  },
  "language_info": {
   "codemirror_mode": {
    "name": "ipython",
    "version": 3
   },
   "file_extension": ".py",
   "mimetype": "text/x-python",
   "name": "python",
   "nbconvert_exporter": "python",
   "pygments_lexer": "ipython3",
   "version": "3.8.13"
  }
 },
 "nbformat": 4,
 "nbformat_minor": 5
}
